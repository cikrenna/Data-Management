{
 "cells": [
  {
   "cell_type": "markdown",
   "id": "4ff1e090",
   "metadata": {},
   "source": [
    "# Mario data on Neo4j"
   ]
  },
  {
   "cell_type": "code",
   "execution_count": 5,
   "id": "e0961635",
   "metadata": {},
   "outputs": [],
   "source": [
    "import pandas as pd\n",
    "from neo4j import GraphDatabase\n",
    "import os\n",
    "from dotenv import load_dotenv"
   ]
  },
  {
   "cell_type": "code",
   "execution_count": 6,
   "id": "ae194014",
   "metadata": {},
   "outputs": [],
   "source": [
    "# Load environment variables from .env file\n",
    "load_dotenv()\n",
    "# Ensure the .env file is in the same directory as this script\n",
    "if not os.path.exists('.env'):\n",
    "    raise FileNotFoundError(\"The .env file is missing. Please create it with the necessary credentials.\")\n",
    "\n",
    "# --- Configuration ---\n",
    "AURA_URI = os.getenv(\"NEO4J_URI\")\n",
    "AURA_USER = os.getenv(\"NEO4J_USERNAME\")\n",
    "AURA_PASSWORD = os.getenv(\"NEO4J_PASSWORD\")"
   ]
  },
  {
   "cell_type": "code",
   "execution_count": 28,
   "id": "d0224d9f",
   "metadata": {},
   "outputs": [],
   "source": [
    "class MarioGraphDBImporter:\n",
    "    \"\"\"\n",
    "    A class to import Mario franchise data from CSV files into a Neo4j database.\n",
    "    \"\"\"\n",
    "\n",
    "    def __init__(self, uri, user, password):\n",
    "        \"\"\"\n",
    "        Initializes the importer and connects to the Neo4j database.\n",
    "        \"\"\"\n",
    "        self.driver = GraphDatabase.driver(uri, auth=(user, password))\n",
    "        self.driver.verify_connectivity()\n",
    "        print(\"✅ Successfully connected to Neo4j AuraDB.\")\n",
    "\n",
    "    def cleanup_database(self):\n",
    "        \"\"\"\n",
    "        Deletes all nodes and relationships from the database for a clean import.\n",
    "        \"\"\"\n",
    "        print(\"🧹 Deleting all existing data from the database...\")\n",
    "        with self.driver.session(database=\"neo4j\") as session:\n",
    "            session.run(\"MATCH (n) DETACH DELETE n\")\n",
    "        print(\"✅ Database is now empty.\")\n",
    "        \n",
    "    def close(self):\n",
    "        \"\"\"\n",
    "        Closes the database connection.\n",
    "        \"\"\"\n",
    "        self.driver.close()\n",
    "        print(\"✅ Database connection closed.\")\n",
    "\n",
    "    def setup_constraints(self):\n",
    "        \"\"\"\n",
    "        Sets up unique constraints on node labels for data integrity and performance.\n",
    "        \"\"\"\n",
    "        with self.driver.session(database=\"neo4j\") as session:\n",
    "            # Create unique constraints for Game (more specific for game releases) and Character nodes\n",
    "            session.run(\"CREATE CONSTRAINT IF NOT EXISTS FOR (g:Game) REQUIRE g.gameId IS UNIQUE\")\n",
    "            session.run(\"CREATE CONSTRAINT IF NOT EXISTS FOR (c:Character) REQUIRE c.name IS UNIQUE\")\n",
    "            print(\"✅ Constraints created for :Game(gameId) and :Character(name).\")\n",
    "\n",
    "            # Add additional indexes for common query patterns\n",
    "            session.run(\"CREATE INDEX IF NOT EXISTS FOR (g:Game) ON (g.year)\")\n",
    "            session.run(\"CREATE INDEX IF NOT EXISTS FOR (g:Game) ON (g.console)\")\n",
    "            session.run(\"CREATE INDEX IF NOT EXISTS FOR (c:Character) ON (c.species)\")\n",
    "            print(\"✅ Additional indexes created for :Game(year), :Game(console), and :Character(species).\")\n",
    "\n",
    "\n",
    "    def import_nodes_and_game_relations(self, merged_data_path):\n",
    "        \"\"\"\n",
    "        Imports Game and Character nodes and creates distinct relationship types\n",
    "        (BOSS_IN, ENEMY_IN, CHARACTER_IN) between them.\n",
    "        Each game release (name, console, year) is treated as a unique Game node.\n",
    "        \"\"\"\n",
    "        df = pd.read_csv(merged_data_path)\n",
    "        df.dropna(subset=['Game', 'Figure', 'Relation', 'Console', 'Year'], inplace=True)\n",
    "\n",
    "        # Replace NaN in 'Sales' with 0 before importing, a common approach which cleans data at the source\n",
    "        # In integration part, the NaN value correctly signifies that\n",
    "        # sales data was \"not found\" or \"not applicable\" during the merge to reflect the state of the data.\n",
    "        # Now, in storage step, we replace NaN with 0 to ensure that the database\n",
    "        # can handle these values without issues\n",
    "        df['Sales'] = df['Sales'].fillna(0)\n",
    "\n",
    "        # Convert the 'Species' column into a list of strings\n",
    "        df['Species'] = df['Species'].fillna('').apply(lambda x: [s.strip() for s in str(x).split(';') if s.strip()])\n",
    "\n",
    "        print(f\" Importing {len(df)} relationships from '{merged_data_path}'...\")\n",
    "        records = df.to_dict('records')\n",
    "\n",
    "        # This query uses APOC to create relationships with dynamic types\n",
    "        # It first creates a unique game identifier to treat each release as a distinct node\n",
    "        query = \"\"\"\n",
    "        UNWIND $records AS row\n",
    "        // Create a unique ID for each game release\n",
    "        WITH row, row.Game + '_' + row.Console + '_' + row.Year AS gameId\n",
    "\n",
    "        // Create or find the Game node based on the unique gameId\n",
    "        MERGE (g:Game {gameId: gameId})\n",
    "        ON CREATE SET\n",
    "            g.name = row.Game,\n",
    "            g.year = toInteger(row.Year),\n",
    "            g.console = row.Console,\n",
    "            g.sales = toFloat(row.Sales)\n",
    "        ON MATCH SET\n",
    "            // If the game already exists, update all its properties\n",
    "            // to reflect any changes in the source CSV.\n",
    "            g.name = row.Game,\n",
    "            g.year = toInteger(row.Year),\n",
    "            g.console = row.Console,\n",
    "            g.sales = toFloat(row.Sales)\n",
    "\n",
    "        // Create or find the Character node\n",
    "        MERGE (c:Character {name: row.Figure})\n",
    "        ON CREATE SET\n",
    "            c.species = row.Species\n",
    "        ON MATCH SET\n",
    "            // Only update species if the new list from the CSV is not empty\n",
    "            // This prevents overwriting existing data with an empty list\n",
    "            c.species = CASE WHEN size(row.Species) > 0 THEN row.Species ELSE c.species END\n",
    "\n",
    "        // Explicitly pass variables to the next part of the query\n",
    "        WITH c, g, row\n",
    "\n",
    "        // Use apoc.merge.relationship to create a relationship\n",
    "        // where the type is taken directly from the 'Relation' column.\n",
    "        CALL apoc.merge.relationship(c, row.Relation, {}, {}, g) YIELD rel\n",
    "        RETURN count(rel)\n",
    "        \"\"\"\n",
    "        # apoc is used to safely create the relationship only if it doesn't already exist\n",
    "        # Then, AuraDB includes the APOC library by default\n",
    "\n",
    "        with self.driver.session(database=\"neo4j\") as session:\n",
    "            session.run(query, records=records)\n",
    "        print(\"✅ Finished importing games, characters, and their distinct roles.\")\n",
    "\n",
    "\n",
    "    def import_character_relations(self, api_data_path):\n",
    "        \"\"\"\n",
    "        Imports FRIEND_WITH and ENEMY_WITH relationships between characters.\n",
    "        \"\"\"\n",
    "        df = pd.read_csv(api_data_path)\n",
    "        df.dropna(subset=['Figure', 'RelatedCharacter', 'RelationshipType'], inplace=True)\n",
    "        \n",
    "        # Convert species columns into a list of strings, handling NaNs\n",
    "        df['FigureSpecies'] = df['FigureSpecies'].fillna('').apply(lambda x: [s.strip() for s in str(x).split(';') if s.strip()])\n",
    "        df['RelatedCharacterSpecies'] = df['RelatedCharacterSpecies'].fillna('').apply(lambda x: [s.strip() for s in str(x).split(';') if s.strip()])\n",
    "        \n",
    "        print(f\" Importing {len(df)} character relationships from '{api_data_path}'...\")\n",
    "        \n",
    "        records = df.to_dict('records')\n",
    "\n",
    "        query = \"\"\"\n",
    "        UNWIND $records AS row\n",
    "        // Merge the first character, setting species on creation\n",
    "        MERGE (c1:Character {name: row.Figure})\n",
    "        ON CREATE SET c1.species = row.FigureSpecies\n",
    "        ON MATCH SET\n",
    "          // Only set species if it's currently null and the new data is not empty\n",
    "          c1.species = CASE WHEN c1.species IS NULL AND size(row.FigureSpecies) > 0 THEN row.FigureSpecies ELSE c1.species END\n",
    "\n",
    "        // Merge the second character, setting species on creation\n",
    "        MERGE (c2:Character {name: row.RelatedCharacter})\n",
    "        ON CREATE SET c2.species = row.RelatedCharacterSpecies\n",
    "        ON MATCH SET\n",
    "          // Only set species if it's currently null and the new data is not empty\n",
    "          c2.species = CASE WHEN c2.species IS NULL AND size(row.RelatedCharacterSpecies) > 0 THEN row.RelatedCharacterSpecies ELSE c2.species END\n",
    "\n",
    "        // Explicitly pass variables to the next part of the query\n",
    "        WITH c1, c2, row\n",
    "        \n",
    "        CALL apoc.merge.relationship(c1, row.RelationshipType, {}, {}, c2) YIELD rel\n",
    "        RETURN count(rel)\n",
    "        \"\"\"\n",
    "        \n",
    "        with self.driver.session(database=\"neo4j\") as session:\n",
    "            session.run(query, records=records)\n",
    "        print(\"✅ Finished importing character-to-character relationships.\")"
   ]
  },
  {
   "cell_type": "code",
   "execution_count": 29,
   "id": "01b6c52e",
   "metadata": {},
   "outputs": [
    {
     "name": "stdout",
     "output_type": "stream",
     "text": [
      "✅ Successfully connected to Neo4j AuraDB.\n",
      "🧹 Deleting all existing data from the database...\n",
      "✅ Database is now empty.\n",
      "✅ Constraints created for :Game(gameId) and :Character(name).\n",
      "✅ Additional indexes created for :Game(year), :Game(console), and :Character(species).\n",
      " Importing 6959 relationships from 'data/merged_data.csv'...\n",
      "✅ Finished importing games, characters, and their distinct roles.\n",
      " Importing 2524 character relationships from 'data/merged_data_API.csv'...\n",
      "✅ Finished importing character-to-character relationships.\n",
      "✅ Database connection closed.\n"
     ]
    }
   ],
   "source": [
    "# Create an importer instance with your credentials\n",
    "importer = MarioGraphDBImporter(AURA_URI, AURA_USER, AURA_PASSWORD)\n",
    "\n",
    "# 0. Clean the database before importing (for a fresh start)\n",
    "importer.cleanup_database()\n",
    "\n",
    "# 1. Set up database constraints (run this first)\n",
    "importer.setup_constraints()\n",
    "\n",
    "# 2. Import data from the first CSV file\n",
    "importer.import_nodes_and_game_relations('data/merged_data.csv')\n",
    "\n",
    "# 3. Import data from the second CSV file\n",
    "importer.import_character_relations('data/merged_data_API.csv')\n",
    "\n",
    "# 4. Close the connection\n",
    "importer.close()"
   ]
  },
  {
   "cell_type": "markdown",
   "id": "27e3b304",
   "metadata": {},
   "source": [
    "# Queries"
   ]
  },
  {
   "cell_type": "code",
   "execution_count": 30,
   "id": "fece3602",
   "metadata": {},
   "outputs": [
    {
     "name": "stdout",
     "output_type": "stream",
     "text": [
      "✅ Successfully connected to Neo4j AuraDB.\n"
     ]
    }
   ],
   "source": [
    "import plotly.express as px\n",
    "\n",
    "# --- Database Connection ---\n",
    "# This function will help run queries and return the results as a DataFrame\n",
    "def run_query(driver, query):\n",
    "    \"\"\"\n",
    "    Executes a Cypher query and returns the result as a pandas DataFrame.\n",
    "    \"\"\"\n",
    "    with driver.session(database=\"neo4j\") as session:\n",
    "        result = session.run(query)\n",
    "        return pd.DataFrame([r.data() for r in result])\n",
    "\n",
    "# Establish the connection driver\n",
    "try:\n",
    "    driver = GraphDatabase.driver(AURA_URI, auth=(AURA_USER, AURA_PASSWORD))\n",
    "    driver.verify_connectivity()\n",
    "    print(\"✅ Successfully connected to Neo4j AuraDB.\")\n",
    "except Exception as e:\n",
    "    print(f\"❌ Failed to connect to Neo4j: {e}\")\n"
   ]
  },
  {
   "cell_type": "markdown",
   "id": "06789f1c",
   "metadata": {},
   "source": [
    "## Query 1"
   ]
  },
  {
   "cell_type": "markdown",
   "id": "e9b35e17",
   "metadata": {},
   "source": [
    "### What are the top 10 best-selling games?"
   ]
  },
  {
   "cell_type": "code",
   "execution_count": 31,
   "id": "7471f7f6",
   "metadata": {},
   "outputs": [
    {
     "name": "stdout",
     "output_type": "stream",
     "text": [
      "--- Top 10 Best-Selling Games ---\n"
     ]
    },
    {
     "data": {
      "application/vnd.microsoft.datawrangler.viewer.v0+json": {
       "columns": [
        {
         "name": "index",
         "rawType": "int64",
         "type": "integer"
        },
        {
         "name": "Game",
         "rawType": "object",
         "type": "string"
        },
        {
         "name": "SalesInMillions",
         "rawType": "float64",
         "type": "float"
        }
       ],
       "ref": "b8e02366-8ee7-4786-b0b0-1ddba9ba1d78",
       "rows": [
        [
         "0",
         "super mario bros.",
         "45.31"
        ],
        [
         "1",
         "tetris",
         "35.84"
        ],
        [
         "2",
         "mario kart wii",
         "35.52"
        ],
        [
         "3",
         "new super mario bros.",
         "29.8"
        ],
        [
         "4",
         "new super mario bros. wii",
         "28.32"
        ],
        [
         "5",
         "super mario world",
         "26.07"
        ],
        [
         "6",
         "mario kart ds",
         "23.21"
        ],
        [
         "7",
         "super mario bros. 3",
         "22.48"
        ],
        [
         "8",
         "super mario 64",
         "22.19"
        ],
        [
         "9",
         "super mario land",
         "18.14"
        ]
       ],
       "shape": {
        "columns": 2,
        "rows": 10
       }
      },
      "text/html": [
       "<div>\n",
       "<style scoped>\n",
       "    .dataframe tbody tr th:only-of-type {\n",
       "        vertical-align: middle;\n",
       "    }\n",
       "\n",
       "    .dataframe tbody tr th {\n",
       "        vertical-align: top;\n",
       "    }\n",
       "\n",
       "    .dataframe thead th {\n",
       "        text-align: right;\n",
       "    }\n",
       "</style>\n",
       "<table border=\"1\" class=\"dataframe\">\n",
       "  <thead>\n",
       "    <tr style=\"text-align: right;\">\n",
       "      <th></th>\n",
       "      <th>Game</th>\n",
       "      <th>SalesInMillions</th>\n",
       "    </tr>\n",
       "  </thead>\n",
       "  <tbody>\n",
       "    <tr>\n",
       "      <th>0</th>\n",
       "      <td>super mario bros.</td>\n",
       "      <td>45.31</td>\n",
       "    </tr>\n",
       "    <tr>\n",
       "      <th>1</th>\n",
       "      <td>tetris</td>\n",
       "      <td>35.84</td>\n",
       "    </tr>\n",
       "    <tr>\n",
       "      <th>2</th>\n",
       "      <td>mario kart wii</td>\n",
       "      <td>35.52</td>\n",
       "    </tr>\n",
       "    <tr>\n",
       "      <th>3</th>\n",
       "      <td>new super mario bros.</td>\n",
       "      <td>29.80</td>\n",
       "    </tr>\n",
       "    <tr>\n",
       "      <th>4</th>\n",
       "      <td>new super mario bros. wii</td>\n",
       "      <td>28.32</td>\n",
       "    </tr>\n",
       "    <tr>\n",
       "      <th>5</th>\n",
       "      <td>super mario world</td>\n",
       "      <td>26.07</td>\n",
       "    </tr>\n",
       "    <tr>\n",
       "      <th>6</th>\n",
       "      <td>mario kart ds</td>\n",
       "      <td>23.21</td>\n",
       "    </tr>\n",
       "    <tr>\n",
       "      <th>7</th>\n",
       "      <td>super mario bros. 3</td>\n",
       "      <td>22.48</td>\n",
       "    </tr>\n",
       "    <tr>\n",
       "      <th>8</th>\n",
       "      <td>super mario 64</td>\n",
       "      <td>22.19</td>\n",
       "    </tr>\n",
       "    <tr>\n",
       "      <th>9</th>\n",
       "      <td>super mario land</td>\n",
       "      <td>18.14</td>\n",
       "    </tr>\n",
       "  </tbody>\n",
       "</table>\n",
       "</div>"
      ],
      "text/plain": [
       "                        Game  SalesInMillions\n",
       "0          super mario bros.            45.31\n",
       "1                     tetris            35.84\n",
       "2             mario kart wii            35.52\n",
       "3      new super mario bros.            29.80\n",
       "4  new super mario bros. wii            28.32\n",
       "5          super mario world            26.07\n",
       "6              mario kart ds            23.21\n",
       "7        super mario bros. 3            22.48\n",
       "8             super mario 64            22.19\n",
       "9           super mario land            18.14"
      ]
     },
     "metadata": {},
     "output_type": "display_data"
    },
    {
     "data": {
      "application/vnd.plotly.v1+json": {
       "config": {
        "plotlyServerURL": "https://plot.ly"
       },
       "data": [
        {
         "hovertemplate": "Sales (in millions)=%{text}<br>Game Title=%{y}<extra></extra>",
         "legendgroup": "",
         "marker": {
          "color": "#5664ff",
          "pattern": {
           "shape": ""
          }
         },
         "name": "",
         "orientation": "h",
         "showlegend": false,
         "text": {
          "bdata": "pHA9CtcjMkBxPQrXozA2QHsUrkfhejZA9ihcj8I1N0BSuB6F6xE6QFK4HoXrUTxAzczMzMzMPUDD9Shcj8JBQOxRuB6F60FASOF6FK6nRkA=",
          "dtype": "f8"
         },
         "textposition": "outside",
         "texttemplate": "%{text:.2f}M",
         "type": "bar",
         "x": {
          "bdata": "pHA9CtcjMkBxPQrXozA2QHsUrkfhejZA9ihcj8I1N0BSuB6F6xE6QFK4HoXrUTxAzczMzMzMPUDD9Shcj8JBQOxRuB6F60FASOF6FK6nRkA=",
          "dtype": "f8"
         },
         "xaxis": "x",
         "y": [
          "super mario land",
          "super mario 64",
          "super mario bros. 3",
          "mario kart ds",
          "super mario world",
          "new super mario bros. wii",
          "new super mario bros.",
          "mario kart wii",
          "tetris",
          "super mario bros."
         ],
         "yaxis": "y"
        }
       ],
       "layout": {
        "barmode": "relative",
        "legend": {
         "tracegroupgap": 0
        },
        "showlegend": false,
        "template": {
         "data": {
          "bar": [
           {
            "error_x": {
             "color": "#2a3f5f"
            },
            "error_y": {
             "color": "#2a3f5f"
            },
            "marker": {
             "line": {
              "color": "white",
              "width": 0.5
             },
             "pattern": {
              "fillmode": "overlay",
              "size": 10,
              "solidity": 0.2
             }
            },
            "type": "bar"
           }
          ],
          "barpolar": [
           {
            "marker": {
             "line": {
              "color": "white",
              "width": 0.5
             },
             "pattern": {
              "fillmode": "overlay",
              "size": 10,
              "solidity": 0.2
             }
            },
            "type": "barpolar"
           }
          ],
          "carpet": [
           {
            "aaxis": {
             "endlinecolor": "#2a3f5f",
             "gridcolor": "#C8D4E3",
             "linecolor": "#C8D4E3",
             "minorgridcolor": "#C8D4E3",
             "startlinecolor": "#2a3f5f"
            },
            "baxis": {
             "endlinecolor": "#2a3f5f",
             "gridcolor": "#C8D4E3",
             "linecolor": "#C8D4E3",
             "minorgridcolor": "#C8D4E3",
             "startlinecolor": "#2a3f5f"
            },
            "type": "carpet"
           }
          ],
          "choropleth": [
           {
            "colorbar": {
             "outlinewidth": 0,
             "ticks": ""
            },
            "type": "choropleth"
           }
          ],
          "contour": [
           {
            "colorbar": {
             "outlinewidth": 0,
             "ticks": ""
            },
            "colorscale": [
             [
              0,
              "#0d0887"
             ],
             [
              0.1111111111111111,
              "#46039f"
             ],
             [
              0.2222222222222222,
              "#7201a8"
             ],
             [
              0.3333333333333333,
              "#9c179e"
             ],
             [
              0.4444444444444444,
              "#bd3786"
             ],
             [
              0.5555555555555556,
              "#d8576b"
             ],
             [
              0.6666666666666666,
              "#ed7953"
             ],
             [
              0.7777777777777778,
              "#fb9f3a"
             ],
             [
              0.8888888888888888,
              "#fdca26"
             ],
             [
              1,
              "#f0f921"
             ]
            ],
            "type": "contour"
           }
          ],
          "contourcarpet": [
           {
            "colorbar": {
             "outlinewidth": 0,
             "ticks": ""
            },
            "type": "contourcarpet"
           }
          ],
          "heatmap": [
           {
            "colorbar": {
             "outlinewidth": 0,
             "ticks": ""
            },
            "colorscale": [
             [
              0,
              "#0d0887"
             ],
             [
              0.1111111111111111,
              "#46039f"
             ],
             [
              0.2222222222222222,
              "#7201a8"
             ],
             [
              0.3333333333333333,
              "#9c179e"
             ],
             [
              0.4444444444444444,
              "#bd3786"
             ],
             [
              0.5555555555555556,
              "#d8576b"
             ],
             [
              0.6666666666666666,
              "#ed7953"
             ],
             [
              0.7777777777777778,
              "#fb9f3a"
             ],
             [
              0.8888888888888888,
              "#fdca26"
             ],
             [
              1,
              "#f0f921"
             ]
            ],
            "type": "heatmap"
           }
          ],
          "histogram": [
           {
            "marker": {
             "pattern": {
              "fillmode": "overlay",
              "size": 10,
              "solidity": 0.2
             }
            },
            "type": "histogram"
           }
          ],
          "histogram2d": [
           {
            "colorbar": {
             "outlinewidth": 0,
             "ticks": ""
            },
            "colorscale": [
             [
              0,
              "#0d0887"
             ],
             [
              0.1111111111111111,
              "#46039f"
             ],
             [
              0.2222222222222222,
              "#7201a8"
             ],
             [
              0.3333333333333333,
              "#9c179e"
             ],
             [
              0.4444444444444444,
              "#bd3786"
             ],
             [
              0.5555555555555556,
              "#d8576b"
             ],
             [
              0.6666666666666666,
              "#ed7953"
             ],
             [
              0.7777777777777778,
              "#fb9f3a"
             ],
             [
              0.8888888888888888,
              "#fdca26"
             ],
             [
              1,
              "#f0f921"
             ]
            ],
            "type": "histogram2d"
           }
          ],
          "histogram2dcontour": [
           {
            "colorbar": {
             "outlinewidth": 0,
             "ticks": ""
            },
            "colorscale": [
             [
              0,
              "#0d0887"
             ],
             [
              0.1111111111111111,
              "#46039f"
             ],
             [
              0.2222222222222222,
              "#7201a8"
             ],
             [
              0.3333333333333333,
              "#9c179e"
             ],
             [
              0.4444444444444444,
              "#bd3786"
             ],
             [
              0.5555555555555556,
              "#d8576b"
             ],
             [
              0.6666666666666666,
              "#ed7953"
             ],
             [
              0.7777777777777778,
              "#fb9f3a"
             ],
             [
              0.8888888888888888,
              "#fdca26"
             ],
             [
              1,
              "#f0f921"
             ]
            ],
            "type": "histogram2dcontour"
           }
          ],
          "mesh3d": [
           {
            "colorbar": {
             "outlinewidth": 0,
             "ticks": ""
            },
            "type": "mesh3d"
           }
          ],
          "parcoords": [
           {
            "line": {
             "colorbar": {
              "outlinewidth": 0,
              "ticks": ""
             }
            },
            "type": "parcoords"
           }
          ],
          "pie": [
           {
            "automargin": true,
            "type": "pie"
           }
          ],
          "scatter": [
           {
            "fillpattern": {
             "fillmode": "overlay",
             "size": 10,
             "solidity": 0.2
            },
            "type": "scatter"
           }
          ],
          "scatter3d": [
           {
            "line": {
             "colorbar": {
              "outlinewidth": 0,
              "ticks": ""
             }
            },
            "marker": {
             "colorbar": {
              "outlinewidth": 0,
              "ticks": ""
             }
            },
            "type": "scatter3d"
           }
          ],
          "scattercarpet": [
           {
            "marker": {
             "colorbar": {
              "outlinewidth": 0,
              "ticks": ""
             }
            },
            "type": "scattercarpet"
           }
          ],
          "scattergeo": [
           {
            "marker": {
             "colorbar": {
              "outlinewidth": 0,
              "ticks": ""
             }
            },
            "type": "scattergeo"
           }
          ],
          "scattergl": [
           {
            "marker": {
             "colorbar": {
              "outlinewidth": 0,
              "ticks": ""
             }
            },
            "type": "scattergl"
           }
          ],
          "scattermap": [
           {
            "marker": {
             "colorbar": {
              "outlinewidth": 0,
              "ticks": ""
             }
            },
            "type": "scattermap"
           }
          ],
          "scattermapbox": [
           {
            "marker": {
             "colorbar": {
              "outlinewidth": 0,
              "ticks": ""
             }
            },
            "type": "scattermapbox"
           }
          ],
          "scatterpolar": [
           {
            "marker": {
             "colorbar": {
              "outlinewidth": 0,
              "ticks": ""
             }
            },
            "type": "scatterpolar"
           }
          ],
          "scatterpolargl": [
           {
            "marker": {
             "colorbar": {
              "outlinewidth": 0,
              "ticks": ""
             }
            },
            "type": "scatterpolargl"
           }
          ],
          "scatterternary": [
           {
            "marker": {
             "colorbar": {
              "outlinewidth": 0,
              "ticks": ""
             }
            },
            "type": "scatterternary"
           }
          ],
          "surface": [
           {
            "colorbar": {
             "outlinewidth": 0,
             "ticks": ""
            },
            "colorscale": [
             [
              0,
              "#0d0887"
             ],
             [
              0.1111111111111111,
              "#46039f"
             ],
             [
              0.2222222222222222,
              "#7201a8"
             ],
             [
              0.3333333333333333,
              "#9c179e"
             ],
             [
              0.4444444444444444,
              "#bd3786"
             ],
             [
              0.5555555555555556,
              "#d8576b"
             ],
             [
              0.6666666666666666,
              "#ed7953"
             ],
             [
              0.7777777777777778,
              "#fb9f3a"
             ],
             [
              0.8888888888888888,
              "#fdca26"
             ],
             [
              1,
              "#f0f921"
             ]
            ],
            "type": "surface"
           }
          ],
          "table": [
           {
            "cells": {
             "fill": {
              "color": "#EBF0F8"
             },
             "line": {
              "color": "white"
             }
            },
            "header": {
             "fill": {
              "color": "#C8D4E3"
             },
             "line": {
              "color": "white"
             }
            },
            "type": "table"
           }
          ]
         },
         "layout": {
          "annotationdefaults": {
           "arrowcolor": "#2a3f5f",
           "arrowhead": 0,
           "arrowwidth": 1
          },
          "autotypenumbers": "strict",
          "coloraxis": {
           "colorbar": {
            "outlinewidth": 0,
            "ticks": ""
           }
          },
          "colorscale": {
           "diverging": [
            [
             0,
             "#8e0152"
            ],
            [
             0.1,
             "#c51b7d"
            ],
            [
             0.2,
             "#de77ae"
            ],
            [
             0.3,
             "#f1b6da"
            ],
            [
             0.4,
             "#fde0ef"
            ],
            [
             0.5,
             "#f7f7f7"
            ],
            [
             0.6,
             "#e6f5d0"
            ],
            [
             0.7,
             "#b8e186"
            ],
            [
             0.8,
             "#7fbc41"
            ],
            [
             0.9,
             "#4d9221"
            ],
            [
             1,
             "#276419"
            ]
           ],
           "sequential": [
            [
             0,
             "#0d0887"
            ],
            [
             0.1111111111111111,
             "#46039f"
            ],
            [
             0.2222222222222222,
             "#7201a8"
            ],
            [
             0.3333333333333333,
             "#9c179e"
            ],
            [
             0.4444444444444444,
             "#bd3786"
            ],
            [
             0.5555555555555556,
             "#d8576b"
            ],
            [
             0.6666666666666666,
             "#ed7953"
            ],
            [
             0.7777777777777778,
             "#fb9f3a"
            ],
            [
             0.8888888888888888,
             "#fdca26"
            ],
            [
             1,
             "#f0f921"
            ]
           ],
           "sequentialminus": [
            [
             0,
             "#0d0887"
            ],
            [
             0.1111111111111111,
             "#46039f"
            ],
            [
             0.2222222222222222,
             "#7201a8"
            ],
            [
             0.3333333333333333,
             "#9c179e"
            ],
            [
             0.4444444444444444,
             "#bd3786"
            ],
            [
             0.5555555555555556,
             "#d8576b"
            ],
            [
             0.6666666666666666,
             "#ed7953"
            ],
            [
             0.7777777777777778,
             "#fb9f3a"
            ],
            [
             0.8888888888888888,
             "#fdca26"
            ],
            [
             1,
             "#f0f921"
            ]
           ]
          },
          "colorway": [
           "#636efa",
           "#EF553B",
           "#00cc96",
           "#ab63fa",
           "#FFA15A",
           "#19d3f3",
           "#FF6692",
           "#B6E880",
           "#FF97FF",
           "#FECB52"
          ],
          "font": {
           "color": "#2a3f5f"
          },
          "geo": {
           "bgcolor": "white",
           "lakecolor": "white",
           "landcolor": "white",
           "showlakes": true,
           "showland": true,
           "subunitcolor": "#C8D4E3"
          },
          "hoverlabel": {
           "align": "left"
          },
          "hovermode": "closest",
          "mapbox": {
           "style": "light"
          },
          "paper_bgcolor": "white",
          "plot_bgcolor": "white",
          "polar": {
           "angularaxis": {
            "gridcolor": "#EBF0F8",
            "linecolor": "#EBF0F8",
            "ticks": ""
           },
           "bgcolor": "white",
           "radialaxis": {
            "gridcolor": "#EBF0F8",
            "linecolor": "#EBF0F8",
            "ticks": ""
           }
          },
          "scene": {
           "xaxis": {
            "backgroundcolor": "white",
            "gridcolor": "#DFE8F3",
            "gridwidth": 2,
            "linecolor": "#EBF0F8",
            "showbackground": true,
            "ticks": "",
            "zerolinecolor": "#EBF0F8"
           },
           "yaxis": {
            "backgroundcolor": "white",
            "gridcolor": "#DFE8F3",
            "gridwidth": 2,
            "linecolor": "#EBF0F8",
            "showbackground": true,
            "ticks": "",
            "zerolinecolor": "#EBF0F8"
           },
           "zaxis": {
            "backgroundcolor": "white",
            "gridcolor": "#DFE8F3",
            "gridwidth": 2,
            "linecolor": "#EBF0F8",
            "showbackground": true,
            "ticks": "",
            "zerolinecolor": "#EBF0F8"
           }
          },
          "shapedefaults": {
           "line": {
            "color": "#2a3f5f"
           }
          },
          "ternary": {
           "aaxis": {
            "gridcolor": "#DFE8F3",
            "linecolor": "#A2B1C6",
            "ticks": ""
           },
           "baxis": {
            "gridcolor": "#DFE8F3",
            "linecolor": "#A2B1C6",
            "ticks": ""
           },
           "bgcolor": "white",
           "caxis": {
            "gridcolor": "#DFE8F3",
            "linecolor": "#A2B1C6",
            "ticks": ""
           }
          },
          "title": {
           "x": 0.05
          },
          "xaxis": {
           "automargin": true,
           "gridcolor": "#EBF0F8",
           "linecolor": "#EBF0F8",
           "ticks": "",
           "title": {
            "standoff": 15
           },
           "zerolinecolor": "#EBF0F8",
           "zerolinewidth": 2
          },
          "yaxis": {
           "automargin": true,
           "gridcolor": "#EBF0F8",
           "linecolor": "#EBF0F8",
           "ticks": "",
           "title": {
            "standoff": 15
           },
           "zerolinecolor": "#EBF0F8",
           "zerolinewidth": 2
          }
         }
        },
        "title": {
         "text": "Top 10 Best-Selling Mario Games"
        },
        "xaxis": {
         "anchor": "y",
         "domain": [
          0,
          1
         ],
         "range": [
          0,
          49.84100000000001
         ],
         "title": {
          "text": "Sales (in millions)"
         }
        },
        "yaxis": {
         "anchor": "x",
         "categoryorder": "total ascending",
         "domain": [
          0,
          1
         ],
         "title": {
          "text": "Game Title"
         }
        }
       }
      }
     },
     "metadata": {},
     "output_type": "display_data"
    }
   ],
   "source": [
    "# Define the Cypher query\n",
    "top_sales_query = \"\"\"\n",
    "MATCH (g:Game)\n",
    "// Explicitly group by game name and aggregate the sales.\n",
    "// Since all releases of a game title share the same sales figure, max() is a safe choice.\n",
    "RETURN g.name AS Game, max(g.sales) AS SalesInMillions\n",
    "ORDER BY SalesInMillions DESC\n",
    "LIMIT 10\n",
    "\"\"\"\n",
    "\n",
    "# Run the query and get the DataFrame\n",
    "df_sales = run_query(driver, top_sales_query)\n",
    "\n",
    "# Display the tabular data\n",
    "print(\"--- Top 10 Best-Selling Games ---\")\n",
    "display(df_sales)\n",
    "\n",
    "# --- Visualize the results ---\n",
    "# Sorting the dataframe makes the horizontal bar chart display correctly (highest at top)\n",
    "df_sales_sorted = df_sales.sort_values('SalesInMillions', ascending=True)\n",
    "\n",
    "fig = px.bar(\n",
    "    df_sales_sorted,\n",
    "    x=\"SalesInMillions\",\n",
    "    y=\"Game\",\n",
    "    range_x=[0, df_sales_sorted['SalesInMillions'].max() * 1.1],  # Add some padding to the x-axis\n",
    "    orientation='h',\n",
    "    title=\"Top 10 Best-Selling Mario Games\",\n",
    "    labels={'SalesInMillions': 'Sales (in millions)', 'Game': 'Game Title'},\n",
    "    text=\"SalesInMillions\",\n",
    "    template=\"plotly_white\"\n",
    ")\n",
    "\n",
    "# Update layout for a cleaner look\n",
    "fig.update_traces(\n",
    "    texttemplate='%{text:.2f}M',\n",
    "    textposition='outside',\n",
    "    # Consistent color scale for better visualization\n",
    "    marker_color=\"#5664ff\"  # Using a single color for all bars\n",
    ")\n",
    "fig.update_layout(\n",
    "    showlegend=False,\n",
    "    yaxis={'categoryorder':'total ascending'},\n",
    ")\n",
    "fig.show()"
   ]
  },
  {
   "cell_type": "markdown",
   "id": "5e4e11ed",
   "metadata": {},
   "source": [
    "## Query 2"
   ]
  },
  {
   "cell_type": "markdown",
   "id": "e65fff6c",
   "metadata": {},
   "source": [
    "### Who are the characters with the most game appearances?"
   ]
  },
  {
   "cell_type": "code",
   "execution_count": 32,
   "id": "150709bf",
   "metadata": {},
   "outputs": [
    {
     "name": "stdout",
     "output_type": "stream",
     "text": [
      "\n",
      "--- Top 10 Characters with most appearances ---\n"
     ]
    },
    {
     "data": {
      "application/vnd.microsoft.datawrangler.viewer.v0+json": {
       "columns": [
        {
         "name": "index",
         "rawType": "int64",
         "type": "integer"
        },
        {
         "name": "Character",
         "rawType": "object",
         "type": "string"
        },
        {
         "name": "Appearances",
         "rawType": "int64",
         "type": "integer"
        }
       ],
       "ref": "a4fdff17-3c6c-4fa8-af35-98e61adc6802",
       "rows": [
        [
         "0",
         "mario",
         "278"
        ],
        [
         "1",
         "luigi",
         "223"
        ],
        [
         "2",
         "princess peach",
         "186"
        ],
        [
         "3",
         "yoshi",
         "180"
        ],
        [
         "4",
         "bowser",
         "167"
        ],
        [
         "5",
         "donkey kong",
         "145"
        ],
        [
         "6",
         "toad",
         "97"
        ],
        [
         "7",
         "waluigi",
         "81"
        ],
        [
         "8",
         "birdo",
         "80"
        ],
        [
         "9",
         "boo",
         "77"
        ]
       ],
       "shape": {
        "columns": 2,
        "rows": 10
       }
      },
      "text/html": [
       "<div>\n",
       "<style scoped>\n",
       "    .dataframe tbody tr th:only-of-type {\n",
       "        vertical-align: middle;\n",
       "    }\n",
       "\n",
       "    .dataframe tbody tr th {\n",
       "        vertical-align: top;\n",
       "    }\n",
       "\n",
       "    .dataframe thead th {\n",
       "        text-align: right;\n",
       "    }\n",
       "</style>\n",
       "<table border=\"1\" class=\"dataframe\">\n",
       "  <thead>\n",
       "    <tr style=\"text-align: right;\">\n",
       "      <th></th>\n",
       "      <th>Character</th>\n",
       "      <th>Appearances</th>\n",
       "    </tr>\n",
       "  </thead>\n",
       "  <tbody>\n",
       "    <tr>\n",
       "      <th>0</th>\n",
       "      <td>mario</td>\n",
       "      <td>278</td>\n",
       "    </tr>\n",
       "    <tr>\n",
       "      <th>1</th>\n",
       "      <td>luigi</td>\n",
       "      <td>223</td>\n",
       "    </tr>\n",
       "    <tr>\n",
       "      <th>2</th>\n",
       "      <td>princess peach</td>\n",
       "      <td>186</td>\n",
       "    </tr>\n",
       "    <tr>\n",
       "      <th>3</th>\n",
       "      <td>yoshi</td>\n",
       "      <td>180</td>\n",
       "    </tr>\n",
       "    <tr>\n",
       "      <th>4</th>\n",
       "      <td>bowser</td>\n",
       "      <td>167</td>\n",
       "    </tr>\n",
       "    <tr>\n",
       "      <th>5</th>\n",
       "      <td>donkey kong</td>\n",
       "      <td>145</td>\n",
       "    </tr>\n",
       "    <tr>\n",
       "      <th>6</th>\n",
       "      <td>toad</td>\n",
       "      <td>97</td>\n",
       "    </tr>\n",
       "    <tr>\n",
       "      <th>7</th>\n",
       "      <td>waluigi</td>\n",
       "      <td>81</td>\n",
       "    </tr>\n",
       "    <tr>\n",
       "      <th>8</th>\n",
       "      <td>birdo</td>\n",
       "      <td>80</td>\n",
       "    </tr>\n",
       "    <tr>\n",
       "      <th>9</th>\n",
       "      <td>boo</td>\n",
       "      <td>77</td>\n",
       "    </tr>\n",
       "  </tbody>\n",
       "</table>\n",
       "</div>"
      ],
      "text/plain": [
       "        Character  Appearances\n",
       "0           mario          278\n",
       "1           luigi          223\n",
       "2  princess peach          186\n",
       "3           yoshi          180\n",
       "4          bowser          167\n",
       "5     donkey kong          145\n",
       "6            toad           97\n",
       "7         waluigi           81\n",
       "8           birdo           80\n",
       "9             boo           77"
      ]
     },
     "metadata": {},
     "output_type": "display_data"
    },
    {
     "data": {
      "application/vnd.plotly.v1+json": {
       "config": {
        "plotlyServerURL": "https://plot.ly"
       },
       "data": [
        {
         "hovertemplate": "Number of Game Appearances=%{x}<br>Character=%{y}<extra></extra>",
         "legendgroup": "",
         "marker": {
          "color": "#5664ff",
          "pattern": {
           "shape": ""
          }
         },
         "name": "",
         "orientation": "h",
         "showlegend": false,
         "textposition": "outside",
         "type": "bar",
         "x": {
          "bdata": "TQBQAFEAYQCRAKcAtAC6AN8AFgE=",
          "dtype": "i2"
         },
         "xaxis": "x",
         "y": [
          "boo",
          "birdo",
          "waluigi",
          "toad",
          "donkey kong",
          "bowser",
          "yoshi",
          "princess peach",
          "luigi",
          "mario"
         ],
         "yaxis": "y"
        }
       ],
       "layout": {
        "barmode": "relative",
        "legend": {
         "tracegroupgap": 0
        },
        "showlegend": false,
        "template": {
         "data": {
          "bar": [
           {
            "error_x": {
             "color": "#2a3f5f"
            },
            "error_y": {
             "color": "#2a3f5f"
            },
            "marker": {
             "line": {
              "color": "white",
              "width": 0.5
             },
             "pattern": {
              "fillmode": "overlay",
              "size": 10,
              "solidity": 0.2
             }
            },
            "type": "bar"
           }
          ],
          "barpolar": [
           {
            "marker": {
             "line": {
              "color": "white",
              "width": 0.5
             },
             "pattern": {
              "fillmode": "overlay",
              "size": 10,
              "solidity": 0.2
             }
            },
            "type": "barpolar"
           }
          ],
          "carpet": [
           {
            "aaxis": {
             "endlinecolor": "#2a3f5f",
             "gridcolor": "#C8D4E3",
             "linecolor": "#C8D4E3",
             "minorgridcolor": "#C8D4E3",
             "startlinecolor": "#2a3f5f"
            },
            "baxis": {
             "endlinecolor": "#2a3f5f",
             "gridcolor": "#C8D4E3",
             "linecolor": "#C8D4E3",
             "minorgridcolor": "#C8D4E3",
             "startlinecolor": "#2a3f5f"
            },
            "type": "carpet"
           }
          ],
          "choropleth": [
           {
            "colorbar": {
             "outlinewidth": 0,
             "ticks": ""
            },
            "type": "choropleth"
           }
          ],
          "contour": [
           {
            "colorbar": {
             "outlinewidth": 0,
             "ticks": ""
            },
            "colorscale": [
             [
              0,
              "#0d0887"
             ],
             [
              0.1111111111111111,
              "#46039f"
             ],
             [
              0.2222222222222222,
              "#7201a8"
             ],
             [
              0.3333333333333333,
              "#9c179e"
             ],
             [
              0.4444444444444444,
              "#bd3786"
             ],
             [
              0.5555555555555556,
              "#d8576b"
             ],
             [
              0.6666666666666666,
              "#ed7953"
             ],
             [
              0.7777777777777778,
              "#fb9f3a"
             ],
             [
              0.8888888888888888,
              "#fdca26"
             ],
             [
              1,
              "#f0f921"
             ]
            ],
            "type": "contour"
           }
          ],
          "contourcarpet": [
           {
            "colorbar": {
             "outlinewidth": 0,
             "ticks": ""
            },
            "type": "contourcarpet"
           }
          ],
          "heatmap": [
           {
            "colorbar": {
             "outlinewidth": 0,
             "ticks": ""
            },
            "colorscale": [
             [
              0,
              "#0d0887"
             ],
             [
              0.1111111111111111,
              "#46039f"
             ],
             [
              0.2222222222222222,
              "#7201a8"
             ],
             [
              0.3333333333333333,
              "#9c179e"
             ],
             [
              0.4444444444444444,
              "#bd3786"
             ],
             [
              0.5555555555555556,
              "#d8576b"
             ],
             [
              0.6666666666666666,
              "#ed7953"
             ],
             [
              0.7777777777777778,
              "#fb9f3a"
             ],
             [
              0.8888888888888888,
              "#fdca26"
             ],
             [
              1,
              "#f0f921"
             ]
            ],
            "type": "heatmap"
           }
          ],
          "histogram": [
           {
            "marker": {
             "pattern": {
              "fillmode": "overlay",
              "size": 10,
              "solidity": 0.2
             }
            },
            "type": "histogram"
           }
          ],
          "histogram2d": [
           {
            "colorbar": {
             "outlinewidth": 0,
             "ticks": ""
            },
            "colorscale": [
             [
              0,
              "#0d0887"
             ],
             [
              0.1111111111111111,
              "#46039f"
             ],
             [
              0.2222222222222222,
              "#7201a8"
             ],
             [
              0.3333333333333333,
              "#9c179e"
             ],
             [
              0.4444444444444444,
              "#bd3786"
             ],
             [
              0.5555555555555556,
              "#d8576b"
             ],
             [
              0.6666666666666666,
              "#ed7953"
             ],
             [
              0.7777777777777778,
              "#fb9f3a"
             ],
             [
              0.8888888888888888,
              "#fdca26"
             ],
             [
              1,
              "#f0f921"
             ]
            ],
            "type": "histogram2d"
           }
          ],
          "histogram2dcontour": [
           {
            "colorbar": {
             "outlinewidth": 0,
             "ticks": ""
            },
            "colorscale": [
             [
              0,
              "#0d0887"
             ],
             [
              0.1111111111111111,
              "#46039f"
             ],
             [
              0.2222222222222222,
              "#7201a8"
             ],
             [
              0.3333333333333333,
              "#9c179e"
             ],
             [
              0.4444444444444444,
              "#bd3786"
             ],
             [
              0.5555555555555556,
              "#d8576b"
             ],
             [
              0.6666666666666666,
              "#ed7953"
             ],
             [
              0.7777777777777778,
              "#fb9f3a"
             ],
             [
              0.8888888888888888,
              "#fdca26"
             ],
             [
              1,
              "#f0f921"
             ]
            ],
            "type": "histogram2dcontour"
           }
          ],
          "mesh3d": [
           {
            "colorbar": {
             "outlinewidth": 0,
             "ticks": ""
            },
            "type": "mesh3d"
           }
          ],
          "parcoords": [
           {
            "line": {
             "colorbar": {
              "outlinewidth": 0,
              "ticks": ""
             }
            },
            "type": "parcoords"
           }
          ],
          "pie": [
           {
            "automargin": true,
            "type": "pie"
           }
          ],
          "scatter": [
           {
            "fillpattern": {
             "fillmode": "overlay",
             "size": 10,
             "solidity": 0.2
            },
            "type": "scatter"
           }
          ],
          "scatter3d": [
           {
            "line": {
             "colorbar": {
              "outlinewidth": 0,
              "ticks": ""
             }
            },
            "marker": {
             "colorbar": {
              "outlinewidth": 0,
              "ticks": ""
             }
            },
            "type": "scatter3d"
           }
          ],
          "scattercarpet": [
           {
            "marker": {
             "colorbar": {
              "outlinewidth": 0,
              "ticks": ""
             }
            },
            "type": "scattercarpet"
           }
          ],
          "scattergeo": [
           {
            "marker": {
             "colorbar": {
              "outlinewidth": 0,
              "ticks": ""
             }
            },
            "type": "scattergeo"
           }
          ],
          "scattergl": [
           {
            "marker": {
             "colorbar": {
              "outlinewidth": 0,
              "ticks": ""
             }
            },
            "type": "scattergl"
           }
          ],
          "scattermap": [
           {
            "marker": {
             "colorbar": {
              "outlinewidth": 0,
              "ticks": ""
             }
            },
            "type": "scattermap"
           }
          ],
          "scattermapbox": [
           {
            "marker": {
             "colorbar": {
              "outlinewidth": 0,
              "ticks": ""
             }
            },
            "type": "scattermapbox"
           }
          ],
          "scatterpolar": [
           {
            "marker": {
             "colorbar": {
              "outlinewidth": 0,
              "ticks": ""
             }
            },
            "type": "scatterpolar"
           }
          ],
          "scatterpolargl": [
           {
            "marker": {
             "colorbar": {
              "outlinewidth": 0,
              "ticks": ""
             }
            },
            "type": "scatterpolargl"
           }
          ],
          "scatterternary": [
           {
            "marker": {
             "colorbar": {
              "outlinewidth": 0,
              "ticks": ""
             }
            },
            "type": "scatterternary"
           }
          ],
          "surface": [
           {
            "colorbar": {
             "outlinewidth": 0,
             "ticks": ""
            },
            "colorscale": [
             [
              0,
              "#0d0887"
             ],
             [
              0.1111111111111111,
              "#46039f"
             ],
             [
              0.2222222222222222,
              "#7201a8"
             ],
             [
              0.3333333333333333,
              "#9c179e"
             ],
             [
              0.4444444444444444,
              "#bd3786"
             ],
             [
              0.5555555555555556,
              "#d8576b"
             ],
             [
              0.6666666666666666,
              "#ed7953"
             ],
             [
              0.7777777777777778,
              "#fb9f3a"
             ],
             [
              0.8888888888888888,
              "#fdca26"
             ],
             [
              1,
              "#f0f921"
             ]
            ],
            "type": "surface"
           }
          ],
          "table": [
           {
            "cells": {
             "fill": {
              "color": "#EBF0F8"
             },
             "line": {
              "color": "white"
             }
            },
            "header": {
             "fill": {
              "color": "#C8D4E3"
             },
             "line": {
              "color": "white"
             }
            },
            "type": "table"
           }
          ]
         },
         "layout": {
          "annotationdefaults": {
           "arrowcolor": "#2a3f5f",
           "arrowhead": 0,
           "arrowwidth": 1
          },
          "autotypenumbers": "strict",
          "coloraxis": {
           "colorbar": {
            "outlinewidth": 0,
            "ticks": ""
           }
          },
          "colorscale": {
           "diverging": [
            [
             0,
             "#8e0152"
            ],
            [
             0.1,
             "#c51b7d"
            ],
            [
             0.2,
             "#de77ae"
            ],
            [
             0.3,
             "#f1b6da"
            ],
            [
             0.4,
             "#fde0ef"
            ],
            [
             0.5,
             "#f7f7f7"
            ],
            [
             0.6,
             "#e6f5d0"
            ],
            [
             0.7,
             "#b8e186"
            ],
            [
             0.8,
             "#7fbc41"
            ],
            [
             0.9,
             "#4d9221"
            ],
            [
             1,
             "#276419"
            ]
           ],
           "sequential": [
            [
             0,
             "#0d0887"
            ],
            [
             0.1111111111111111,
             "#46039f"
            ],
            [
             0.2222222222222222,
             "#7201a8"
            ],
            [
             0.3333333333333333,
             "#9c179e"
            ],
            [
             0.4444444444444444,
             "#bd3786"
            ],
            [
             0.5555555555555556,
             "#d8576b"
            ],
            [
             0.6666666666666666,
             "#ed7953"
            ],
            [
             0.7777777777777778,
             "#fb9f3a"
            ],
            [
             0.8888888888888888,
             "#fdca26"
            ],
            [
             1,
             "#f0f921"
            ]
           ],
           "sequentialminus": [
            [
             0,
             "#0d0887"
            ],
            [
             0.1111111111111111,
             "#46039f"
            ],
            [
             0.2222222222222222,
             "#7201a8"
            ],
            [
             0.3333333333333333,
             "#9c179e"
            ],
            [
             0.4444444444444444,
             "#bd3786"
            ],
            [
             0.5555555555555556,
             "#d8576b"
            ],
            [
             0.6666666666666666,
             "#ed7953"
            ],
            [
             0.7777777777777778,
             "#fb9f3a"
            ],
            [
             0.8888888888888888,
             "#fdca26"
            ],
            [
             1,
             "#f0f921"
            ]
           ]
          },
          "colorway": [
           "#636efa",
           "#EF553B",
           "#00cc96",
           "#ab63fa",
           "#FFA15A",
           "#19d3f3",
           "#FF6692",
           "#B6E880",
           "#FF97FF",
           "#FECB52"
          ],
          "font": {
           "color": "#2a3f5f"
          },
          "geo": {
           "bgcolor": "white",
           "lakecolor": "white",
           "landcolor": "white",
           "showlakes": true,
           "showland": true,
           "subunitcolor": "#C8D4E3"
          },
          "hoverlabel": {
           "align": "left"
          },
          "hovermode": "closest",
          "mapbox": {
           "style": "light"
          },
          "paper_bgcolor": "white",
          "plot_bgcolor": "white",
          "polar": {
           "angularaxis": {
            "gridcolor": "#EBF0F8",
            "linecolor": "#EBF0F8",
            "ticks": ""
           },
           "bgcolor": "white",
           "radialaxis": {
            "gridcolor": "#EBF0F8",
            "linecolor": "#EBF0F8",
            "ticks": ""
           }
          },
          "scene": {
           "xaxis": {
            "backgroundcolor": "white",
            "gridcolor": "#DFE8F3",
            "gridwidth": 2,
            "linecolor": "#EBF0F8",
            "showbackground": true,
            "ticks": "",
            "zerolinecolor": "#EBF0F8"
           },
           "yaxis": {
            "backgroundcolor": "white",
            "gridcolor": "#DFE8F3",
            "gridwidth": 2,
            "linecolor": "#EBF0F8",
            "showbackground": true,
            "ticks": "",
            "zerolinecolor": "#EBF0F8"
           },
           "zaxis": {
            "backgroundcolor": "white",
            "gridcolor": "#DFE8F3",
            "gridwidth": 2,
            "linecolor": "#EBF0F8",
            "showbackground": true,
            "ticks": "",
            "zerolinecolor": "#EBF0F8"
           }
          },
          "shapedefaults": {
           "line": {
            "color": "#2a3f5f"
           }
          },
          "ternary": {
           "aaxis": {
            "gridcolor": "#DFE8F3",
            "linecolor": "#A2B1C6",
            "ticks": ""
           },
           "baxis": {
            "gridcolor": "#DFE8F3",
            "linecolor": "#A2B1C6",
            "ticks": ""
           },
           "bgcolor": "white",
           "caxis": {
            "gridcolor": "#DFE8F3",
            "linecolor": "#A2B1C6",
            "ticks": ""
           }
          },
          "title": {
           "x": 0.05
          },
          "xaxis": {
           "automargin": true,
           "gridcolor": "#EBF0F8",
           "linecolor": "#EBF0F8",
           "ticks": "",
           "title": {
            "standoff": 15
           },
           "zerolinecolor": "#EBF0F8",
           "zerolinewidth": 2
          },
          "yaxis": {
           "automargin": true,
           "gridcolor": "#EBF0F8",
           "linecolor": "#EBF0F8",
           "ticks": "",
           "title": {
            "standoff": 15
           },
           "zerolinecolor": "#EBF0F8",
           "zerolinewidth": 2
          }
         }
        },
        "title": {
         "text": "Top 10 Characters by Number of Game Appearances"
        },
        "xaxis": {
         "anchor": "y",
         "domain": [
          0,
          1
         ],
         "range": [
          0,
          305.8
         ],
         "title": {
          "text": "Number of Game Appearances"
         }
        },
        "yaxis": {
         "anchor": "x",
         "categoryorder": "total ascending",
         "domain": [
          0,
          1
         ],
         "title": {
          "text": "Character"
         }
        }
       }
      }
     },
     "metadata": {},
     "output_type": "display_data"
    }
   ],
   "source": [
    "# Define the Cypher query\n",
    "# Made distinct to avoid duplicates in case of multiple appearances\n",
    "chars_appearances_query = \"\"\"\n",
    "MATCH (c:Character)-[]->(g:Game)\n",
    "RETURN c.name AS Character, count(DISTINCT g) AS Appearances\n",
    "ORDER BY Appearances DESC\n",
    "LIMIT 10\n",
    "\"\"\"\n",
    "\n",
    "# Run the query and get the DataFrame\n",
    "df_appearances = run_query(driver, chars_appearances_query)\n",
    "\n",
    "# Display the tabular data\n",
    "print(\"\\n--- Top 10 Characters with most appearances ---\")\n",
    "display(df_appearances)\n",
    "\n",
    "# --- Visualize the results ---\n",
    "# Sorting the dataframe ascending makes the horizontal bar chart display correctly (highest at top)\n",
    "df_appearances_sorted = df_appearances.sort_values('Appearances', ascending=True)\n",
    "\n",
    "fig = px.bar(\n",
    "    df_appearances_sorted,\n",
    "    x=\"Appearances\",\n",
    "    y=\"Character\",\n",
    "    orientation='h',\n",
    "    title=\"Top 10 Characters by Number of Game Appearances\",\n",
    "    labels={'Appearances': 'Number of Game Appearances', 'Character': 'Character'},\n",
    "    template=\"plotly_white\"\n",
    ")\n",
    "\n",
    "# Customize the layout\n",
    "fig.update_traces(\n",
    "    textposition='outside',\n",
    "    # Consistent color scale for better visualization\n",
    "    marker_color=\"#5664ff\"  # Using a single color for all bars\n",
    ")\n",
    "\n",
    "# Combine layout updates and add padding to the x-axis to prevent text labels from being cut off\n",
    "fig.update_layout(\n",
    "    showlegend=False,\n",
    "    yaxis={'categoryorder':'total ascending'},\n",
    "    xaxis_range=[0, df_appearances_sorted['Appearances'].max() * 1.1]\n",
    ")\n",
    "fig.show()\n"
   ]
  },
  {
   "cell_type": "markdown",
   "id": "7f8090e4",
   "metadata": {},
   "source": [
    "Stop querying by closing the DB"
   ]
  },
  {
   "cell_type": "code",
   "execution_count": 33,
   "id": "fe2d08e6",
   "metadata": {},
   "outputs": [
    {
     "name": "stdout",
     "output_type": "stream",
     "text": [
      "\n",
      "✅ Database connection closed.\n"
     ]
    }
   ],
   "source": [
    "# Close the driver connection\n",
    "driver.close()\n",
    "print(\"\\n✅ Database connection closed.\")"
   ]
  }
 ],
 "metadata": {
  "kernelspec": {
   "display_name": "Python 3",
   "language": "python",
   "name": "python3"
  },
  "language_info": {
   "codemirror_mode": {
    "name": "ipython",
    "version": 3
   },
   "file_extension": ".py",
   "mimetype": "text/x-python",
   "name": "python",
   "nbconvert_exporter": "python",
   "pygments_lexer": "ipython3",
   "version": "3.13.3"
  }
 },
 "nbformat": 4,
 "nbformat_minor": 5
}
