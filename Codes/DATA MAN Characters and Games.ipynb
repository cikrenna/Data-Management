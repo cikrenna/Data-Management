{
 "cells": [
  {
   "cell_type": "markdown",
   "metadata": {},
   "source": [
    "# Web Scraping of Characters and Games and Cleaning"
   ]
  },
  {
   "cell_type": "code",
   "execution_count": null,
   "metadata": {},
   "outputs": [],
   "source": [
    "import requests\n",
    "from bs4 import BeautifulSoup\n",
    "import pandas as pd\n",
    "from tqdm import tqdm\n",
    "import time\n",
    "import concurrent.futures\n",
    "import re"
   ]
  },
  {
   "cell_type": "markdown",
   "metadata": {},
   "source": [
    "## Characters"
   ]
  },
  {
   "cell_type": "code",
   "execution_count": null,
   "metadata": {},
   "outputs": [
    {
     "name": "stdout",
     "output_type": "stream",
     "text": [
      "✅ 2817 characters found.\n"
     ]
    }
   ],
   "source": [
    "# URL of the page to scrape\n",
    "url = \"https://www.mariowiki.com/List_of_characters\"\n",
    "\n",
    "# Lists for the dataset\n",
    "character_list = []\n",
    "first_appearances = []\n",
    "\n",
    "try:\n",
    "    # Download the page\n",
    "    response = requests.get(url)\n",
    "    \n",
    "    # Check if the request was successful\n",
    "    response.raise_for_status()\n",
    "    \n",
    "    # Parse the HTML of the page\n",
    "    soup = BeautifulSoup(response.text, 'html.parser')\n",
    "    \n",
    "    # Find the main section with the characters (more specific)\n",
    "    content = soup.select_one(\"div.mw-parser-output\")\n",
    "    \n",
    "    if content:\n",
    "        # Find the list items\n",
    "        items = content.select(\"ul li\")\n",
    "        \n",
    "        # Extract the data\n",
    "        for item in items:\n",
    "            text = item.text.strip()\n",
    "            match = text.split('–', 1)\n",
    "            \n",
    "            if len(match) == 2:\n",
    "                name = match[0].strip()\n",
    "                appearance = match[1].strip()\n",
    "                \n",
    "                # Filter for valid elements (optional)\n",
    "                if name and appearance and len(name) < 100:  # Avoid elements that are too long\n",
    "                    character_list.append(name)\n",
    "                    first_appearances.append(appearance)\n",
    "    \n",
    "    # Create a DataFrame\n",
    "    df_character_first_appearance = pd.DataFrame({\n",
    "        'Character': character_list,\n",
    "        'First Appearance': first_appearances\n",
    "    })\n",
    "    \n",
    "    # Show a preview of the results\n",
    "    print(f\"✅ {len(df_character_first_appearance)} characters found.\")\n",
    "    \n",
    "except requests.exceptions.RequestException as e:\n",
    "    print(f\"❌ Error during HTTP request: {e}\")\n",
    "except Exception as e:\n",
    "    print(f\"❌ An error occurred: {e}\")"
   ]
  },
  {
   "cell_type": "code",
   "execution_count": 2,
   "metadata": {},
   "outputs": [
    {
     "data": {
      "application/vnd.microsoft.datawrangler.viewer.v0+json": {
       "columns": [
        {
         "name": "index",
         "rawType": "int64",
         "type": "integer"
        },
        {
         "name": "Character",
         "rawType": "object",
         "type": "string"
        },
        {
         "name": "First Appearance",
         "rawType": "object",
         "type": "string"
        }
       ],
       "ref": "5f23a8a9-7cd7-4871-b56e-1858382cd099",
       "rows": [
        [
         "0",
         "? Card Toad",
         "Mario & Luigi: Paper Jam"
        ],
        [
         "1",
         "13-Amp",
         "WarioWare Gold"
        ],
        [
         "2",
         "18-Volt",
         "WarioWare: Twisted!"
        ],
        [
         "3",
         "4.1",
         "WarioWare: Touched!"
        ],
        [
         "4",
         "4.2",
         "WarioWare: Touched!"
        ],
        [
         "5",
         "5-Volt",
         "WarioWare: Twisted!"
        ],
        [
         "6",
         "9-Volt",
         "WarioWare, Inc.: Mega Microgame$!"
        ],
        [
         "7",
         "A. Coz",
         "Mario Tennis"
        ],
        [
         "8",
         "Abata",
         "Wario no Mori Futatabi"
        ],
        [
         "9",
         "Abby",
         "WarioWare: D.I.Y."
        ],
        [
         "10",
         "Abigor",
         "Club Nintendo"
        ],
        [
         "11",
         "Abominable Snowkoopa",
         "The Adventures of Super Mario Bros. 3"
        ],
        [
         "12",
         "Abraham Lincoln",
         "Mario's Time Machine (PC)"
        ],
        [
         "13",
         "Ace",
         "Mario Tennis: Power Tour"
        ],
        [
         "14",
         "Ace investigative reporter",
         "Donkey Kong Jungle Action Special"
        ],
        [
         "15",
         "Action Toad",
         "Paper Mario: Color Splash"
        ],
        [
         "16",
         "Adaphne",
         "Mario & Luigi: Brothership"
        ],
        [
         "17",
         "Adriane",
         "Mario Kart 64 commercial"
        ],
        [
         "18",
         "Adventure King",
         "Game & Wario"
        ],
        [
         "19",
         "Aerodent",
         "Wario Land 4"
        ],
        [
         "20",
         "Aiden",
         "Super Mario Maker 2 Challenges!"
        ],
        [
         "21",
         "AJ",
         "Club Mario"
        ],
        [
         "22",
         "Akiki",
         "Mario Party Advance"
        ],
        [
         "23",
         "Al",
         "Saturday Supercade"
        ],
        [
         "24",
         "Alan",
         "Saturday Supercade"
        ],
        [
         "25",
         "Alarm clock",
         "Wario Land II"
        ],
        [
         "26",
         "Alarm Koopa",
         "Super Mario Bros. (Game & Watch)"
        ],
        [
         "27",
         "Alarm man",
         "Mario's Cement Factory"
        ],
        [
         "28",
         "Alarm man",
         "Donkey Kong Hockey"
        ],
        [
         "29",
         "Alarm Monkey",
         "Mario's Bombs Away"
        ],
        [
         "30",
         "Albert Einstein",
         "Mario's Time Machine (NES)"
        ],
        [
         "31",
         "Alena",
         "Itadaki Street DS"
        ],
        [
         "32",
         "Alex",
         "Mario Tennis"
        ],
        [
         "33",
         "Alexander Fleming",
         "Donkey Kong Planet"
        ],
        [
         "34",
         "Ali Mustafa",
         "Club Nintendo"
        ],
        [
         "35",
         "Alice",
         "Mario & Wario (manga)"
        ],
        [
         "36",
         "Alien",
         "Mario Party 5"
        ],
        [
         "37",
         "Alien Mitzi",
         "WarioWare: Smooth Moves"
        ],
        [
         "38",
         "Alkementor",
         "Mario + Rabbids Sparks of Hope"
        ],
        [
         "39",
         "Allegra",
         "Mario + Rabbids Sparks of Hope"
        ],
        [
         "40",
         "Allie",
         "Mario Tennis"
        ],
        [
         "41",
         "Alligator Dundee",
         "The Super Mario Bros. Super Show!"
        ],
        [
         "42",
         "Alph",
         "Super Smash Bros. for Nintendo 3DS / Wii U"
        ],
        [
         "43",
         "Alyssa Milano",
         "Mario Ice Capades"
        ],
        [
         "44",
         "Amadeus Wolfgeist",
         "Luigi's Mansion 3"
        ],
        [
         "45",
         "Amazon",
         "Super Mario Kart 1"
        ],
        [
         "46",
         "Amsterdam mayor",
         "Mario is Missing! (PC)"
        ],
        [
         "47",
         "Amy",
         "WarioWare Gold"
        ],
        [
         "48",
         "Amy Bennett",
         "Ben & Amy"
        ],
        [
         "49",
         "Amy Rose",
         "Mario & Sonic at the Olympic Games"
        ]
       ],
       "shape": {
        "columns": 2,
        "rows": 2817
       }
      },
      "text/html": [
       "<div>\n",
       "<style scoped>\n",
       "    .dataframe tbody tr th:only-of-type {\n",
       "        vertical-align: middle;\n",
       "    }\n",
       "\n",
       "    .dataframe tbody tr th {\n",
       "        vertical-align: top;\n",
       "    }\n",
       "\n",
       "    .dataframe thead th {\n",
       "        text-align: right;\n",
       "    }\n",
       "</style>\n",
       "<table border=\"1\" class=\"dataframe\">\n",
       "  <thead>\n",
       "    <tr style=\"text-align: right;\">\n",
       "      <th></th>\n",
       "      <th>Character</th>\n",
       "      <th>First Appearance</th>\n",
       "    </tr>\n",
       "  </thead>\n",
       "  <tbody>\n",
       "    <tr>\n",
       "      <th>0</th>\n",
       "      <td>? Card Toad</td>\n",
       "      <td>Mario &amp; Luigi: Paper Jam</td>\n",
       "    </tr>\n",
       "    <tr>\n",
       "      <th>1</th>\n",
       "      <td>13-Amp</td>\n",
       "      <td>WarioWare Gold</td>\n",
       "    </tr>\n",
       "    <tr>\n",
       "      <th>2</th>\n",
       "      <td>18-Volt</td>\n",
       "      <td>WarioWare: Twisted!</td>\n",
       "    </tr>\n",
       "    <tr>\n",
       "      <th>3</th>\n",
       "      <td>4.1</td>\n",
       "      <td>WarioWare: Touched!</td>\n",
       "    </tr>\n",
       "    <tr>\n",
       "      <th>4</th>\n",
       "      <td>4.2</td>\n",
       "      <td>WarioWare: Touched!</td>\n",
       "    </tr>\n",
       "    <tr>\n",
       "      <th>...</th>\n",
       "      <td>...</td>\n",
       "      <td>...</td>\n",
       "    </tr>\n",
       "    <tr>\n",
       "      <th>2812</th>\n",
       "      <td>Zero</td>\n",
       "      <td>The Super Mario Bros. Super Show!</td>\n",
       "    </tr>\n",
       "    <tr>\n",
       "      <th>2813</th>\n",
       "      <td>Zess T.</td>\n",
       "      <td>Paper Mario: The Thousand-Year Door</td>\n",
       "    </tr>\n",
       "    <tr>\n",
       "      <th>2814</th>\n",
       "      <td>Zip Toad</td>\n",
       "      <td>Paper Mario: The Thousand-Year Door</td>\n",
       "    </tr>\n",
       "    <tr>\n",
       "      <th>2815</th>\n",
       "      <td>Zokket</td>\n",
       "      <td>Mario &amp; Luigi: Brothership</td>\n",
       "    </tr>\n",
       "    <tr>\n",
       "      <th>2816</th>\n",
       "      <td>Zombone</td>\n",
       "      <td>Super Mario RPG: Legend of the Seven Stars</td>\n",
       "    </tr>\n",
       "  </tbody>\n",
       "</table>\n",
       "<p>2817 rows × 2 columns</p>\n",
       "</div>"
      ],
      "text/plain": [
       "        Character                            First Appearance\n",
       "0     ? Card Toad                    Mario & Luigi: Paper Jam\n",
       "1          13-Amp                              WarioWare Gold\n",
       "2         18-Volt                         WarioWare: Twisted!\n",
       "3             4.1                         WarioWare: Touched!\n",
       "4             4.2                         WarioWare: Touched!\n",
       "...           ...                                         ...\n",
       "2812         Zero           The Super Mario Bros. Super Show!\n",
       "2813      Zess T.         Paper Mario: The Thousand-Year Door\n",
       "2814     Zip Toad         Paper Mario: The Thousand-Year Door\n",
       "2815       Zokket                  Mario & Luigi: Brothership\n",
       "2816      Zombone  Super Mario RPG: Legend of the Seven Stars\n",
       "\n",
       "[2817 rows x 2 columns]"
      ]
     },
     "execution_count": 2,
     "metadata": {},
     "output_type": "execute_result"
    }
   ],
   "source": [
    "df_character_first_appearance"
   ]
  },
  {
   "cell_type": "code",
   "execution_count": null,
   "metadata": {},
   "outputs": [],
   "source": [
    "from urllib.parse import urljoin\n",
    "\n",
    "# It's good practice to keep the session and headers global or pass them around\n",
    "session = requests.Session()\n",
    "session.headers.update({\n",
    "    \"User-Agent\": \"Mozilla/5.0 (Windows NT 10.0; Win64; x64) AppleWebKit/537.36 (KHTML, like Gecko) Chrome/116.0.0.0 Safari/537.36\"\n",
    "})\n",
    "\n",
    "def find_game_appearances_table(soup):\n",
    "    \"\"\"\n",
    "    Implements a multi-layered strategy to find the game appearances table.\n",
    "    \"\"\"\n",
    "    # 1. Primary Method: Find by specific, known heading IDs. This is the most reliable.\n",
    "    heading_ids = [\"List_of_appearances\", \"List_of_appearances_by_date\", \"List_of_game_appearances_by_date\", \"List_of_game_appearances\"]\n",
    "    for hid in heading_ids:\n",
    "        heading = soup.find('span', id=hid)\n",
    "        if heading:\n",
    "            # Find the next sibling that is a table. This is robust.\n",
    "            table = heading.find_next(('table'), class_='wikitable')\n",
    "            if table:\n",
    "                return table\n",
    "\n",
    "    # 2. Secondary Method: Find by headline text if IDs fail.\n",
    "    # More flexible than the original: searches h2/h3/h4 and uses a more general regex.\n",
    "    search_terms = re.compile(r'\\blist of\\s(Super Mario\\s)?(game\\s)?appearance(s)?(\\s?by date)?\\b', re.IGNORECASE)\n",
    "    for header in soup.find_all(['h2', 'h3', 'h4']):\n",
    "        if header.span and search_terms.search(header.span.get_text()):\n",
    "            table = header.find_next_sibling('table', class_='wikitable')\n",
    "            if table:\n",
    "                return table\n",
    "\n",
    "    for table in soup.find_all('table', class_='wikitable'):\n",
    "        headers = [th.get_text(strip=True).lower() for th in table.find_all('th')]\n",
    "        # If a table has these columns, it's very likely the one we want.\n",
    "        if 'title' in headers and ('system' in headers or 'console' in headers or 'format' in headers ) \\\n",
    "            and ('year' in headers or 'release' in headers or 'date' in headers):\n",
    "            return table\n",
    "            \n",
    "    return None\n",
    "\n",
    "def parse_game_table(table, character_name):\n",
    "    \"\"\"\n",
    "    Manually parses the BeautifulSoup table object into a list of dictionaries.\n",
    "    This is more robust than pd.read_html.\n",
    "    \"\"\"\n",
    "    try:\n",
    "        headers_raw = [th.get_text(strip=True) for th in table.find_all('th')]\n",
    "        \n",
    "        # --- Flexible Column Mapping ---\n",
    "        # Map potential header names to our desired canonical names.\n",
    "        header_map = {}\n",
    "        for h in headers_raw:\n",
    "            h_lower = h.lower()\n",
    "            if 'title' in h_lower: header_map[h] = 'Title'\n",
    "            elif 'system' in h_lower or 'console' in h_lower: header_map[h] = 'Console'\n",
    "            elif 'year' in h_lower or 'release' in h_lower or 'date' in h_lower: header_map[h] = 'Year'\n",
    "            elif 'description' in h_lower or 'role' in h_lower: header_map[h] = 'Role'\n",
    "        \n",
    "        # If we didn't find essential columns, the table is probably wrong.\n",
    "        if 'Title' not in header_map.values():\n",
    "            return []\n",
    "            \n",
    "        game_data = []\n",
    "        # Find the first row of data (sometimes it's not immediately after the header)\n",
    "        tbody = table.find('tbody')\n",
    "        if not tbody:\n",
    "            return []\n",
    "\n",
    "        for row in tbody.find_all('tr'):\n",
    "            cells = row.find_all(['td', 'th'])\n",
    "            if len(cells) >= len(header_map): # Ensure row has enough cells\n",
    "                row_data = {\n",
    "                    headers_raw[i]: re.sub(r'\\s*,\\s*', ', ', cell.get_text(separator=\" \", strip=True))\n",
    "                    for i, cell in enumerate(cells) if i < len(headers_raw)\n",
    "                }\n",
    "\n",
    "                # Check if the row contains a field equal to the header 'Title' and skip it if it does\n",
    "                if 'Title' in row_data and row_data['Title'] == 'Title':\n",
    "                    continue\n",
    "                \n",
    "                # Build a clean dictionary using our canonical names\n",
    "                game_info = {\n",
    "                    'Character': character_name,\n",
    "                    'Title': row_data.get(next((k for k,v in header_map.items() if v == 'Title'), ''), 'N/A'),\n",
    "                    'Console': row_data.get(next((k for k,v in header_map.items() if v == 'Console'), ''), 'N/A'),\n",
    "                    'Year': row_data.get(next((k for k,v in header_map.items() if v == 'Year'), ''), 'N/A'),\n",
    "                    'Role': row_data.get(next((k for k,v in header_map.items() if v == 'Role'), ''), 'N/A')\n",
    "                }\n",
    "                # Only add rows that have a title\n",
    "                if game_info['Title'] != 'N/A' and game_info['Title']:\n",
    "                    game_data.append(game_info)\n",
    "                    \n",
    "        return game_data\n",
    "    except Exception as e:\n",
    "        tqdm.write(f\"⚠️  Error parsing table for {character_name}: {e}\")\n",
    "        return []\n",
    "\n",
    "def process_character(character_info, base_url):\n",
    "    \"\"\"\n",
    "    Worker function for each thread. Fetches page, finds table, and parses it.\n",
    "    \"\"\"\n",
    "    character_name = character_info['name']\n",
    "    character_url = urljoin(base_url, character_info['url'])\n",
    "    \n",
    "    try:\n",
    "        time.sleep(0.1) # Gentle rate-limiting\n",
    "        response = session.get(character_url, timeout=10)\n",
    "        response.raise_for_status()\n",
    "        \n",
    "        soup = BeautifulSoup(response.text, 'html.parser')\n",
    "        \n",
    "        # Use the function to find the table\n",
    "        games_table = find_game_appearances_table(soup)\n",
    "        \n",
    "        if games_table:\n",
    "            # Use the new robust parsing function\n",
    "            return parse_game_table(games_table, character_name)\n",
    "        return None\n",
    "    except requests.exceptions.RequestException as e:\n",
    "        #tqdm.write(f\"❌ Request error for {character_name} ({character_url}): {e}\")\n",
    "        return None\n",
    "    except Exception as e:\n",
    "        tqdm.write(f\"❌ Unexpected error for {character_name} ({character_url}): {e}\")\n",
    "        return None\n",
    "\n",
    "\n",
    "def scrape_mario_wiki():\n",
    "    \"\"\"\n",
    "    Main orchestrator function.\n",
    "    \"\"\"\n",
    "    list_url = \"https://www.mariowiki.com/List_of_characters\"\n",
    "    \n",
    "    # --- Step 1: Get the list of characters more reliably ---\n",
    "    try:\n",
    "        response = session.get(list_url, timeout=10)\n",
    "        response.raise_for_status()\n",
    "        soup = BeautifulSoup(response.text, 'html.parser')\n",
    "        \n",
    "        content = soup.find('div', class_='mw-parser-output')\n",
    "        if not content:\n",
    "            print(f\"FATAL: Could not find main content div 'mw-parser-output' on {list_url}.\")\n",
    "            return None, None\n",
    "\n",
    "        characters_to_scrape = []\n",
    "        seen_urls = set()\n",
    "\n",
    "        # Iterate over list items (<li>) within unordered lists (<ul>)\n",
    "        # as character entries are typically in this structure.\n",
    "        # The \" – \" separator is key to identifying character entries.\n",
    "        list_items = content.select('ul li') \n",
    "\n",
    "        if not list_items:\n",
    "            print(f\"Warning: No <li> elements found within <ul> in 'mw-parser-output' on {list_url}. Check page structure or selectors.\")\n",
    "\n",
    "        for item_li in list_items:\n",
    "            # Criterion 1: The list item's text should contain \" – \"\n",
    "            # This helps filter for \"Name – Description\" style entries.\n",
    "            if '–' not in item_li.get_text():\n",
    "                continue \n",
    "\n",
    "            # Criterion 2: Find the primary link within this list item.\n",
    "            # This is assumed to be the character's own page link.\n",
    "            # We look for an <a> tag with an href starting with '/', a title attribute,\n",
    "            # and ensure it's likely the main subject of the list item.\n",
    "            link_tag = item_li.find('a', href=re.compile(r'^/'), title=True) \n",
    "\n",
    "            if link_tag:\n",
    "                href = link_tag['href']\n",
    "                # Use the link's text as the character name for consistency\n",
    "                char_name = link_tag.get_text(strip=True) \n",
    "                \n",
    "                # Avoid administrative links, ensure the name is not empty, and avoid duplicates\n",
    "                # Added more common wiki administrative prefixes\n",
    "                admin_prefixes = ('/Category:', '/File:', '/Help:', '/Special:', '/Template:', '/Mario_Wiki:', '/Talk:')\n",
    "                if char_name and href not in seen_urls and not href.startswith(admin_prefixes):\n",
    "                    characters_to_scrape.append({'name': char_name, 'url': href})\n",
    "                    seen_urls.add(href)\n",
    "        \n",
    "        if not characters_to_scrape:\n",
    "            print(f\"Warning: No characters found matching all criteria on {list_url}. Review parsing logic or page structure.\")\n",
    "        else:\n",
    "            print(f\"🔎 Scraping for {len(characters_to_scrape)} characters from {list_url}.\")\n",
    "            \n",
    "    except requests.exceptions.RequestException as e:\n",
    "        print(f\"FATAL: Could not fetch main character list from {list_url}: {e}\")\n",
    "        return None, None\n",
    "    except Exception as e:\n",
    "        print(f\"FATAL: An unexpected error occurred during character list scraping: {e}\")\n",
    "        return None, None\n",
    "\n",
    "\n",
    "    # --- Step 2: Concurrently scrape each character page ---\n",
    "    all_games = []\n",
    "    failed_characters = []\n",
    "    \n",
    "    with concurrent.futures.ThreadPoolExecutor(max_workers=8) as executor:\n",
    "        # Map futures to characters to track results\n",
    "        future_to_char = {executor.submit(process_character, char_info, list_url): char_info for char_info in characters_to_scrape}\n",
    "        \n",
    "        progress = tqdm(concurrent.futures.as_completed(future_to_char), total=len(characters_to_scrape))\n",
    "        \n",
    "        for future in progress:\n",
    "            char_info = future_to_char[future]\n",
    "            result = future.result()\n",
    "            \n",
    "            if result:\n",
    "                all_games.extend(result)\n",
    "                #tqdm.write(f\"✅ Found {len(result)} games for {char_info['name']}\")\n",
    "            else:\n",
    "                failed_characters.append(char_info['name'])\n",
    "                # tqdm.write(f\"❌ No valid table found for {char_info['name']}\")\n",
    "\n",
    "    # --- Step 3: Final report and DataFrame creation ---\n",
    "    total_chars = len(characters_to_scrape)\n",
    "    success_count = total_chars - len(failed_characters)\n",
    "    \n",
    "    print(\"\\n--- Scraping Complete ---\")\n",
    "    print(f\"✅ Successfully processed {success_count}/{total_chars} characters ({success_count/total_chars:.1%})\")\n",
    "    #if failed_characters:\n",
    "    #    print(f\"❌ Failed to find tables for: {', '.join(failed_characters[:10])}...\")\n",
    "\n",
    "    df = pd.DataFrame(all_games)\n",
    "\n",
    "    # Create a DataFrame for failed characters\n",
    "    failed_df = pd.DataFrame(failed_characters, columns=['Failed Characters'])\n",
    "\n",
    "    return df, failed_df\n"
   ]
  },
  {
   "cell_type": "code",
   "execution_count": 4,
   "metadata": {},
   "outputs": [
    {
     "name": "stdout",
     "output_type": "stream",
     "text": [
      "🔎 Scraping for 2739 characters from https://www.mariowiki.com/List_of_characters.\n"
     ]
    },
    {
     "name": "stderr",
     "output_type": "stream",
     "text": [
      "100%|██████████| 2739/2739 [02:26<00:00, 18.72it/s]"
     ]
    },
    {
     "name": "stdout",
     "output_type": "stream",
     "text": [
      "\n",
      "--- Scraping Complete ---\n",
      "✅ Successfully processed 111/2739 characters (4.1%)\n"
     ]
    },
    {
     "name": "stderr",
     "output_type": "stream",
     "text": [
      "\n"
     ]
    }
   ],
   "source": [
    "# --- Execute the scraping ---\n",
    "characters_df, failed = scrape_mario_wiki()"
   ]
  },
  {
   "cell_type": "code",
   "execution_count": 5,
   "metadata": {},
   "outputs": [
    {
     "data": {
      "application/vnd.microsoft.datawrangler.viewer.v0+json": {
       "columns": [
        {
         "name": "index",
         "rawType": "int64",
         "type": "integer"
        },
        {
         "name": "Character",
         "rawType": "object",
         "type": "string"
        },
        {
         "name": "Game",
         "rawType": "object",
         "type": "string"
        },
        {
         "name": "Relation",
         "rawType": "object",
         "type": "string"
        }
       ],
       "ref": "26485ef0-dada-4d9e-ae80-ebcd92307971",
       "rows": [
        [
         "0",
         "18-Volt",
         "WarioWare: Twisted!",
         "CHARACTER_IN"
        ],
        [
         "1",
         "18-Volt",
         "WarioWare: Twisted!",
         "CHARACTER_IN"
        ],
        [
         "2",
         "18-Volt",
         "WarioWare: Smooth Moves",
         "CHARACTER_IN"
        ],
        [
         "3",
         "18-Volt",
         "Super Smash Bros. Brawl",
         "CHARACTER_IN"
        ],
        [
         "4",
         "18-Volt",
         "WarioWare: D.I.Y. Showcase",
         "CHARACTER_IN"
        ],
        [
         "5",
         "18-Volt",
         "Game & Wario",
         "CHARACTER_IN"
        ],
        [
         "6",
         "18-Volt",
         "Super Smash Bros. for Wii U",
         "CHARACTER_IN"
        ],
        [
         "7",
         "18-Volt",
         "Rhythm Heaven Megamix",
         "CHARACTER_IN"
        ],
        [
         "8",
         "18-Volt",
         "WarioWare Gold",
         "CHARACTER_IN"
        ],
        [
         "9",
         "18-Volt",
         "Super Smash Bros. Ultimate",
         "CHARACTER_IN"
        ],
        [
         "10",
         "18-Volt",
         "WarioWare: Get It Together!",
         "CHARACTER_IN"
        ],
        [
         "11",
         "18-Volt",
         "Tetris 99",
         "CHARACTER_IN"
        ],
        [
         "12",
         "18-Volt",
         "WarioWare: Move It!",
         "CHARACTER_IN"
        ],
        [
         "13",
         "5-Volt",
         "WarioWare, Inc.: Mega Microgame$!",
         "CHARACTER_IN"
        ],
        [
         "14",
         "5-Volt",
         "WarioWare: Twisted!",
         "CHARACTER_IN"
        ],
        [
         "15",
         "5-Volt",
         "WarioWare: Touched!",
         "CHARACTER_IN"
        ],
        [
         "16",
         "5-Volt",
         "Game & Wario",
         "CHARACTER_IN"
        ],
        [
         "17",
         "5-Volt",
         "Super Smash Bros. for Wii U",
         "CHARACTER_IN"
        ],
        [
         "18",
         "5-Volt",
         "Super Smash Bros. for Nintendo 3DS",
         "CHARACTER_IN"
        ],
        [
         "19",
         "5-Volt",
         "WarioWare Gold",
         "CHARACTER_IN"
        ],
        [
         "20",
         "5-Volt",
         "Super Smash Bros. Ultimate",
         "CHARACTER_IN"
        ],
        [
         "21",
         "5-Volt",
         "WarioWare: Get It Together!",
         "CHARACTER_IN"
        ],
        [
         "22",
         "5-Volt",
         "Tetris 99",
         "CHARACTER_IN"
        ],
        [
         "23",
         "5-Volt",
         "WarioWare: Move It!",
         "CHARACTER_IN"
        ],
        [
         "24",
         "9-Volt",
         "WarioWare, Inc.: Mega Microgame$!",
         "CHARACTER_IN"
        ],
        [
         "25",
         "9-Volt",
         "Wario World",
         "CHARACTER_IN"
        ],
        [
         "26",
         "9-Volt",
         "WarioWare, Inc.: Mega Party Game$!",
         "CHARACTER_IN"
        ],
        [
         "27",
         "9-Volt",
         "WarioWare: Twisted!",
         "CHARACTER_IN"
        ],
        [
         "28",
         "9-Volt",
         "WarioWare: Touched!",
         "CHARACTER_IN"
        ],
        [
         "29",
         "9-Volt",
         "WarioWare: Smooth Moves",
         "CHARACTER_IN"
        ],
        [
         "30",
         "9-Volt",
         "Super Smash Bros. Brawl",
         "CHARACTER_IN"
        ],
        [
         "31",
         "9-Volt",
         "Paper Airplane Chase",
         "CHARACTER_IN"
        ],
        [
         "32",
         "9-Volt",
         "WarioWare: D.I.Y.",
         "CHARACTER_IN"
        ],
        [
         "33",
         "9-Volt",
         "WarioWare: D.I.Y. Showcase",
         "CHARACTER_IN"
        ],
        [
         "34",
         "9-Volt",
         "Game & Wario",
         "CHARACTER_IN"
        ],
        [
         "35",
         "9-Volt",
         "Super Smash Bros. for Wii U",
         "CHARACTER_IN"
        ],
        [
         "36",
         "9-Volt",
         "Rhythm Heaven Megamix",
         "CHARACTER_IN"
        ],
        [
         "37",
         "9-Volt",
         "WarioWare Gold",
         "CHARACTER_IN"
        ],
        [
         "38",
         "9-Volt",
         "Super Smash Bros. Ultimate",
         "CHARACTER_IN"
        ],
        [
         "39",
         "9-Volt",
         "WarioWare: Get It Together!",
         "CHARACTER_IN"
        ],
        [
         "40",
         "9-Volt",
         "Tetris 99",
         "CHARACTER_IN"
        ],
        [
         "41",
         "9-Volt",
         "WarioWare: Move It!",
         "CHARACTER_IN"
        ],
        [
         "42",
         "Ancient Minister",
         "Super Mario RPG: Legend of the Seven Stars",
         "CHARACTER_IN"
        ],
        [
         "43",
         "Ancient Minister",
         "WarioWare, Inc.: Mega Microgame$!",
         "CHARACTER_IN"
        ],
        [
         "44",
         "Ancient Minister",
         "WarioWare: Twisted!",
         "CHARACTER_IN"
        ],
        [
         "45",
         "Ancient Minister",
         "WarioWare: Touched!",
         "CHARACTER_IN"
        ],
        [
         "46",
         "Ancient Minister",
         "Mario Kart DS",
         "CHARACTER_IN"
        ],
        [
         "47",
         "Ancient Minister",
         "WarioWare: Smooth Moves",
         "CHARACTER_IN"
        ],
        [
         "48",
         "Ancient Minister",
         "Super Smash Bros. Brawl",
         "CHARACTER_IN"
        ],
        [
         "49",
         "Ancient Minister",
         "Super Smash Bros. for Nintendo 3DS",
         "CHARACTER_IN"
        ]
       ],
       "shape": {
        "columns": 3,
        "rows": 3328
       }
      },
      "text/html": [
       "<div>\n",
       "<style scoped>\n",
       "    .dataframe tbody tr th:only-of-type {\n",
       "        vertical-align: middle;\n",
       "    }\n",
       "\n",
       "    .dataframe tbody tr th {\n",
       "        vertical-align: top;\n",
       "    }\n",
       "\n",
       "    .dataframe thead th {\n",
       "        text-align: right;\n",
       "    }\n",
       "</style>\n",
       "<table border=\"1\" class=\"dataframe\">\n",
       "  <thead>\n",
       "    <tr style=\"text-align: right;\">\n",
       "      <th></th>\n",
       "      <th>Character</th>\n",
       "      <th>Game</th>\n",
       "      <th>Relation</th>\n",
       "    </tr>\n",
       "  </thead>\n",
       "  <tbody>\n",
       "    <tr>\n",
       "      <th>0</th>\n",
       "      <td>18-Volt</td>\n",
       "      <td>WarioWare: Twisted!</td>\n",
       "      <td>CHARACTER_IN</td>\n",
       "    </tr>\n",
       "    <tr>\n",
       "      <th>1</th>\n",
       "      <td>18-Volt</td>\n",
       "      <td>WarioWare: Twisted!</td>\n",
       "      <td>CHARACTER_IN</td>\n",
       "    </tr>\n",
       "    <tr>\n",
       "      <th>2</th>\n",
       "      <td>18-Volt</td>\n",
       "      <td>WarioWare: Smooth Moves</td>\n",
       "      <td>CHARACTER_IN</td>\n",
       "    </tr>\n",
       "    <tr>\n",
       "      <th>3</th>\n",
       "      <td>18-Volt</td>\n",
       "      <td>Super Smash Bros. Brawl</td>\n",
       "      <td>CHARACTER_IN</td>\n",
       "    </tr>\n",
       "    <tr>\n",
       "      <th>4</th>\n",
       "      <td>18-Volt</td>\n",
       "      <td>WarioWare: D.I.Y. Showcase</td>\n",
       "      <td>CHARACTER_IN</td>\n",
       "    </tr>\n",
       "    <tr>\n",
       "      <th>...</th>\n",
       "      <td>...</td>\n",
       "      <td>...</td>\n",
       "      <td>...</td>\n",
       "    </tr>\n",
       "    <tr>\n",
       "      <th>3323</th>\n",
       "      <td>Yoshi</td>\n",
       "      <td>Super Mario Bros. Wonder</td>\n",
       "      <td>CHARACTER_IN</td>\n",
       "    </tr>\n",
       "    <tr>\n",
       "      <th>3324</th>\n",
       "      <td>Yoshi</td>\n",
       "      <td>WarioWare: Move It!</td>\n",
       "      <td>CHARACTER_IN</td>\n",
       "    </tr>\n",
       "    <tr>\n",
       "      <th>3325</th>\n",
       "      <td>Yoshi</td>\n",
       "      <td>Super Mario RPG</td>\n",
       "      <td>CHARACTER_IN</td>\n",
       "    </tr>\n",
       "    <tr>\n",
       "      <th>3326</th>\n",
       "      <td>Yoshi</td>\n",
       "      <td>Super Mario Party Jamboree</td>\n",
       "      <td>CHARACTER_IN</td>\n",
       "    </tr>\n",
       "    <tr>\n",
       "      <th>3327</th>\n",
       "      <td>Yoshi</td>\n",
       "      <td>Mario &amp; Luigi: Brothership</td>\n",
       "      <td>CHARACTER_IN</td>\n",
       "    </tr>\n",
       "  </tbody>\n",
       "</table>\n",
       "<p>3328 rows × 3 columns</p>\n",
       "</div>"
      ],
      "text/plain": [
       "     Character                        Game      Relation\n",
       "0      18-Volt         WarioWare: Twisted!  CHARACTER_IN\n",
       "1      18-Volt         WarioWare: Twisted!  CHARACTER_IN\n",
       "2      18-Volt     WarioWare: Smooth Moves  CHARACTER_IN\n",
       "3      18-Volt     Super Smash Bros. Brawl  CHARACTER_IN\n",
       "4      18-Volt  WarioWare: D.I.Y. Showcase  CHARACTER_IN\n",
       "...        ...                         ...           ...\n",
       "3323     Yoshi    Super Mario Bros. Wonder  CHARACTER_IN\n",
       "3324     Yoshi         WarioWare: Move It!  CHARACTER_IN\n",
       "3325     Yoshi             Super Mario RPG  CHARACTER_IN\n",
       "3326     Yoshi  Super Mario Party Jamboree  CHARACTER_IN\n",
       "3327     Yoshi  Mario & Luigi: Brothership  CHARACTER_IN\n",
       "\n",
       "[3328 rows x 3 columns]"
      ]
     },
     "execution_count": 5,
     "metadata": {},
     "output_type": "execute_result"
    }
   ],
   "source": [
    "# Rename 'Title' column to 'Game' and add column 'Relation' equal to 'CHARACTER_IN'\n",
    "characters_df.rename(columns={'Title': 'Game'}, inplace=True)\n",
    "characters_df['Relation'] = 'CHARACTER_IN'\n",
    "characters_df = characters_df[['Character', 'Game', 'Relation']].reset_index(drop=True)\n",
    "characters_df"
   ]
  },
  {
   "cell_type": "markdown",
   "metadata": {},
   "source": [
    "### Extracting the Species"
   ]
  },
  {
   "cell_type": "code",
   "execution_count": null,
   "metadata": {},
   "outputs": [
    {
     "name": "stderr",
     "output_type": "stream",
     "text": [
      "Extracting Species:   0%|          | 0/111 [00:00<?, ?it/s]"
     ]
    },
    {
     "name": "stderr",
     "output_type": "stream",
     "text": [
      "Extracting Species: 100%|██████████| 111/111 [00:21<00:00,  5.19it/s]\n"
     ]
    }
   ],
   "source": [
    "# --- Function to extract Species from a character page ---\n",
    "def extract_species_from_infobox(character_url, session):\n",
    "    \"\"\"\n",
    "    Finds the infobox on a character page and robustly extracts a list of species,\n",
    "    handling multiple entries and cleaning the text.\n",
    "    \"\"\"\n",
    "    try:\n",
    "        response = session.get(character_url, timeout=10)\n",
    "        response.raise_for_status()\n",
    "        soup = BeautifulSoup(response.text, 'html.parser')\n",
    "\n",
    "        infobox = soup.find('table', class_='infobox')\n",
    "        if not infobox:\n",
    "            infobox = soup.find('table', style=lambda s: s and 'infobox' in s.lower())\n",
    "        if not infobox:\n",
    "            return None\n",
    "\n",
    "        # Find the header row for 'Species', 'Type', or 'Race'\n",
    "        species_header = infobox.find(lambda tag: tag.name in ['th', 'td'] and re.search(r'^(Species|Type|Race)$', tag.get_text(strip=True), re.IGNORECASE))\n",
    "        \n",
    "        if not species_header:\n",
    "            return None\n",
    "\n",
    "        # The species data is in the next table cell (td)\n",
    "        species_cell = species_header.find_next_sibling('td')\n",
    "        if not species_cell:\n",
    "            return None\n",
    "        \n",
    "        # Replace <br> tags with a comma to handle line breaks as separators\n",
    "        for br in species_cell.find_all(\"br\"):\n",
    "            br.replace_with(\", \")\n",
    "\n",
    "        # Get all text, which now includes commas for line breaks\n",
    "        full_text = species_cell.get_text(separator=' ').strip()\n",
    "        \n",
    "        # Clean the text: remove parentheticals and citation brackets (e.g., [1])\n",
    "        cleaned_text = re.sub(r'\\s*\\([^)]*\\)', '', full_text)\n",
    "        cleaned_text = re.sub(r'\\s*\\[[^\\]]*\\]', '', cleaned_text)\n",
    "        \n",
    "        # Split by common delimiters (comma, slash) and clean up each item\n",
    "        species_list = [s.strip() for s in re.split(r',|/', cleaned_text) if s.strip()]\n",
    "        \n",
    "        return species_list if species_list else None\n",
    "\n",
    "    except Exception:\n",
    "        return None\n",
    "\n",
    "# --- Prepare character URLs ---\n",
    "base_url = \"https://www.mariowiki.com\"\n",
    "unique_characters = characters_df['Character'].unique()\n",
    "character_urls = [\n",
    "    f\"{base_url}/{name.replace(' ', '_').replace('&', '%26')}\"\n",
    "    for name in unique_characters\n",
    "]\n",
    "\n",
    "# --- Parallel scraping using ThreadPoolExecutor ---\n",
    "def get_species_for_character(character_url):\n",
    "    with requests.Session() as session:\n",
    "        session.headers.update({\n",
    "            \"User-Agent\": \"Mozilla/5.0 (Windows NT 10.0; Win64; x64) AppleWebKit/537.36 (KHTML, like Gecko) Chrome/116.0.0.0 Safari/537.36\"\n",
    "        })\n",
    "        # The function now returns a list of species or None\n",
    "        return extract_species_from_infobox(character_url, session)\n",
    "\n",
    "with concurrent.futures.ThreadPoolExecutor(max_workers=10) as executor:\n",
    "    # The results will be a list of lists (e.g., [['Human'], ['Koopa', 'Dragon'], None, ...])\n",
    "    results = list(tqdm(\n",
    "        executor.map(get_species_for_character, character_urls),\n",
    "        total=len(character_urls),\n",
    "        desc=\"Extracting Species\"\n",
    "    ))\n",
    "\n",
    "\n",
    "# --- Add the Species column to your DataFrame ---\n",
    "# For Neo4j: it is a common way to store this as a semicolon-delimited string in the CSV.\n",
    "# We handle None cases by turning them into an empty string.\n",
    "# Create a dictionary mapping each unique character to their species\n",
    "species_map = {name: ';'.join(s) if s is not None else '' for name, s in zip(unique_characters, results)}\n",
    "\n",
    "# Use the map to efficiently add the 'Species' column to the original DataFrame\n",
    "characters_df['Species'] = characters_df['Character'].map(species_map)"
   ]
  },
  {
   "cell_type": "code",
   "execution_count": 48,
   "metadata": {},
   "outputs": [
    {
     "data": {
      "application/vnd.microsoft.datawrangler.viewer.v0+json": {
       "columns": [
        {
         "name": "index",
         "rawType": "int64",
         "type": "integer"
        },
        {
         "name": "Character",
         "rawType": "object",
         "type": "string"
        },
        {
         "name": "Game",
         "rawType": "object",
         "type": "string"
        },
        {
         "name": "Relation",
         "rawType": "object",
         "type": "string"
        },
        {
         "name": "Species",
         "rawType": "object",
         "type": "string"
        }
       ],
       "ref": "0deb06ec-1ac0-4557-a328-14d89d63e2d5",
       "rows": [
        [
         "0",
         "5-Volt",
         "WarioWare, Inc.: Mega Microgame$!",
         "CHARACTER_IN",
         "Human"
        ],
        [
         "1",
         "5-Volt",
         "WarioWare: Twisted!",
         "CHARACTER_IN",
         "Human"
        ],
        [
         "2",
         "5-Volt",
         "WarioWare: Touched!",
         "CHARACTER_IN",
         "Human"
        ],
        [
         "3",
         "5-Volt",
         "Game & Wario",
         "CHARACTER_IN",
         "Human"
        ],
        [
         "4",
         "5-Volt",
         "Super Smash Bros. for Wii U",
         "CHARACTER_IN",
         "Human"
        ],
        [
         "5",
         "5-Volt",
         "Super Smash Bros. for Nintendo 3DS",
         "CHARACTER_IN",
         "Human"
        ],
        [
         "6",
         "5-Volt",
         "WarioWare Gold",
         "CHARACTER_IN",
         "Human"
        ],
        [
         "7",
         "5-Volt",
         "Super Smash Bros. Ultimate",
         "CHARACTER_IN",
         "Human"
        ],
        [
         "8",
         "5-Volt",
         "WarioWare: Get It Together!",
         "CHARACTER_IN",
         "Human"
        ],
        [
         "9",
         "5-Volt",
         "Tetris 99",
         "CHARACTER_IN",
         "Human"
        ],
        [
         "10",
         "5-Volt",
         "WarioWare: Move It!",
         "CHARACTER_IN",
         "Human"
        ],
        [
         "11",
         "18-Volt",
         "WarioWare: Twisted!",
         "CHARACTER_IN",
         "Human"
        ],
        [
         "12",
         "18-Volt",
         "WarioWare: Twisted!",
         "CHARACTER_IN",
         "Human"
        ],
        [
         "13",
         "18-Volt",
         "WarioWare: Smooth Moves",
         "CHARACTER_IN",
         "Human"
        ],
        [
         "14",
         "18-Volt",
         "Super Smash Bros. Brawl",
         "CHARACTER_IN",
         "Human"
        ],
        [
         "15",
         "18-Volt",
         "WarioWare: D.I.Y. Showcase",
         "CHARACTER_IN",
         "Human"
        ],
        [
         "16",
         "18-Volt",
         "Game & Wario",
         "CHARACTER_IN",
         "Human"
        ],
        [
         "17",
         "18-Volt",
         "Super Smash Bros. for Wii U",
         "CHARACTER_IN",
         "Human"
        ],
        [
         "18",
         "18-Volt",
         "Rhythm Heaven Megamix",
         "CHARACTER_IN",
         "Human"
        ],
        [
         "19",
         "18-Volt",
         "WarioWare Gold",
         "CHARACTER_IN",
         "Human"
        ],
        [
         "20",
         "18-Volt",
         "Super Smash Bros. Ultimate",
         "CHARACTER_IN",
         "Human"
        ],
        [
         "21",
         "18-Volt",
         "WarioWare: Get It Together!",
         "CHARACTER_IN",
         "Human"
        ],
        [
         "22",
         "18-Volt",
         "Tetris 99",
         "CHARACTER_IN",
         "Human"
        ],
        [
         "23",
         "18-Volt",
         "WarioWare: Move It!",
         "CHARACTER_IN",
         "Human"
        ],
        [
         "24",
         "9-Volt",
         "WarioWare, Inc.: Mega Microgame$!",
         "CHARACTER_IN",
         "Human"
        ],
        [
         "25",
         "9-Volt",
         "Wario World",
         "CHARACTER_IN",
         "Human"
        ],
        [
         "26",
         "9-Volt",
         "WarioWare, Inc.: Mega Party Game$!",
         "CHARACTER_IN",
         "Human"
        ],
        [
         "27",
         "9-Volt",
         "WarioWare: Twisted!",
         "CHARACTER_IN",
         "Human"
        ],
        [
         "28",
         "9-Volt",
         "WarioWare: Touched!",
         "CHARACTER_IN",
         "Human"
        ],
        [
         "29",
         "9-Volt",
         "WarioWare: Smooth Moves",
         "CHARACTER_IN",
         "Human"
        ],
        [
         "30",
         "9-Volt",
         "Super Smash Bros. Brawl",
         "CHARACTER_IN",
         "Human"
        ],
        [
         "31",
         "9-Volt",
         "Paper Airplane Chase",
         "CHARACTER_IN",
         "Human"
        ],
        [
         "32",
         "9-Volt",
         "WarioWare: D.I.Y.",
         "CHARACTER_IN",
         "Human"
        ],
        [
         "33",
         "9-Volt",
         "WarioWare: D.I.Y. Showcase",
         "CHARACTER_IN",
         "Human"
        ],
        [
         "34",
         "9-Volt",
         "Game & Wario",
         "CHARACTER_IN",
         "Human"
        ],
        [
         "35",
         "9-Volt",
         "Super Smash Bros. for Wii U",
         "CHARACTER_IN",
         "Human"
        ],
        [
         "36",
         "9-Volt",
         "Rhythm Heaven Megamix",
         "CHARACTER_IN",
         "Human"
        ],
        [
         "37",
         "9-Volt",
         "WarioWare Gold",
         "CHARACTER_IN",
         "Human"
        ],
        [
         "38",
         "9-Volt",
         "Super Smash Bros. Ultimate",
         "CHARACTER_IN",
         "Human"
        ],
        [
         "39",
         "9-Volt",
         "WarioWare: Get It Together!",
         "CHARACTER_IN",
         "Human"
        ],
        [
         "40",
         "9-Volt",
         "Tetris 99",
         "CHARACTER_IN",
         "Human"
        ],
        [
         "41",
         "9-Volt",
         "WarioWare: Move It!",
         "CHARACTER_IN",
         "Human"
        ],
        [
         "42",
         "Ancient Minister",
         "Super Mario RPG: Legend of the Seven Stars",
         "CHARACTER_IN",
         "Robot"
        ],
        [
         "43",
         "Ancient Minister",
         "WarioWare, Inc.: Mega Microgame$!",
         "CHARACTER_IN",
         "Robot"
        ],
        [
         "44",
         "Ancient Minister",
         "WarioWare: Twisted!",
         "CHARACTER_IN",
         "Robot"
        ],
        [
         "45",
         "Ancient Minister",
         "WarioWare: Touched!",
         "CHARACTER_IN",
         "Robot"
        ],
        [
         "46",
         "Ancient Minister",
         "Mario Kart DS",
         "CHARACTER_IN",
         "Robot"
        ],
        [
         "47",
         "Ancient Minister",
         "WarioWare: Smooth Moves",
         "CHARACTER_IN",
         "Robot"
        ],
        [
         "48",
         "Ancient Minister",
         "Super Smash Bros. Brawl",
         "CHARACTER_IN",
         "Robot"
        ],
        [
         "49",
         "Ancient Minister",
         "Super Smash Bros. for Nintendo 3DS",
         "CHARACTER_IN",
         "Robot"
        ]
       ],
       "shape": {
        "columns": 4,
        "rows": 3328
       }
      },
      "text/html": [
       "<div>\n",
       "<style scoped>\n",
       "    .dataframe tbody tr th:only-of-type {\n",
       "        vertical-align: middle;\n",
       "    }\n",
       "\n",
       "    .dataframe tbody tr th {\n",
       "        vertical-align: top;\n",
       "    }\n",
       "\n",
       "    .dataframe thead th {\n",
       "        text-align: right;\n",
       "    }\n",
       "</style>\n",
       "<table border=\"1\" class=\"dataframe\">\n",
       "  <thead>\n",
       "    <tr style=\"text-align: right;\">\n",
       "      <th></th>\n",
       "      <th>Character</th>\n",
       "      <th>Game</th>\n",
       "      <th>Relation</th>\n",
       "      <th>Species</th>\n",
       "    </tr>\n",
       "  </thead>\n",
       "  <tbody>\n",
       "    <tr>\n",
       "      <th>0</th>\n",
       "      <td>5-Volt</td>\n",
       "      <td>WarioWare, Inc.: Mega Microgame$!</td>\n",
       "      <td>CHARACTER_IN</td>\n",
       "      <td>Human</td>\n",
       "    </tr>\n",
       "    <tr>\n",
       "      <th>1</th>\n",
       "      <td>5-Volt</td>\n",
       "      <td>WarioWare: Twisted!</td>\n",
       "      <td>CHARACTER_IN</td>\n",
       "      <td>Human</td>\n",
       "    </tr>\n",
       "    <tr>\n",
       "      <th>2</th>\n",
       "      <td>5-Volt</td>\n",
       "      <td>WarioWare: Touched!</td>\n",
       "      <td>CHARACTER_IN</td>\n",
       "      <td>Human</td>\n",
       "    </tr>\n",
       "    <tr>\n",
       "      <th>3</th>\n",
       "      <td>5-Volt</td>\n",
       "      <td>Game &amp; Wario</td>\n",
       "      <td>CHARACTER_IN</td>\n",
       "      <td>Human</td>\n",
       "    </tr>\n",
       "    <tr>\n",
       "      <th>4</th>\n",
       "      <td>5-Volt</td>\n",
       "      <td>Super Smash Bros. for Wii U</td>\n",
       "      <td>CHARACTER_IN</td>\n",
       "      <td>Human</td>\n",
       "    </tr>\n",
       "    <tr>\n",
       "      <th>...</th>\n",
       "      <td>...</td>\n",
       "      <td>...</td>\n",
       "      <td>...</td>\n",
       "      <td>...</td>\n",
       "    </tr>\n",
       "    <tr>\n",
       "      <th>3323</th>\n",
       "      <td>Yoshi</td>\n",
       "      <td>Super Mario Bros. Wonder</td>\n",
       "      <td>CHARACTER_IN</td>\n",
       "      <td>Yoshi</td>\n",
       "    </tr>\n",
       "    <tr>\n",
       "      <th>3324</th>\n",
       "      <td>Yoshi</td>\n",
       "      <td>WarioWare: Move It!</td>\n",
       "      <td>CHARACTER_IN</td>\n",
       "      <td>Yoshi</td>\n",
       "    </tr>\n",
       "    <tr>\n",
       "      <th>3325</th>\n",
       "      <td>Yoshi</td>\n",
       "      <td>Super Mario RPG</td>\n",
       "      <td>CHARACTER_IN</td>\n",
       "      <td>Yoshi</td>\n",
       "    </tr>\n",
       "    <tr>\n",
       "      <th>3326</th>\n",
       "      <td>Yoshi</td>\n",
       "      <td>Super Mario Party Jamboree</td>\n",
       "      <td>CHARACTER_IN</td>\n",
       "      <td>Yoshi</td>\n",
       "    </tr>\n",
       "    <tr>\n",
       "      <th>3327</th>\n",
       "      <td>Yoshi</td>\n",
       "      <td>Mario &amp; Luigi: Brothership</td>\n",
       "      <td>CHARACTER_IN</td>\n",
       "      <td>Yoshi</td>\n",
       "    </tr>\n",
       "  </tbody>\n",
       "</table>\n",
       "<p>3328 rows × 4 columns</p>\n",
       "</div>"
      ],
      "text/plain": [
       "     Character                               Game      Relation Species\n",
       "0       5-Volt  WarioWare, Inc.: Mega Microgame$!  CHARACTER_IN   Human\n",
       "1       5-Volt                WarioWare: Twisted!  CHARACTER_IN   Human\n",
       "2       5-Volt                WarioWare: Touched!  CHARACTER_IN   Human\n",
       "3       5-Volt                       Game & Wario  CHARACTER_IN   Human\n",
       "4       5-Volt        Super Smash Bros. for Wii U  CHARACTER_IN   Human\n",
       "...        ...                                ...           ...     ...\n",
       "3323     Yoshi           Super Mario Bros. Wonder  CHARACTER_IN   Yoshi\n",
       "3324     Yoshi                WarioWare: Move It!  CHARACTER_IN   Yoshi\n",
       "3325     Yoshi                    Super Mario RPG  CHARACTER_IN   Yoshi\n",
       "3326     Yoshi         Super Mario Party Jamboree  CHARACTER_IN   Yoshi\n",
       "3327     Yoshi         Mario & Luigi: Brothership  CHARACTER_IN   Yoshi\n",
       "\n",
       "[3328 rows x 4 columns]"
      ]
     },
     "execution_count": 48,
     "metadata": {},
     "output_type": "execute_result"
    }
   ],
   "source": [
    "characters_df"
   ]
  },
  {
   "cell_type": "code",
   "execution_count": null,
   "metadata": {},
   "outputs": [
    {
     "name": "stdout",
     "output_type": "stream",
     "text": [
      "✅ Data saved to 'characters_df.csv'\n"
     ]
    },
    {
     "data": {
      "application/vnd.microsoft.datawrangler.viewer.v0+json": {
       "columns": [
        {
         "name": "index",
         "rawType": "int64",
         "type": "integer"
        },
        {
         "name": "Character",
         "rawType": "object",
         "type": "string"
        },
        {
         "name": "Game",
         "rawType": "object",
         "type": "string"
        },
        {
         "name": "Relation",
         "rawType": "object",
         "type": "string"
        },
        {
         "name": "Species",
         "rawType": "object",
         "type": "string"
        }
       ],
       "ref": "e81efe16-4926-40e6-9044-ad9bbfa3c89c",
       "rows": [
        [
         "0",
         "5-Volt",
         "WarioWare, Inc.: Mega Microgame$!",
         "CHARACTER_IN",
         "Human"
        ],
        [
         "1",
         "5-Volt",
         "WarioWare: Twisted!",
         "CHARACTER_IN",
         "Human"
        ],
        [
         "2",
         "5-Volt",
         "WarioWare: Touched!",
         "CHARACTER_IN",
         "Human"
        ],
        [
         "3",
         "5-Volt",
         "Game & Wario",
         "CHARACTER_IN",
         "Human"
        ],
        [
         "4",
         "5-Volt",
         "Super Smash Bros. for Wii U",
         "CHARACTER_IN",
         "Human"
        ],
        [
         "5",
         "5-Volt",
         "Super Smash Bros. for Nintendo 3DS",
         "CHARACTER_IN",
         "Human"
        ],
        [
         "6",
         "5-Volt",
         "WarioWare Gold",
         "CHARACTER_IN",
         "Human"
        ],
        [
         "7",
         "5-Volt",
         "Super Smash Bros. Ultimate",
         "CHARACTER_IN",
         "Human"
        ],
        [
         "8",
         "5-Volt",
         "WarioWare: Get It Together!",
         "CHARACTER_IN",
         "Human"
        ],
        [
         "9",
         "5-Volt",
         "Tetris 99",
         "CHARACTER_IN",
         "Human"
        ],
        [
         "10",
         "5-Volt",
         "WarioWare: Move It!",
         "CHARACTER_IN",
         "Human"
        ],
        [
         "11",
         "18-Volt",
         "WarioWare: Twisted!",
         "CHARACTER_IN",
         "Human"
        ],
        [
         "12",
         "18-Volt",
         "WarioWare: Twisted!",
         "CHARACTER_IN",
         "Human"
        ],
        [
         "13",
         "18-Volt",
         "WarioWare: Smooth Moves",
         "CHARACTER_IN",
         "Human"
        ],
        [
         "14",
         "18-Volt",
         "Super Smash Bros. Brawl",
         "CHARACTER_IN",
         "Human"
        ],
        [
         "15",
         "18-Volt",
         "WarioWare: D.I.Y. Showcase",
         "CHARACTER_IN",
         "Human"
        ],
        [
         "16",
         "18-Volt",
         "Game & Wario",
         "CHARACTER_IN",
         "Human"
        ],
        [
         "17",
         "18-Volt",
         "Super Smash Bros. for Wii U",
         "CHARACTER_IN",
         "Human"
        ],
        [
         "18",
         "18-Volt",
         "Rhythm Heaven Megamix",
         "CHARACTER_IN",
         "Human"
        ],
        [
         "19",
         "18-Volt",
         "WarioWare Gold",
         "CHARACTER_IN",
         "Human"
        ],
        [
         "20",
         "18-Volt",
         "Super Smash Bros. Ultimate",
         "CHARACTER_IN",
         "Human"
        ],
        [
         "21",
         "18-Volt",
         "WarioWare: Get It Together!",
         "CHARACTER_IN",
         "Human"
        ],
        [
         "22",
         "18-Volt",
         "Tetris 99",
         "CHARACTER_IN",
         "Human"
        ],
        [
         "23",
         "18-Volt",
         "WarioWare: Move It!",
         "CHARACTER_IN",
         "Human"
        ],
        [
         "24",
         "9-Volt",
         "WarioWare, Inc.: Mega Microgame$!",
         "CHARACTER_IN",
         "Human"
        ],
        [
         "25",
         "9-Volt",
         "Wario World",
         "CHARACTER_IN",
         "Human"
        ],
        [
         "26",
         "9-Volt",
         "WarioWare, Inc.: Mega Party Game$!",
         "CHARACTER_IN",
         "Human"
        ],
        [
         "27",
         "9-Volt",
         "WarioWare: Twisted!",
         "CHARACTER_IN",
         "Human"
        ],
        [
         "28",
         "9-Volt",
         "WarioWare: Touched!",
         "CHARACTER_IN",
         "Human"
        ],
        [
         "29",
         "9-Volt",
         "WarioWare: Smooth Moves",
         "CHARACTER_IN",
         "Human"
        ],
        [
         "30",
         "9-Volt",
         "Super Smash Bros. Brawl",
         "CHARACTER_IN",
         "Human"
        ],
        [
         "31",
         "9-Volt",
         "Paper Airplane Chase",
         "CHARACTER_IN",
         "Human"
        ],
        [
         "32",
         "9-Volt",
         "WarioWare: D.I.Y.",
         "CHARACTER_IN",
         "Human"
        ],
        [
         "33",
         "9-Volt",
         "WarioWare: D.I.Y. Showcase",
         "CHARACTER_IN",
         "Human"
        ],
        [
         "34",
         "9-Volt",
         "Game & Wario",
         "CHARACTER_IN",
         "Human"
        ],
        [
         "35",
         "9-Volt",
         "Super Smash Bros. for Wii U",
         "CHARACTER_IN",
         "Human"
        ],
        [
         "36",
         "9-Volt",
         "Rhythm Heaven Megamix",
         "CHARACTER_IN",
         "Human"
        ],
        [
         "37",
         "9-Volt",
         "WarioWare Gold",
         "CHARACTER_IN",
         "Human"
        ],
        [
         "38",
         "9-Volt",
         "Super Smash Bros. Ultimate",
         "CHARACTER_IN",
         "Human"
        ],
        [
         "39",
         "9-Volt",
         "WarioWare: Get It Together!",
         "CHARACTER_IN",
         "Human"
        ],
        [
         "40",
         "9-Volt",
         "Tetris 99",
         "CHARACTER_IN",
         "Human"
        ],
        [
         "41",
         "9-Volt",
         "WarioWare: Move It!",
         "CHARACTER_IN",
         "Human"
        ],
        [
         "42",
         "Ancient Minister",
         "Super Mario RPG: Legend of the Seven Stars",
         "CHARACTER_IN",
         "Robot"
        ],
        [
         "43",
         "Ancient Minister",
         "WarioWare, Inc.: Mega Microgame$!",
         "CHARACTER_IN",
         "Robot"
        ],
        [
         "44",
         "Ancient Minister",
         "WarioWare: Twisted!",
         "CHARACTER_IN",
         "Robot"
        ],
        [
         "45",
         "Ancient Minister",
         "WarioWare: Touched!",
         "CHARACTER_IN",
         "Robot"
        ],
        [
         "46",
         "Ancient Minister",
         "Mario Kart DS",
         "CHARACTER_IN",
         "Robot"
        ],
        [
         "47",
         "Ancient Minister",
         "WarioWare: Smooth Moves",
         "CHARACTER_IN",
         "Robot"
        ],
        [
         "48",
         "Ancient Minister",
         "Super Smash Bros. Brawl",
         "CHARACTER_IN",
         "Robot"
        ],
        [
         "49",
         "Ancient Minister",
         "Super Smash Bros. for Nintendo 3DS",
         "CHARACTER_IN",
         "Robot"
        ]
       ],
       "shape": {
        "columns": 4,
        "rows": 3328
       }
      },
      "text/html": [
       "<div>\n",
       "<style scoped>\n",
       "    .dataframe tbody tr th:only-of-type {\n",
       "        vertical-align: middle;\n",
       "    }\n",
       "\n",
       "    .dataframe tbody tr th {\n",
       "        vertical-align: top;\n",
       "    }\n",
       "\n",
       "    .dataframe thead th {\n",
       "        text-align: right;\n",
       "    }\n",
       "</style>\n",
       "<table border=\"1\" class=\"dataframe\">\n",
       "  <thead>\n",
       "    <tr style=\"text-align: right;\">\n",
       "      <th></th>\n",
       "      <th>Character</th>\n",
       "      <th>Game</th>\n",
       "      <th>Relation</th>\n",
       "      <th>Species</th>\n",
       "    </tr>\n",
       "  </thead>\n",
       "  <tbody>\n",
       "    <tr>\n",
       "      <th>0</th>\n",
       "      <td>5-Volt</td>\n",
       "      <td>WarioWare, Inc.: Mega Microgame$!</td>\n",
       "      <td>CHARACTER_IN</td>\n",
       "      <td>Human</td>\n",
       "    </tr>\n",
       "    <tr>\n",
       "      <th>1</th>\n",
       "      <td>5-Volt</td>\n",
       "      <td>WarioWare: Twisted!</td>\n",
       "      <td>CHARACTER_IN</td>\n",
       "      <td>Human</td>\n",
       "    </tr>\n",
       "    <tr>\n",
       "      <th>2</th>\n",
       "      <td>5-Volt</td>\n",
       "      <td>WarioWare: Touched!</td>\n",
       "      <td>CHARACTER_IN</td>\n",
       "      <td>Human</td>\n",
       "    </tr>\n",
       "    <tr>\n",
       "      <th>3</th>\n",
       "      <td>5-Volt</td>\n",
       "      <td>Game &amp; Wario</td>\n",
       "      <td>CHARACTER_IN</td>\n",
       "      <td>Human</td>\n",
       "    </tr>\n",
       "    <tr>\n",
       "      <th>4</th>\n",
       "      <td>5-Volt</td>\n",
       "      <td>Super Smash Bros. for Wii U</td>\n",
       "      <td>CHARACTER_IN</td>\n",
       "      <td>Human</td>\n",
       "    </tr>\n",
       "    <tr>\n",
       "      <th>...</th>\n",
       "      <td>...</td>\n",
       "      <td>...</td>\n",
       "      <td>...</td>\n",
       "      <td>...</td>\n",
       "    </tr>\n",
       "    <tr>\n",
       "      <th>3323</th>\n",
       "      <td>Yoshi</td>\n",
       "      <td>Super Mario Bros. Wonder</td>\n",
       "      <td>CHARACTER_IN</td>\n",
       "      <td>Yoshi</td>\n",
       "    </tr>\n",
       "    <tr>\n",
       "      <th>3324</th>\n",
       "      <td>Yoshi</td>\n",
       "      <td>WarioWare: Move It!</td>\n",
       "      <td>CHARACTER_IN</td>\n",
       "      <td>Yoshi</td>\n",
       "    </tr>\n",
       "    <tr>\n",
       "      <th>3325</th>\n",
       "      <td>Yoshi</td>\n",
       "      <td>Super Mario RPG</td>\n",
       "      <td>CHARACTER_IN</td>\n",
       "      <td>Yoshi</td>\n",
       "    </tr>\n",
       "    <tr>\n",
       "      <th>3326</th>\n",
       "      <td>Yoshi</td>\n",
       "      <td>Super Mario Party Jamboree</td>\n",
       "      <td>CHARACTER_IN</td>\n",
       "      <td>Yoshi</td>\n",
       "    </tr>\n",
       "    <tr>\n",
       "      <th>3327</th>\n",
       "      <td>Yoshi</td>\n",
       "      <td>Mario &amp; Luigi: Brothership</td>\n",
       "      <td>CHARACTER_IN</td>\n",
       "      <td>Yoshi</td>\n",
       "    </tr>\n",
       "  </tbody>\n",
       "</table>\n",
       "<p>3328 rows × 4 columns</p>\n",
       "</div>"
      ],
      "text/plain": [
       "     Character                               Game      Relation Species\n",
       "0       5-Volt  WarioWare, Inc.: Mega Microgame$!  CHARACTER_IN   Human\n",
       "1       5-Volt                WarioWare: Twisted!  CHARACTER_IN   Human\n",
       "2       5-Volt                WarioWare: Touched!  CHARACTER_IN   Human\n",
       "3       5-Volt                       Game & Wario  CHARACTER_IN   Human\n",
       "4       5-Volt        Super Smash Bros. for Wii U  CHARACTER_IN   Human\n",
       "...        ...                                ...           ...     ...\n",
       "3323     Yoshi           Super Mario Bros. Wonder  CHARACTER_IN   Yoshi\n",
       "3324     Yoshi                WarioWare: Move It!  CHARACTER_IN   Yoshi\n",
       "3325     Yoshi                    Super Mario RPG  CHARACTER_IN   Yoshi\n",
       "3326     Yoshi         Super Mario Party Jamboree  CHARACTER_IN   Yoshi\n",
       "3327     Yoshi         Mario & Luigi: Brothership  CHARACTER_IN   Yoshi\n",
       "\n",
       "[3328 rows x 4 columns]"
      ]
     },
     "execution_count": 49,
     "metadata": {},
     "output_type": "execute_result"
    }
   ],
   "source": [
    "# Save the DataFrame to a CSV file\n",
    "characters_df.to_csv('data/characters_df.csv', index=False)\n",
    "print(\"✅ Data saved to 'characters_df.csv'\")\n",
    "# Display the final DataFrame\n",
    "characters_df"
   ]
  },
  {
   "cell_type": "markdown",
   "metadata": {},
   "source": [
    "## Games"
   ]
  },
  {
   "cell_type": "code",
   "execution_count": null,
   "metadata": {},
   "outputs": [
    {
     "name": "stdout",
     "output_type": "stream",
     "text": [
      "🔎 Scraping games data from https://www.mariowiki.com/List_of_games_by_date\n"
     ]
    },
    {
     "name": "stderr",
     "output_type": "stream",
     "text": [
      "Processing date sections: 100%|██████████| 46/46 [00:09<00:00,  5.07it/s]"
     ]
    },
    {
     "name": "stdout",
     "output_type": "stream",
     "text": [
      "✅ Successfully obtained 428 games.\n"
     ]
    },
    {
     "name": "stderr",
     "output_type": "stream",
     "text": [
      "\n"
     ]
    }
   ],
   "source": [
    "def scrape_mario_games_by_date():\n",
    "    \"\"\"\n",
    "    Scrape the list of Mario games by date from the Mario Wiki\n",
    "    \n",
    "    Returns:\n",
    "        DataFrame: Contains game titles, release dates, and systems/consoles\n",
    "    \"\"\"\n",
    "    # URL for the list of games by date\n",
    "    url = \"https://www.mariowiki.com/List_of_games_by_date\"\n",
    "    \n",
    "    # User agent to mimic a browser\n",
    "    headers = {\n",
    "        \"User-Agent\": \"Mozilla/5.0 (Windows NT 10.0; Win64; x64) AppleWebKit/537.36 (KHTML, like Gecko) Chrome/116.0.0.0 Safari/537.36\"\n",
    "    }\n",
    "    \n",
    "    # Create a session for better performance\n",
    "    session = requests.Session()\n",
    "    session.headers.update(headers)\n",
    "    \n",
    "    # Lists to store data\n",
    "    game_titles = []\n",
    "    release_dates = []\n",
    "    systems = []\n",
    "    \n",
    "    try:\n",
    "        # Fetch the page content\n",
    "        print(f\"🔎 Scraping games data from {url}\")\n",
    "        response = session.get(url, timeout=10)\n",
    "        response.raise_for_status()\n",
    "        \n",
    "        # Parse HTML content\n",
    "        soup = BeautifulSoup(response.text, 'html.parser')\n",
    "        \n",
    "        # Find all h2 tags (which contain the release dates)\n",
    "        h2_tags = soup.select('h2')\n",
    "        \n",
    "        # Process each date section\n",
    "        for h2 in tqdm(h2_tags, desc=\"Processing date sections\"):\n",
    "            # Skip non-date headers\n",
    "            if not h2.span or not h2.span.get('id'):\n",
    "                continue\n",
    "                \n",
    "            # Extract the date from the section heading\n",
    "            date_id = h2.span.get('id')\n",
    "            \n",
    "            # Skip non-date sections like \"References\"\n",
    "            if date_id in [\"References\", \"Navigation\"]:\n",
    "                continue\n",
    "                \n",
    "            # Try to parse the date\n",
    "            release_date = date_id\n",
    "            \n",
    "            # Find the unordered list following this heading\n",
    "            game_list = h2.find_next('ul')\n",
    "            \n",
    "            if not game_list:\n",
    "                continue\n",
    "                \n",
    "            # Process each game in the list\n",
    "            for item in game_list.find_all('li'):\n",
    "                text = item.get_text().strip()\n",
    "                \n",
    "                # Skip empty items\n",
    "                if not text:\n",
    "                    continue\n",
    "                    \n",
    "                # Split the game title and system/console\n",
    "                #parts = re.split(r'\\s+-\\s+', text, maxsplit=1)\n",
    "                parts = text.rsplit(' - ', 1)\n",
    "\n",
    "                if len(parts) == 2:\n",
    "                    # Remove any extra parentheses from the game title\n",
    "                    game_title = re.sub(r'\\s*\\(.*?\\)\\s*', '', parts[0].strip())\n",
    "                    system = parts[1].strip()\n",
    "\n",
    "                    if system == \"Nintendo Switch 2 (UPCOMING)\":\n",
    "                        system = \"Nintendo Switch 2\"\n",
    "                    \n",
    "                    # Add data to our lists\n",
    "                    game_titles.append(game_title)\n",
    "                    release_dates.append(release_date)\n",
    "                    systems.append(system)\n",
    "                elif len(parts) == 1 and text:\n",
    "                    # Some entries might not have a system specified\n",
    "                    game_titles.append(text)\n",
    "                    release_dates.append(release_date)\n",
    "                    systems.append(\"N/A\")\n",
    "            \n",
    "            # Add a small delay between processing date sections to be nice to the server\n",
    "            time.sleep(0.2)\n",
    "        \n",
    "        # Create a DataFrame\n",
    "        df_games = pd.DataFrame({\n",
    "            'Game': game_titles,\n",
    "            'Year': release_dates,\n",
    "            'Console': systems\n",
    "        })\n",
    "        \n",
    "        # Sort by release date (chronologically)\n",
    "        df_games['Parsed Date'] = pd.to_datetime(df_games['Year'], errors='coerce')\n",
    "        df_games = df_games.sort_values('Parsed Date').reset_index(drop=True)\n",
    "        # Drop the temporary 'Parsed Date' column\n",
    "        df_games = df_games.drop('Parsed Date', axis=1)\n",
    "        \n",
    "        print(f\"✅ Successfully obtained {len(df_games)} games.\")\n",
    "        return df_games\n",
    "        \n",
    "    except requests.exceptions.RequestException as e:\n",
    "        print(f\"❌ Error fetching page: {e}\")\n",
    "        return pd.DataFrame()\n",
    "    except Exception as e:\n",
    "        print(f\"❌ Error processing data: {e}\")\n",
    "        return pd.DataFrame()\n",
    "\n",
    "# Execute the scraping function\n",
    "games_df = scrape_mario_games_by_date()"
   ]
  },
  {
   "cell_type": "code",
   "execution_count": null,
   "metadata": {},
   "outputs": [
    {
     "data": {
      "application/vnd.microsoft.datawrangler.viewer.v0+json": {
       "columns": [
        {
         "name": "index",
         "rawType": "int64",
         "type": "integer"
        },
        {
         "name": "Game",
         "rawType": "object",
         "type": "string"
        },
        {
         "name": "Year",
         "rawType": "object",
         "type": "string"
        },
        {
         "name": "Console",
         "rawType": "object",
         "type": "string"
        }
       ],
       "ref": "4ebc39de-1d1b-4eb5-ac04-fb8f73732848",
       "rows": [
        [
         "0",
         "Donkey Kong",
         "1981",
         "Arcade"
        ],
        [
         "1",
         "Crazy Kong",
         "1981",
         "Arcade"
        ],
        [
         "2",
         "Crazy Kong Part II",
         "1981",
         "Arcade"
        ],
        [
         "3",
         "Green House",
         "1982",
         "Game & Watch"
        ],
        [
         "4",
         "Donkey Kong",
         "1982",
         "Intellivision"
        ],
        [
         "5",
         "Donkey Kong Jr.",
         "1982",
         "Arcade"
        ],
        [
         "6",
         "Donkey Kong Jr.",
         "1982",
         "Game & Watch"
        ],
        [
         "7",
         "Donkey Kong",
         "1982",
         "ColecoVision"
        ],
        [
         "8",
         "Donkey Kong",
         "1982",
         "Atari 2600"
        ],
        [
         "9",
         "Donkey Kong",
         "1982",
         "Game & Watch"
        ],
        [
         "10",
         "Donkey Kong",
         "1982",
         "Coleco Tabletop"
        ],
        [
         "11",
         "Donkey Kong Jr.",
         "1983",
         "Intellivision"
        ],
        [
         "12",
         "Donkey Kong Jr. Math",
         "1983",
         "Famicom / NES"
        ],
        [
         "13",
         "Donkey Kong",
         "1983",
         "Apple II"
        ],
        [
         "14",
         "Mario's Bombs Away",
         "1983",
         "Game & Watch"
        ],
        [
         "15",
         "Donkey Kong",
         "1983",
         "MS-DOS"
        ],
        [
         "16",
         "Donkey Kong",
         "1983",
         "TI-99/4A"
        ],
        [
         "17",
         "Donkey Kong 3",
         "1983",
         "Arcade"
        ],
        [
         "18",
         "Donkey Kong Jr. + Jr. Sansū Lesson",
         "1983",
         "Famicom"
        ],
        [
         "19",
         "Mario Bros.",
         "1983",
         "Famicom / NES"
        ],
        [
         "20",
         "Mario Bros.",
         "1983",
         "Atari 2600"
        ],
        [
         "21",
         "Donkey Kong Jr.",
         "1983",
         "Famicom / NES"
        ],
        [
         "22",
         "Donkey Kong II",
         "1983",
         "Game & Watch"
        ],
        [
         "23",
         "Mario Bros.",
         "1983",
         "Game & Watch"
        ],
        [
         "24",
         "Donkey Kong Jr.",
         "1983",
         "Game & Watch"
        ],
        [
         "25",
         "Donkey Kong Jr.",
         "1983",
         "ColecoVision"
        ],
        [
         "26",
         "Donkey Kong",
         "1983",
         "Atari 8-bit computers"
        ],
        [
         "27",
         "Mario Bros.",
         "1983",
         "Arcade"
        ],
        [
         "28",
         "Donkey Kong",
         "1983",
         "Famicom / NES"
        ],
        [
         "29",
         "Mario's Cement Factory",
         "1983",
         "Game & Watch"
        ],
        [
         "30",
         "Donkey Kong Jr.",
         "1983",
         "Atari 2600"
        ],
        [
         "31",
         "Donkey Kong Hockey",
         "1984",
         "Game & Watch"
        ],
        [
         "32",
         "Mario Bros. Special",
         "1984",
         "NEC PC-6001mkII/6601, NEC PC-8001, NEC PC-8801mkII, NEC PC-9801, FM-7, Sharp X1, Sharp MZ-1500, Sharp MZ-2200, Hitachi S1, SMC-777"
        ],
        [
         "33",
         "Punch Ball Mario Bros.",
         "1984",
         "NEC PC-6001mkII/6601, NEC PC-8001mkII,NEC PC-8801, FM-7, Sharp X1, Sharp MZ-1500, Hitachi S1, IBM JX"
        ],
        [
         "34",
         "Donkey Kong Circus",
         "1984",
         "Game & Watch"
        ],
        [
         "35",
         "Donkey Kong 3",
         "1984",
         "Game & Watch"
        ],
        [
         "36",
         "VS. Wrecking Crew",
         "1984",
         "Arcade"
        ],
        [
         "37",
         "Donkey Kong 3: Dai Gyakushū",
         "1984",
         "NEC PC-6001mkII/6601, NEC PC-8801, Sharp X1, IBM JX"
        ],
        [
         "38",
         "VS. Pinball",
         "1984",
         "VS. System"
        ],
        [
         "39",
         "Stroke & Match Golf",
         "1984",
         "VS. System"
        ],
        [
         "40",
         "Donkey Kong",
         "1984",
         "Coleco Adam"
        ],
        [
         "41",
         "Golf",
         "1984",
         "Famicom / NES"
        ],
        [
         "42",
         "Donkey Kong Jr.",
         "1984",
         "Coleco Adam"
        ],
        [
         "43",
         "Donkey Kong Jr.",
         "1984",
         "Atari 8-bit computers"
        ],
        [
         "44",
         "Pinball",
         "1984",
         "Famicom / NES"
        ],
        [
         "45",
         "Mario Bros.",
         "1984",
         "PC-8001"
        ],
        [
         "46",
         "Mario Bros.",
         "1984",
         "Atari 5200"
        ],
        [
         "47",
         "Donkey Kong",
         "1984",
         "Commodore 64"
        ],
        [
         "48",
         "Donkey Kong",
         "1984",
         "Commodore VIC-20"
        ],
        [
         "49",
         "Donkey Kong 3",
         "1984",
         "Famicom / NES"
        ]
       ],
       "shape": {
        "columns": 3,
        "rows": 428
       }
      },
      "text/html": [
       "<div>\n",
       "<style scoped>\n",
       "    .dataframe tbody tr th:only-of-type {\n",
       "        vertical-align: middle;\n",
       "    }\n",
       "\n",
       "    .dataframe tbody tr th {\n",
       "        vertical-align: top;\n",
       "    }\n",
       "\n",
       "    .dataframe thead th {\n",
       "        text-align: right;\n",
       "    }\n",
       "</style>\n",
       "<table border=\"1\" class=\"dataframe\">\n",
       "  <thead>\n",
       "    <tr style=\"text-align: right;\">\n",
       "      <th></th>\n",
       "      <th>Game</th>\n",
       "      <th>Year</th>\n",
       "      <th>Console</th>\n",
       "    </tr>\n",
       "  </thead>\n",
       "  <tbody>\n",
       "    <tr>\n",
       "      <th>0</th>\n",
       "      <td>Donkey Kong</td>\n",
       "      <td>1981</td>\n",
       "      <td>Arcade</td>\n",
       "    </tr>\n",
       "    <tr>\n",
       "      <th>1</th>\n",
       "      <td>Crazy Kong</td>\n",
       "      <td>1981</td>\n",
       "      <td>Arcade</td>\n",
       "    </tr>\n",
       "    <tr>\n",
       "      <th>2</th>\n",
       "      <td>Crazy Kong Part II</td>\n",
       "      <td>1981</td>\n",
       "      <td>Arcade</td>\n",
       "    </tr>\n",
       "    <tr>\n",
       "      <th>3</th>\n",
       "      <td>Green House</td>\n",
       "      <td>1982</td>\n",
       "      <td>Game &amp; Watch</td>\n",
       "    </tr>\n",
       "    <tr>\n",
       "      <th>4</th>\n",
       "      <td>Donkey Kong</td>\n",
       "      <td>1982</td>\n",
       "      <td>Intellivision</td>\n",
       "    </tr>\n",
       "    <tr>\n",
       "      <th>...</th>\n",
       "      <td>...</td>\n",
       "      <td>...</td>\n",
       "      <td>...</td>\n",
       "    </tr>\n",
       "    <tr>\n",
       "      <th>423</th>\n",
       "      <td>Super Mario Party Jamboree</td>\n",
       "      <td>2024</td>\n",
       "      <td>Nintendo Switch</td>\n",
       "    </tr>\n",
       "    <tr>\n",
       "      <th>424</th>\n",
       "      <td>Mario &amp; Luigi: Brothership</td>\n",
       "      <td>2024</td>\n",
       "      <td>Nintendo Switch</td>\n",
       "    </tr>\n",
       "    <tr>\n",
       "      <th>425</th>\n",
       "      <td>Mario Kart World</td>\n",
       "      <td>2025</td>\n",
       "      <td>Nintendo Switch 2</td>\n",
       "    </tr>\n",
       "    <tr>\n",
       "      <th>426</th>\n",
       "      <td>Donkey Kong Country Returns HD</td>\n",
       "      <td>2025</td>\n",
       "      <td>Nintendo Switch</td>\n",
       "    </tr>\n",
       "    <tr>\n",
       "      <th>427</th>\n",
       "      <td>Donkey Kong Bananza</td>\n",
       "      <td>2025</td>\n",
       "      <td>Nintendo Switch 2</td>\n",
       "    </tr>\n",
       "  </tbody>\n",
       "</table>\n",
       "<p>428 rows × 3 columns</p>\n",
       "</div>"
      ],
      "text/plain": [
       "                               Game  Year            Console\n",
       "0                       Donkey Kong  1981             Arcade\n",
       "1                        Crazy Kong  1981             Arcade\n",
       "2                Crazy Kong Part II  1981             Arcade\n",
       "3                       Green House  1982       Game & Watch\n",
       "4                       Donkey Kong  1982      Intellivision\n",
       "..                              ...   ...                ...\n",
       "423      Super Mario Party Jamboree  2024    Nintendo Switch\n",
       "424      Mario & Luigi: Brothership  2024    Nintendo Switch\n",
       "425                Mario Kart World  2025  Nintendo Switch 2\n",
       "426  Donkey Kong Country Returns HD  2025    Nintendo Switch\n",
       "427             Donkey Kong Bananza  2025  Nintendo Switch 2\n",
       "\n",
       "[428 rows x 3 columns]"
      ]
     },
     "execution_count": 85,
     "metadata": {},
     "output_type": "execute_result"
    }
   ],
   "source": [
    "\n",
    "# Save the DataFrame to a CSV file\n",
    "games_df.to_csv('data/games_data.csv', index=False)\n",
    "print(\"✅ Data saved to 'games_data.csv'\")\n",
    "# Print the DataFrame\n",
    "games_df"
   ]
  },
  {
   "cell_type": "markdown",
   "metadata": {},
   "source": [
    "## Video Game Sales dataset from Kaggle"
   ]
  },
  {
   "cell_type": "code",
   "execution_count": null,
   "metadata": {},
   "outputs": [
    {
     "name": "stdout",
     "output_type": "stream",
     "text": [
      "📊 16928 entries loaded successfully from the Video_Games dataset.\n",
      "🔎 Checking for matching games in the Video_Games dataset...\n",
      "✅ 223 matching games found.\n"
     ]
    },
    {
     "data": {
      "application/vnd.microsoft.datawrangler.viewer.v0+json": {
       "columns": [
        {
         "name": "index",
         "rawType": "int64",
         "type": "integer"
        },
        {
         "name": "Name",
         "rawType": "object",
         "type": "string"
        },
        {
         "name": "Platform",
         "rawType": "object",
         "type": "string"
        },
        {
         "name": "Year_of_Release",
         "rawType": "float64",
         "type": "float"
        },
        {
         "name": "Global_Sales",
         "rawType": "float64",
         "type": "float"
        }
       ],
       "ref": "3becde25-bf1a-4d4e-9695-d8e3f9dc9ff2",
       "rows": [
        [
         "0",
         "Super Mario Bros.",
         "NES",
         "1985.0",
         "40.24"
        ],
        [
         "1",
         "Mario Kart Wii",
         "Wii",
         "2008.0",
         "35.52"
        ],
        [
         "2",
         "Tetris",
         "GB",
         "1989.0",
         "30.26"
        ],
        [
         "3",
         "New Super Mario Bros.",
         "DS",
         "2006.0",
         "29.8"
        ],
        [
         "4",
         "New Super Mario Bros. Wii",
         "Wii",
         "2009.0",
         "28.32"
        ],
        [
         "5",
         "Mario Kart DS",
         "DS",
         "2005.0",
         "23.21"
        ],
        [
         "6",
         "Super Mario World",
         "SNES",
         "1990.0",
         "20.61"
        ],
        [
         "7",
         "Super Mario Land",
         "GB",
         "1989.0",
         "18.14"
        ],
        [
         "8",
         "Super Mario Bros. 3",
         "NES",
         "1988.0",
         "17.28"
        ],
        [
         "9",
         "Super Smash Bros. Brawl",
         "Wii",
         "2008.0",
         "12.84"
        ],
        [
         "10",
         "Mario Kart 7",
         "3DS",
         "2011.0",
         "12.66"
        ],
        [
         "11",
         "Super Mario 64",
         "N64",
         "1996.0",
         "11.89"
        ],
        [
         "12",
         "Super Mario Galaxy",
         "Wii",
         "2007.0",
         "11.35"
        ],
        [
         "13",
         "Super Mario Land 2: 6 Golden Coins",
         "GB",
         "1992.0",
         "11.18"
        ],
        [
         "14",
         "Super Mario 3D Land",
         "3DS",
         "2011.0",
         "10.81"
        ],
        [
         "15",
         "Super Mario All-Stars",
         "SNES",
         "1993.0",
         "10.55"
        ],
        [
         "16",
         "Super Mario 64",
         "DS",
         "2004.0",
         "10.3"
        ],
        [
         "17",
         "New Super Mario Bros. 2",
         "3DS",
         "2012.0",
         "9.9"
        ],
        [
         "18",
         "Mario Kart 64",
         "N64",
         "1996.0",
         "9.87"
        ],
        [
         "19",
         "Donkey Kong Country",
         "SNES",
         "1994.0",
         "9.3"
        ],
        [
         "20",
         "Mario Party DS",
         "DS",
         "2007.0",
         "8.91"
        ],
        [
         "21",
         "Super Mario Kart",
         "SNES",
         "1992.0",
         "8.76"
        ],
        [
         "22",
         "Mario Party 8",
         "Wii",
         "2007.0",
         "8.27"
        ],
        [
         "23",
         "Mario & Sonic at the Olympic Games",
         "Wii",
         "2007.0",
         "7.99"
        ],
        [
         "24",
         "Super Smash Bros. for Wii U and 3DS",
         "3DS",
         "2014.0",
         "7.55"
        ],
        [
         "25",
         "Super Mario Galaxy 2",
         "Wii",
         "2010.0",
         "7.51"
        ],
        [
         "26",
         "Super Mario Bros. 2",
         "NES",
         "1988.0",
         "7.46"
        ],
        [
         "27",
         "Mario Kart 8",
         "WiiU",
         "2014.0",
         "7.09"
        ],
        [
         "28",
         "Super Smash Bros. Melee",
         "GC",
         "2001.0",
         "7.07"
        ],
        [
         "29",
         "Mario Kart: Double Dash!!",
         "GC",
         "2003.0",
         "6.95"
        ],
        [
         "30",
         "Donkey Kong Country Returns",
         "Wii",
         "2010.0",
         "6.44"
        ],
        [
         "31",
         "Super Mario Sunshine",
         "GC",
         "2002.0",
         "6.31"
        ],
        [
         "32",
         "Tetris",
         "NES",
         "1988.0",
         "5.58"
        ],
        [
         "33",
         "Super Smash Bros.",
         "N64",
         "1999.0",
         "5.55"
        ],
        [
         "34",
         "Super Mario Advance",
         "GBA",
         "2001.0",
         "5.49"
        ],
        [
         "35",
         "Mario Kart: Super Circuit",
         "GBA",
         "2001.0",
         "5.47"
        ],
        [
         "36",
         "Super Mario World",
         "GBA",
         "2001.0",
         "5.46"
        ],
        [
         "37",
         "Dr. Mario",
         "GB",
         "1989.0",
         "5.34"
        ],
        [
         "38",
         "Donkey Kong 64",
         "N64",
         "1999.0",
         "5.27"
        ],
        [
         "39",
         "New Super Mario Bros. U",
         "WiiU",
         "2012.0",
         "5.22"
        ],
        [
         "40",
         "Super Mario Bros. 3",
         "GBA",
         "2003.0",
         "5.2"
        ],
        [
         "41",
         "Super Mario Land 3: Wario Land",
         "GB",
         "1994.0",
         "5.19"
        ],
        [
         "42",
         "Donkey Kong Country 2: Diddy's Kong Quest",
         "SNES",
         "1995.0",
         "5.15"
        ],
        [
         "43",
         "Mario & Sonic at the Olympic Games",
         "DS",
         "2008.0",
         "5.09"
        ],
        [
         "44",
         "Super Mario Bros.",
         "GB",
         "1999.0",
         "5.07"
        ],
        [
         "45",
         "Diddy Kong Racing",
         "N64",
         "1997.0",
         "4.88"
        ],
        [
         "46",
         "Super Smash Bros. for Wii U and 3DS",
         "WiiU",
         "2014.0",
         "4.87"
        ],
        [
         "47",
         "Dr. Mario",
         "NES",
         "1990.0",
         "4.85"
        ],
        [
         "48",
         "Luigi's Mansion: Dark Moon",
         "3DS",
         "2013.0",
         "4.59"
        ],
        [
         "49",
         "Mario & Sonic at the Olympic Winter Games",
         "Wii",
         "2009.0",
         "4.53"
        ]
       ],
       "shape": {
        "columns": 4,
        "rows": 223
       }
      },
      "text/html": [
       "<div>\n",
       "<style scoped>\n",
       "    .dataframe tbody tr th:only-of-type {\n",
       "        vertical-align: middle;\n",
       "    }\n",
       "\n",
       "    .dataframe tbody tr th {\n",
       "        vertical-align: top;\n",
       "    }\n",
       "\n",
       "    .dataframe thead th {\n",
       "        text-align: right;\n",
       "    }\n",
       "</style>\n",
       "<table border=\"1\" class=\"dataframe\">\n",
       "  <thead>\n",
       "    <tr style=\"text-align: right;\">\n",
       "      <th></th>\n",
       "      <th>Name</th>\n",
       "      <th>Platform</th>\n",
       "      <th>Year_of_Release</th>\n",
       "      <th>Global_Sales</th>\n",
       "    </tr>\n",
       "  </thead>\n",
       "  <tbody>\n",
       "    <tr>\n",
       "      <th>0</th>\n",
       "      <td>Super Mario Bros.</td>\n",
       "      <td>NES</td>\n",
       "      <td>1985.0</td>\n",
       "      <td>40.24</td>\n",
       "    </tr>\n",
       "    <tr>\n",
       "      <th>1</th>\n",
       "      <td>Mario Kart Wii</td>\n",
       "      <td>Wii</td>\n",
       "      <td>2008.0</td>\n",
       "      <td>35.52</td>\n",
       "    </tr>\n",
       "    <tr>\n",
       "      <th>2</th>\n",
       "      <td>Tetris</td>\n",
       "      <td>GB</td>\n",
       "      <td>1989.0</td>\n",
       "      <td>30.26</td>\n",
       "    </tr>\n",
       "    <tr>\n",
       "      <th>3</th>\n",
       "      <td>New Super Mario Bros.</td>\n",
       "      <td>DS</td>\n",
       "      <td>2006.0</td>\n",
       "      <td>29.80</td>\n",
       "    </tr>\n",
       "    <tr>\n",
       "      <th>4</th>\n",
       "      <td>New Super Mario Bros. Wii</td>\n",
       "      <td>Wii</td>\n",
       "      <td>2009.0</td>\n",
       "      <td>28.32</td>\n",
       "    </tr>\n",
       "    <tr>\n",
       "      <th>...</th>\n",
       "      <td>...</td>\n",
       "      <td>...</td>\n",
       "      <td>...</td>\n",
       "      <td>...</td>\n",
       "    </tr>\n",
       "    <tr>\n",
       "      <th>218</th>\n",
       "      <td>Super Smash Bros. Melee</td>\n",
       "      <td>GC</td>\n",
       "      <td>2001.0</td>\n",
       "      <td>7.07</td>\n",
       "    </tr>\n",
       "    <tr>\n",
       "      <th>219</th>\n",
       "      <td>Mario Kart: Double Dash!!</td>\n",
       "      <td>GC</td>\n",
       "      <td>2003.0</td>\n",
       "      <td>6.95</td>\n",
       "    </tr>\n",
       "    <tr>\n",
       "      <th>220</th>\n",
       "      <td>Donkey Kong Barrel Blast</td>\n",
       "      <td>Wii</td>\n",
       "      <td>2007.0</td>\n",
       "      <td>0.62</td>\n",
       "    </tr>\n",
       "    <tr>\n",
       "      <th>221</th>\n",
       "      <td>Mario's Picross</td>\n",
       "      <td>GB</td>\n",
       "      <td>1995.0</td>\n",
       "      <td>0.62</td>\n",
       "    </tr>\n",
       "    <tr>\n",
       "      <th>222</th>\n",
       "      <td>Game &amp; Watch Gallery 4</td>\n",
       "      <td>GBA</td>\n",
       "      <td>2002.0</td>\n",
       "      <td>0.61</td>\n",
       "    </tr>\n",
       "  </tbody>\n",
       "</table>\n",
       "<p>223 rows × 4 columns</p>\n",
       "</div>"
      ],
      "text/plain": [
       "                          Name Platform  Year_of_Release  Global_Sales\n",
       "0            Super Mario Bros.      NES           1985.0         40.24\n",
       "1               Mario Kart Wii      Wii           2008.0         35.52\n",
       "2                       Tetris       GB           1989.0         30.26\n",
       "3        New Super Mario Bros.       DS           2006.0         29.80\n",
       "4    New Super Mario Bros. Wii      Wii           2009.0         28.32\n",
       "..                         ...      ...              ...           ...\n",
       "218    Super Smash Bros. Melee       GC           2001.0          7.07\n",
       "219  Mario Kart: Double Dash!!       GC           2003.0          6.95\n",
       "220   Donkey Kong Barrel Blast      Wii           2007.0          0.62\n",
       "221            Mario's Picross       GB           1995.0          0.62\n",
       "222     Game & Watch Gallery 4      GBA           2002.0          0.61\n",
       "\n",
       "[223 rows x 4 columns]"
      ]
     },
     "execution_count": 86,
     "metadata": {},
     "output_type": "execute_result"
    }
   ],
   "source": [
    "# I want to extract the game titles from the df_mario_games dataframe and use them to check if they are available on \"data/Video_Games.csv\", which is a dataset containing various video games.\n",
    "# Then, if they are available, I want to get them with all their information from the Video_Games dataset.\n",
    "# The column is \"Game\" in the df_mario_games dataframe and \"Name\" in the Video_Games dataset.\n",
    "def check_games_in_video_games_sales_dataset(df_mario_games):\n",
    "    \"\"\"\n",
    "    Check if Mario games are available in the Video_Games dataset and return their information.\n",
    "    \n",
    "    Args:\n",
    "        df_mario_games (DataFrame): DataFrame containing Mario games.\n",
    "        \n",
    "    Returns:\n",
    "        DataFrame: Contains information of Mario games found in the Video_Games dataset.\n",
    "    \"\"\"\n",
    "    # Load the Video_Games dataset\n",
    "    try:\n",
    "        df_video_games = pd.read_csv(\"data/Video_Games.csv\")\n",
    "        # Nice emoji print for the message\n",
    "        print(f\"📊 {len(df_video_games)} entries loaded successfully from the Video_Games dataset.\")\n",
    "    except FileNotFoundError:\n",
    "        print(\"❌ Video_Games dataset not found.\")\n",
    "        return pd.DataFrame()\n",
    "    \n",
    "    # Define a list of keywords\n",
    "    keywords = [\"Mario\", \"Donkey Kong\", \"Donkey Konga\", \"Luigi\", \"Wario\", \"WarioWare\", \"Yoshi\",\n",
    "                \"Toad\", \"Wrecking Crew\", \"Game & Watch\", \"Peach\", \"Super Smash Bros\"]\n",
    "    # Create a regex pattern by joining keywords with the OR operator '|'.\n",
    "    # It also ensures that each keyword is matched as a whole word.\n",
    "    # re.escape is used to ensure special characters in keywords (like '&') are treated literally\n",
    "    pattern = '|'.join(rf'\\b{re.escape(keyword)}\\b' for keyword in keywords)\n",
    "    \n",
    "    # Check for matches in the 'Name' column and for pattern matches as extra check\n",
    "    print(\"🔎 Checking for matching games in the Video_Games dataset...\")\n",
    "    matched_games = df_video_games[(df_video_games['Name'].isin(df_mario_games['Game'])) |\n",
    "                                   (df_video_games['Name'].str.contains(pattern, case=False, na=False, regex=True))]\n",
    "    \n",
    "    if matched_games.empty:\n",
    "        print(\"❌ No matching games found in the Video_Games dataset.\")\n",
    "    else:\n",
    "        print(f\"✅ {len(matched_games)} matching games found.\")\n",
    "    \n",
    "    # Remove \"index\" column\n",
    "    if 'index' in matched_games.columns:\n",
    "        matched_games = matched_games.drop(columns=['index'])\n",
    "\n",
    "    # Return sorted DataFrame with relevant columns\n",
    "    return matched_games[['Name', 'Platform', 'Year_of_Release', 'Global_Sales']].reset_index(drop=True)\n",
    "\n",
    "\n",
    "sales_data = check_games_in_video_games_sales_dataset(games_df)\n",
    "sales_data"
   ]
  },
  {
   "cell_type": "code",
   "execution_count": null,
   "metadata": {},
   "outputs": [],
   "source": [
    "# Rename columns, clean up data, and convert types\n",
    "sales_data = sales_data.rename(columns={\n",
    "    'Global_Sales': 'Sales', \n",
    "    'Year_of_Release': 'Year', \n",
    "    'Name': 'Game'}).assign(\n",
    "    Sales=lambda x: pd.to_numeric(x['Sales'], errors='coerce').round(2))"
   ]
  },
  {
   "cell_type": "code",
   "execution_count": null,
   "metadata": {},
   "outputs": [
    {
     "data": {
      "application/vnd.microsoft.datawrangler.viewer.v0+json": {
       "columns": [
        {
         "name": "index",
         "rawType": "int64",
         "type": "integer"
        },
        {
         "name": "Game",
         "rawType": "object",
         "type": "string"
        },
        {
         "name": "Platform",
         "rawType": "object",
         "type": "string"
        },
        {
         "name": "Year",
         "rawType": "float64",
         "type": "float"
        },
        {
         "name": "Sales",
         "rawType": "float64",
         "type": "float"
        }
       ],
       "ref": "e3cd521a-b1dd-462f-a542-aa1be3839850",
       "rows": [
        [
         "0",
         "Super Mario Bros.",
         "NES",
         "1985.0",
         "40.24"
        ],
        [
         "1",
         "Mario Kart Wii",
         "Wii",
         "2008.0",
         "35.52"
        ],
        [
         "2",
         "Tetris",
         "GB",
         "1989.0",
         "30.26"
        ],
        [
         "3",
         "New Super Mario Bros.",
         "DS",
         "2006.0",
         "29.8"
        ],
        [
         "4",
         "New Super Mario Bros. Wii",
         "Wii",
         "2009.0",
         "28.32"
        ],
        [
         "5",
         "Mario Kart DS",
         "DS",
         "2005.0",
         "23.21"
        ],
        [
         "6",
         "Super Mario World",
         "SNES",
         "1990.0",
         "20.61"
        ],
        [
         "7",
         "Super Mario Land",
         "GB",
         "1989.0",
         "18.14"
        ],
        [
         "8",
         "Super Mario Bros. 3",
         "NES",
         "1988.0",
         "17.28"
        ],
        [
         "9",
         "Super Smash Bros. Brawl",
         "Wii",
         "2008.0",
         "12.84"
        ],
        [
         "10",
         "Mario Kart 7",
         "3DS",
         "2011.0",
         "12.66"
        ],
        [
         "11",
         "Super Mario 64",
         "N64",
         "1996.0",
         "11.89"
        ],
        [
         "12",
         "Super Mario Galaxy",
         "Wii",
         "2007.0",
         "11.35"
        ],
        [
         "13",
         "Super Mario Land 2: 6 Golden Coins",
         "GB",
         "1992.0",
         "11.18"
        ],
        [
         "14",
         "Super Mario 3D Land",
         "3DS",
         "2011.0",
         "10.81"
        ],
        [
         "15",
         "Super Mario All-Stars",
         "SNES",
         "1993.0",
         "10.55"
        ],
        [
         "16",
         "Super Mario 64",
         "DS",
         "2004.0",
         "10.3"
        ],
        [
         "17",
         "New Super Mario Bros. 2",
         "3DS",
         "2012.0",
         "9.9"
        ],
        [
         "18",
         "Mario Kart 64",
         "N64",
         "1996.0",
         "9.87"
        ],
        [
         "19",
         "Donkey Kong Country",
         "SNES",
         "1994.0",
         "9.3"
        ],
        [
         "20",
         "Mario Party DS",
         "DS",
         "2007.0",
         "8.91"
        ],
        [
         "21",
         "Super Mario Kart",
         "SNES",
         "1992.0",
         "8.76"
        ],
        [
         "22",
         "Mario Party 8",
         "Wii",
         "2007.0",
         "8.27"
        ],
        [
         "23",
         "Mario & Sonic at the Olympic Games",
         "Wii",
         "2007.0",
         "7.99"
        ],
        [
         "24",
         "Super Smash Bros. for Wii U and 3DS",
         "3DS",
         "2014.0",
         "7.55"
        ],
        [
         "25",
         "Super Mario Galaxy 2",
         "Wii",
         "2010.0",
         "7.51"
        ],
        [
         "26",
         "Super Mario Bros. 2",
         "NES",
         "1988.0",
         "7.46"
        ],
        [
         "27",
         "Mario Kart 8",
         "WiiU",
         "2014.0",
         "7.09"
        ],
        [
         "28",
         "Super Smash Bros. Melee",
         "GC",
         "2001.0",
         "7.07"
        ],
        [
         "29",
         "Mario Kart: Double Dash!!",
         "GC",
         "2003.0",
         "6.95"
        ],
        [
         "30",
         "Donkey Kong Country Returns",
         "Wii",
         "2010.0",
         "6.44"
        ],
        [
         "31",
         "Super Mario Sunshine",
         "GC",
         "2002.0",
         "6.31"
        ],
        [
         "32",
         "Tetris",
         "NES",
         "1988.0",
         "5.58"
        ],
        [
         "33",
         "Super Smash Bros.",
         "N64",
         "1999.0",
         "5.55"
        ],
        [
         "34",
         "Super Mario Advance",
         "GBA",
         "2001.0",
         "5.49"
        ],
        [
         "35",
         "Mario Kart: Super Circuit",
         "GBA",
         "2001.0",
         "5.47"
        ],
        [
         "36",
         "Super Mario World",
         "GBA",
         "2001.0",
         "5.46"
        ],
        [
         "37",
         "Dr. Mario",
         "GB",
         "1989.0",
         "5.34"
        ],
        [
         "38",
         "Donkey Kong 64",
         "N64",
         "1999.0",
         "5.27"
        ],
        [
         "39",
         "New Super Mario Bros. U",
         "WiiU",
         "2012.0",
         "5.22"
        ],
        [
         "40",
         "Super Mario Bros. 3",
         "GBA",
         "2003.0",
         "5.2"
        ],
        [
         "41",
         "Super Mario Land 3: Wario Land",
         "GB",
         "1994.0",
         "5.19"
        ],
        [
         "42",
         "Donkey Kong Country 2: Diddy's Kong Quest",
         "SNES",
         "1995.0",
         "5.15"
        ],
        [
         "43",
         "Mario & Sonic at the Olympic Games",
         "DS",
         "2008.0",
         "5.09"
        ],
        [
         "44",
         "Super Mario Bros.",
         "GB",
         "1999.0",
         "5.07"
        ],
        [
         "45",
         "Diddy Kong Racing",
         "N64",
         "1997.0",
         "4.88"
        ],
        [
         "46",
         "Super Smash Bros. for Wii U and 3DS",
         "WiiU",
         "2014.0",
         "4.87"
        ],
        [
         "47",
         "Dr. Mario",
         "NES",
         "1990.0",
         "4.85"
        ],
        [
         "48",
         "Luigi's Mansion: Dark Moon",
         "3DS",
         "2013.0",
         "4.59"
        ],
        [
         "49",
         "Mario & Sonic at the Olympic Winter Games",
         "Wii",
         "2009.0",
         "4.53"
        ]
       ],
       "shape": {
        "columns": 4,
        "rows": 223
       }
      },
      "text/html": [
       "<div>\n",
       "<style scoped>\n",
       "    .dataframe tbody tr th:only-of-type {\n",
       "        vertical-align: middle;\n",
       "    }\n",
       "\n",
       "    .dataframe tbody tr th {\n",
       "        vertical-align: top;\n",
       "    }\n",
       "\n",
       "    .dataframe thead th {\n",
       "        text-align: right;\n",
       "    }\n",
       "</style>\n",
       "<table border=\"1\" class=\"dataframe\">\n",
       "  <thead>\n",
       "    <tr style=\"text-align: right;\">\n",
       "      <th></th>\n",
       "      <th>Game</th>\n",
       "      <th>Platform</th>\n",
       "      <th>Year</th>\n",
       "      <th>Sales</th>\n",
       "    </tr>\n",
       "  </thead>\n",
       "  <tbody>\n",
       "    <tr>\n",
       "      <th>0</th>\n",
       "      <td>Super Mario Bros.</td>\n",
       "      <td>NES</td>\n",
       "      <td>1985.0</td>\n",
       "      <td>40.24</td>\n",
       "    </tr>\n",
       "    <tr>\n",
       "      <th>1</th>\n",
       "      <td>Mario Kart Wii</td>\n",
       "      <td>Wii</td>\n",
       "      <td>2008.0</td>\n",
       "      <td>35.52</td>\n",
       "    </tr>\n",
       "    <tr>\n",
       "      <th>2</th>\n",
       "      <td>Tetris</td>\n",
       "      <td>GB</td>\n",
       "      <td>1989.0</td>\n",
       "      <td>30.26</td>\n",
       "    </tr>\n",
       "    <tr>\n",
       "      <th>3</th>\n",
       "      <td>New Super Mario Bros.</td>\n",
       "      <td>DS</td>\n",
       "      <td>2006.0</td>\n",
       "      <td>29.80</td>\n",
       "    </tr>\n",
       "    <tr>\n",
       "      <th>4</th>\n",
       "      <td>New Super Mario Bros. Wii</td>\n",
       "      <td>Wii</td>\n",
       "      <td>2009.0</td>\n",
       "      <td>28.32</td>\n",
       "    </tr>\n",
       "    <tr>\n",
       "      <th>...</th>\n",
       "      <td>...</td>\n",
       "      <td>...</td>\n",
       "      <td>...</td>\n",
       "      <td>...</td>\n",
       "    </tr>\n",
       "    <tr>\n",
       "      <th>218</th>\n",
       "      <td>Super Smash Bros. Melee</td>\n",
       "      <td>GC</td>\n",
       "      <td>2001.0</td>\n",
       "      <td>7.07</td>\n",
       "    </tr>\n",
       "    <tr>\n",
       "      <th>219</th>\n",
       "      <td>Mario Kart: Double Dash!!</td>\n",
       "      <td>GC</td>\n",
       "      <td>2003.0</td>\n",
       "      <td>6.95</td>\n",
       "    </tr>\n",
       "    <tr>\n",
       "      <th>220</th>\n",
       "      <td>Donkey Kong Barrel Blast</td>\n",
       "      <td>Wii</td>\n",
       "      <td>2007.0</td>\n",
       "      <td>0.62</td>\n",
       "    </tr>\n",
       "    <tr>\n",
       "      <th>221</th>\n",
       "      <td>Mario's Picross</td>\n",
       "      <td>GB</td>\n",
       "      <td>1995.0</td>\n",
       "      <td>0.62</td>\n",
       "    </tr>\n",
       "    <tr>\n",
       "      <th>222</th>\n",
       "      <td>Game &amp; Watch Gallery 4</td>\n",
       "      <td>GBA</td>\n",
       "      <td>2002.0</td>\n",
       "      <td>0.61</td>\n",
       "    </tr>\n",
       "  </tbody>\n",
       "</table>\n",
       "<p>223 rows × 4 columns</p>\n",
       "</div>"
      ],
      "text/plain": [
       "                          Game Platform    Year  Sales\n",
       "0            Super Mario Bros.      NES  1985.0  40.24\n",
       "1               Mario Kart Wii      Wii  2008.0  35.52\n",
       "2                       Tetris       GB  1989.0  30.26\n",
       "3        New Super Mario Bros.       DS  2006.0  29.80\n",
       "4    New Super Mario Bros. Wii      Wii  2009.0  28.32\n",
       "..                         ...      ...     ...    ...\n",
       "218    Super Smash Bros. Melee       GC  2001.0   7.07\n",
       "219  Mario Kart: Double Dash!!       GC  2003.0   6.95\n",
       "220   Donkey Kong Barrel Blast      Wii  2007.0   0.62\n",
       "221            Mario's Picross       GB  1995.0   0.62\n",
       "222     Game & Watch Gallery 4      GBA  2002.0   0.61\n",
       "\n",
       "[223 rows x 4 columns]"
      ]
     },
     "execution_count": 88,
     "metadata": {},
     "output_type": "execute_result"
    }
   ],
   "source": [
    "# Save the DataFrame to a CSV file\n",
    "sales_data.to_csv('data/sales_data.csv', index=False)\n",
    "print(\"✅ Data saved to 'sales_data.csv'\")\n",
    "# Display the cleaned DataFrame\n",
    "sales_data"
   ]
  }
 ],
 "metadata": {
  "colab": {
   "provenance": []
  },
  "kernelspec": {
   "display_name": "Python 3",
   "language": "python",
   "name": "python3"
  },
  "language_info": {
   "codemirror_mode": {
    "name": "ipython",
    "version": 3
   },
   "file_extension": ".py",
   "mimetype": "text/x-python",
   "name": "python",
   "nbconvert_exporter": "python",
   "pygments_lexer": "ipython3",
   "version": "3.13.0"
  }
 },
 "nbformat": 4,
 "nbformat_minor": 0
}
