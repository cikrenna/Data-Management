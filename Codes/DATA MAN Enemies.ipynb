{
 "cells": [
  {
   "cell_type": "markdown",
   "metadata": {},
   "source": [
    "# Web Scraping of General Enemies and Cleaning"
   ]
  },
  {
   "cell_type": "code",
   "execution_count": null,
   "metadata": {},
   "outputs": [],
   "source": [
    "import requests\n",
    "from bs4 import BeautifulSoup\n",
    "import pandas as pd\n",
    "from tqdm import tqdm\n",
    "import time\n",
    "import concurrent.futures\n",
    "import re"
   ]
  },
  {
   "cell_type": "code",
   "execution_count": null,
   "metadata": {
    "executionInfo": {
     "elapsed": 5829,
     "status": "ok",
     "timestamp": 1748366498150,
     "user": {
      "displayName": "cik renna",
      "userId": "07013921068902357672"
     },
     "user_tz": -120
    },
    "id": "_PO2A3PvcYks"
   },
   "outputs": [],
   "source": [
    "# URL della pagina da cui fare scraping\n",
    "url = \"https://www.mariowiki.com/List_of_enemies\"\n",
    "\n",
    "# Scaricare la pagina\n",
    "response = requests.get(url)\n",
    "\n",
    "# Controllare se la richiesta è andata a buon fine\n",
    "if response.status_code == 200:\n",
    "    # Analizzare l'HTML della pagina\n",
    "    soup = BeautifulSoup(response.text, 'html.parser')\n",
    "\n",
    "    # Cercare i personaggi nella lista\n",
    "    items = soup.select(\"div.mw-parser-output ul li\")\n",
    "\n",
    "    # Creare le liste per il dataset\n",
    "    enemies = []\n",
    "    first_appearance = []\n",
    "\n",
    "    # Estrarre i dati\n",
    "    for item in items:\n",
    "        text = item.text\n",
    "        if '–' in text:  # Controlla la presenza del trattino\n",
    "            name, appearance = text.split('–', 1)  # Dividi in due parti\n",
    "            enemies.append(name.strip())  # Nome del personaggio\n",
    "            first_appearance.append(appearance.strip())  # Prima apparizione\n",
    "\n",
    "    # Creare un DataFrame\n",
    "    df_enemies_first_appearance = pd.DataFrame({\n",
    "        'Enemy': enemies,\n",
    "        'First Appearance': first_appearance\n",
    "    })\n"
   ]
  },
  {
   "cell_type": "code",
   "execution_count": 2,
   "metadata": {
    "colab": {
     "base_uri": "https://localhost:8080/",
     "height": 423
    },
    "executionInfo": {
     "elapsed": 20,
     "status": "ok",
     "timestamp": 1748366534948,
     "user": {
      "displayName": "cik renna",
      "userId": "07013921068902357672"
     },
     "user_tz": -120
    },
    "id": "cDOR7S6bcYQ7",
    "outputId": "4a239fc3-c5ac-4ad0-d5ef-f65c621b82f8"
   },
   "outputs": [
    {
     "data": {
      "application/vnd.microsoft.datawrangler.viewer.v0+json": {
       "columns": [
        {
         "name": "index",
         "rawType": "int64",
         "type": "integer"
        },
        {
         "name": "Enemy",
         "rawType": "object",
         "type": "string"
        },
        {
         "name": "First Appearance",
         "rawType": "object",
         "type": "string"
        }
       ],
       "ref": "512ae3a7-2f3e-4eaf-bbcd-a92b0d532a20",
       "rows": [
        [
         "0",
         "Accordion Goombas",
         "Paper Mario: Color Splash"
        ],
        [
         "1",
         "Accordion Guy",
         "Paper Mario: Sticker Star"
        ],
        [
         "2",
         "Ack",
         "Donkey Kong Country Returns"
        ],
        [
         "3",
         "AckStack",
         "Donkey Kong Country Returns"
        ],
        [
         "4",
         "Aero",
         "Super Mario RPG: Legend of the Seven Stars"
        ],
        [
         "5",
         "Agoobis",
         "Luigi's Mansion 3"
        ],
        [
         "6",
         "Air Bag",
         "Yoshi's Story"
        ],
        [
         "7",
         "Air Cannon",
         "Mario & Luigi: Bowser's Inside Story"
        ],
        [
         "8",
         "Air Cheep",
         "Mario & Luigi: Bowser's Inside Story"
        ],
        [
         "9",
         "AirMeow",
         "Super Paper Mario"
        ],
        [
         "10",
         "Airnapse",
         "Mario & Luigi: Bowser's Inside Story"
        ],
        [
         "11",
         "Akamajakushi",
         "Wario Land 3"
        ],
        [
         "12",
         "Alarm Bob-omb",
         "Mario & Luigi: Bowser's Inside Story"
        ],
        [
         "13",
         "Albatoss",
         "Super Mario Bros. 2"
        ],
        [
         "14",
         "Alley Rat",
         "Super Mario RPG: Legend of the Seven Stars"
        ],
        [
         "15",
         "Amanita",
         "Super Mario RPG: Legend of the Seven Stars"
        ],
        [
         "16",
         "Amazing Flyin' Hammer Brother",
         "Super Mario World"
        ],
        [
         "17",
         "Amazy Dayzee",
         "Paper Mario"
        ],
        [
         "18",
         "Ameboid",
         "Super Mario RPG: Legend of the Seven Stars"
        ],
        [
         "19",
         "Amp",
         "Super Mario 64"
        ],
        [
         "20",
         "Amphibigun",
         "Wario: Master of Disguise"
        ],
        [
         "21",
         "Anglefish",
         "Super Mario Bros. Wonder"
        ],
        [
         "22",
         "Angler Mangler",
         "Wario World"
        ],
        [
         "23",
         "Angry Sun",
         "Super Mario Bros. 3"
        ],
        [
         "24",
         "Animal Trainer Shy Guy",
         "Paper Mario: Color Splash"
        ],
        [
         "25",
         "Ankiron",
         "Wario World"
        ],
        [
         "26",
         "Ankoopa",
         "Mario & Luigi: Superstar Saga"
        ],
        [
         "27",
         "Ant",
         "Super Mario Land 2: 6 Golden Coins"
        ],
        [
         "28",
         "Ant Trooper",
         "Super Mario 3D World"
        ],
        [
         "29",
         "Antasman",
         "Mario & Luigi: Dream Team"
        ],
        [
         "30",
         "Antasmunchie",
         "Mario & Luigi: Dream Team"
        ],
        [
         "31",
         "Anuboo",
         "Mario & Luigi: Superstar Saga"
        ],
        [
         "32",
         "Anvil",
         "Yoshi's Safari"
        ],
        [
         "33",
         "Appleby",
         "Wario Land 3"
        ],
        [
         "34",
         "Apprentice",
         "Super Mario RPG: Legend of the Seven Stars"
        ],
        [
         "35",
         "Aqua Lakitu",
         "Super Mario World 2: Yoshi's Island"
        ],
        [
         "36",
         "Aqua Man",
         "Donkey Kong (Game Boy)"
        ],
        [
         "37",
         "Arachne",
         "Super Mario RPG: Legend of the Seven Stars"
        ],
        [
         "38",
         "Arantula",
         "Paper Mario: The Thousand-Year Door"
        ],
        [
         "39",
         "Archy",
         "Donkey Kong Country: Tropical Freeze"
        ],
        [
         "40",
         "Archy (fire)",
         "Donkey Kong Country: Tropical Freeze"
        ],
        [
         "41",
         "Armad",
         "Super Mario Bros. Wonder"
        ],
        [
         "42",
         "Armank",
         "Super Smash Bros. Brawl"
        ],
        [
         "43",
         "Armight",
         "Super Smash Bros. Brawl"
        ],
        [
         "44",
         "Armored Stinga",
         "Donkey Kong Jungle Beat"
        ],
        [
         "45",
         "Army",
         "Donkey Kong Country"
        ],
        [
         "46",
         "Artichoker",
         "Super Mario RPG: Legend of the Seven Stars"
        ],
        [
         "47",
         "Arumajiron",
         "Donkey Kong (Game Boy)"
        ],
        [
         "48",
         "Astro-Lanceur",
         "Super Mario Odyssey"
        ],
        [
         "49",
         "Attack Ghost",
         "Yoshi's Crafted World"
        ]
       ],
       "shape": {
        "columns": 2,
        "rows": 2332
       }
      },
      "text/html": [
       "<div>\n",
       "<style scoped>\n",
       "    .dataframe tbody tr th:only-of-type {\n",
       "        vertical-align: middle;\n",
       "    }\n",
       "\n",
       "    .dataframe tbody tr th {\n",
       "        vertical-align: top;\n",
       "    }\n",
       "\n",
       "    .dataframe thead th {\n",
       "        text-align: right;\n",
       "    }\n",
       "</style>\n",
       "<table border=\"1\" class=\"dataframe\">\n",
       "  <thead>\n",
       "    <tr style=\"text-align: right;\">\n",
       "      <th></th>\n",
       "      <th>Enemy</th>\n",
       "      <th>First Appearance</th>\n",
       "    </tr>\n",
       "  </thead>\n",
       "  <tbody>\n",
       "    <tr>\n",
       "      <th>0</th>\n",
       "      <td>Accordion Goombas</td>\n",
       "      <td>Paper Mario: Color Splash</td>\n",
       "    </tr>\n",
       "    <tr>\n",
       "      <th>1</th>\n",
       "      <td>Accordion Guy</td>\n",
       "      <td>Paper Mario: Sticker Star</td>\n",
       "    </tr>\n",
       "    <tr>\n",
       "      <th>2</th>\n",
       "      <td>Ack</td>\n",
       "      <td>Donkey Kong Country Returns</td>\n",
       "    </tr>\n",
       "    <tr>\n",
       "      <th>3</th>\n",
       "      <td>AckStack</td>\n",
       "      <td>Donkey Kong Country Returns</td>\n",
       "    </tr>\n",
       "    <tr>\n",
       "      <th>4</th>\n",
       "      <td>Aero</td>\n",
       "      <td>Super Mario RPG: Legend of the Seven Stars</td>\n",
       "    </tr>\n",
       "    <tr>\n",
       "      <th>...</th>\n",
       "      <td>...</td>\n",
       "      <td>...</td>\n",
       "    </tr>\n",
       "    <tr>\n",
       "      <th>2327</th>\n",
       "      <td>Zombie</td>\n",
       "      <td>Wario Land II</td>\n",
       "    </tr>\n",
       "    <tr>\n",
       "      <th>2328</th>\n",
       "      <td>Zombie Debuho</td>\n",
       "      <td>Yoshi's Crafted World</td>\n",
       "    </tr>\n",
       "    <tr>\n",
       "      <th>2329</th>\n",
       "      <td>Zombie Guy</td>\n",
       "      <td>Yoshi's Crafted World</td>\n",
       "    </tr>\n",
       "    <tr>\n",
       "      <th>2330</th>\n",
       "      <td>Zombie Shroom</td>\n",
       "      <td>Super Paper Mario</td>\n",
       "    </tr>\n",
       "    <tr>\n",
       "      <th>2331</th>\n",
       "      <td>Zuree</td>\n",
       "      <td>Super Smash Bros. for Nintendo 3DS</td>\n",
       "    </tr>\n",
       "  </tbody>\n",
       "</table>\n",
       "<p>2332 rows × 2 columns</p>\n",
       "</div>"
      ],
      "text/plain": [
       "                  Enemy                            First Appearance\n",
       "0     Accordion Goombas                   Paper Mario: Color Splash\n",
       "1         Accordion Guy                   Paper Mario: Sticker Star\n",
       "2                   Ack                 Donkey Kong Country Returns\n",
       "3              AckStack                 Donkey Kong Country Returns\n",
       "4                  Aero  Super Mario RPG: Legend of the Seven Stars\n",
       "...                 ...                                         ...\n",
       "2327             Zombie                               Wario Land II\n",
       "2328      Zombie Debuho                       Yoshi's Crafted World\n",
       "2329         Zombie Guy                       Yoshi's Crafted World\n",
       "2330      Zombie Shroom                           Super Paper Mario\n",
       "2331              Zuree          Super Smash Bros. for Nintendo 3DS\n",
       "\n",
       "[2332 rows x 2 columns]"
      ]
     },
     "execution_count": 2,
     "metadata": {},
     "output_type": "execute_result"
    }
   ],
   "source": [
    "# Stampa dataset\n",
    "df_enemies_first_appearance"
   ]
  },
  {
   "cell_type": "code",
   "execution_count": null,
   "metadata": {},
   "outputs": [
    {
     "name": "stdout",
     "output_type": "stream",
     "text": [
      "Obtaining links to enemy pages...\n",
      "🔎 Scraping for 2403 enemies from https://www.mariowiki.com/List_of_enemies.\n",
      "2403 links to potential enemy pages found.\n"
     ]
    },
    {
     "name": "stderr",
     "output_type": "stream",
     "text": [
      "100%|██████████| 2403/2403 [02:26<00:00, 16.44it/s]"
     ]
    },
    {
     "name": "stdout",
     "output_type": "stream",
     "text": [
      "\n",
      "--- Scraping Complete ---\n",
      "✅ Successfully processed 252/2333 enemies (10.8%)\n"
     ]
    },
    {
     "name": "stderr",
     "output_type": "stream",
     "text": [
      "\n"
     ]
    }
   ],
   "source": [
    "# URL of the page to scrape: complete list of enemies\n",
    "base_url = 'https://www.mariowiki.com/List_of_enemies'\n",
    "\n",
    "# Final dictionary to hold all datasets\n",
    "enemies = {}\n",
    "\n",
    "# Sections of interest\n",
    "sections = [\n",
    "    ('Super Mario series', '#Super_Mario_series'),\n",
    "    ('Mario Kart series', '#Mario_Kart_series'),\n",
    "    ('Mario Party series', '#Mario_Party_series'),\n",
    "    ('Mario vs. Donkey Kong series', '#Mario_vs._Donkey_Kong_series'),\n",
    "    ('Mario & Luigi series', '#Mario_.26_Luigi_series'),\n",
    "    ('Super Smash Bros. series', '#Super_Smash_Bros._series'),\n",
    "    (\"Luigi's Mansion series\", \"#Luigi.27s_Mansion_series\"),\n",
    "    ('Yoshi series', '#Yoshi_series'),\n",
    "    ('Paper Mario series', '#Paper_Mario_series'),\n",
    "    # New sections added\n",
    "    ('Donkey Kong series', '#Donkey_Kong_series'),\n",
    "    ('Mario Bros. series', '#Mario_Bros._series'),\n",
    "    ('Wrecking Crew series', '#Wrecking_Crew_series'),\n",
    "    ('Mario Golf series', '#Mario_Golf_series'),\n",
    "    ('Mario Tennis series', '#Mario_Tennis_series'),\n",
    "    ('Dr. Mario series', '#Dr._Mario_series'),\n",
    "    ('Super Mario Stadium series', '#Super_Mario_Stadium_series'),\n",
    "    ('Mario vs Donkey Kong series', '#Mario_vs._Donkey_Kong_series'),\n",
    "    ('Mario & Sonic series', '#Mario_.26_Sonic_series'),\n",
    "    # Add other series if needed, matching the href from the ToC on enemy pages\n",
    "]\n",
    "\n",
    "# Headers to mimic a browser request\n",
    "headers = {\n",
    "    'User-Agent': 'Mozilla/5.0 (Windows NT 10.0; Win64; x64) AppleWebKit/537.36 (KHTML, like Gecko) Chrome/91.0.4472.124 Safari/537.36'\n",
    "}\n",
    "\n",
    "# Filter for irrelevant links\n",
    "def is_enemy_link(href, title):\n",
    "    if not href.startswith('/'):\n",
    "        return False\n",
    "    \n",
    "    # Explicit exclusions of irrelevant page types\n",
    "    exclusions = ['/File:', '/Category:', '/Help:', '/Special:', \n",
    "                 '/Template:', '/List_of_', '/Main_Page']\n",
    "    \n",
    "    for exclusion in exclusions:\n",
    "        if href.startswith(exclusion):\n",
    "            return False\n",
    "    \n",
    "    # Exclude links that are lists or categories based on the title\n",
    "    if \"List of\" in title or \"Category:\" in title:\n",
    "        return False\n",
    "\n",
    "    # Title should not be the title of the current page\n",
    "    if title == 'List of enemies':\n",
    "        return False\n",
    "        \n",
    "    return True\n",
    "\n",
    "# Function to get links to individual enemies from the list\n",
    "def get_enemy_links(session, base_url):\n",
    "    response = session.get(base_url, headers=headers)\n",
    "    soup = BeautifulSoup(response.text, 'html.parser')\n",
    "        \n",
    "    # Limit search to the main content section\n",
    "    main_content = soup.select_one('div.mw-parser-output')\n",
    "    if not main_content:\n",
    "        return []\n",
    "    \n",
    "    # Find all links to individual enemies\n",
    "    enemy_links = []\n",
    "    seen_links = set() # To avoid duplicates\n",
    "    \n",
    "    for link in main_content.find_all('a', href=True, title=True):\n",
    "        href = link['href']\n",
    "        title = link['title']\n",
    "        \n",
    "        if is_enemy_link(href, title) and href not in seen_links:\n",
    "            full_url = 'https://www.mariowiki.com' + href\n",
    "            enemy_links.append(full_url)\n",
    "            seen_links.add(href)\n",
    "    \n",
    "    if not enemy_links:\n",
    "        print(f\"Warning: No enemies found on {base_url}.\")\n",
    "    else:\n",
    "        print(f\"🔎 Scraping for {len(enemy_links)} enemies from {base_url}.\")\n",
    "\n",
    "    return enemy_links\n",
    "\n",
    "# Function that processes a single enemy page\n",
    "def process_enemy_page(session, url):\n",
    "    try:\n",
    "        # Short pause to avoid overwhelming the server and being blocked for too many requests\n",
    "        time.sleep(0.1)\n",
    "        \n",
    "        # Request the enemy page\n",
    "        response = session.get(url, headers=headers, timeout=10)\n",
    "        if response.status_code != 200:\n",
    "            return None, None\n",
    "            \n",
    "        soup = BeautifulSoup(response.text, 'html.parser')\n",
    "\n",
    "        # Extract the page title (enemy name) with robust fallbacks\n",
    "        # First try to find the main title element\n",
    "        title_element = soup.find('span', class_='mw-page-title-main')\n",
    "        page_title = title_element.text.strip() if title_element else None\n",
    "        # If the main title is not found, try to find an h1 tag with specific id\n",
    "        if not page_title:\n",
    "            h1_tag = soup.find('h1', id='firstHeading')\n",
    "            page_title = h1_tag.text.strip() if h1_tag else None\n",
    "        # If still no title, try to extract from the title tag\n",
    "        if not page_title and soup.title:\n",
    "            page_title = soup.title.string.replace(\" - Super Mario Wiki, the Mario encyclopedia\", \"\").strip()\n",
    "\n",
    "        # If no title is found or if it is a search results page, return None\n",
    "        # This is a common case where the page might not exist or is a search result\n",
    "        if not page_title or page_title == \"Search results\":\n",
    "            return None, None\n",
    "            \n",
    "        # Dictionary to collect game titles for each section\n",
    "        games_dict = {section_name: [] for section_name, _ in sections}\n",
    "        \n",
    "        # Extract the table of contents once\n",
    "        toc = soup.find('div', {'id': 'toc'})\n",
    "        if not toc:\n",
    "            return page_title, pd.DataFrame(games_dict)\n",
    "            \n",
    "        # Loop to extract titles from the various sections more efficiently\n",
    "        for section_name, section_link in sections:\n",
    "            # Find the section in the index using the section link\n",
    "            toc_anchor = toc.find('a', class_='tocsectionlink', href=section_link)\n",
    "            # If the anchor is not found, try to find it by href\n",
    "            if not toc_anchor:\n",
    "                all_toc_links = toc.select('a')\n",
    "                for link in all_toc_links:\n",
    "                    if link.get('href') == section_link:\n",
    "                        toc_anchor = link\n",
    "                        break\n",
    "                    \n",
    "            # If the anchor is found, proceed to extract the games\n",
    "            if toc_anchor:\n",
    "                # Find the parent list item to get the section\n",
    "                section_li = toc_anchor.find_parent('li')\n",
    "                if section_li:\n",
    "                    # Extract games subsections\n",
    "                    game_entries = section_li.find_all('li', class_='toclevel-3')\n",
    "                    for entry in game_entries:\n",
    "                        game_title_element = entry.find('span', class_='toctext')\n",
    "                        if game_title_element:\n",
    "                            games_dict[section_name].append(game_title_element.text.strip())\n",
    "\n",
    "        # Create a DataFrame\n",
    "        df = pd.DataFrame({k: pd.Series(v) for k, v in games_dict.items()})\n",
    "        \n",
    "        return page_title, df\n",
    "        \n",
    "    except Exception as e:\n",
    "        # In case of error, return None\n",
    "        return None, None\n",
    "\n",
    "# General function with parallel execution\n",
    "def scrape_enemies():\n",
    "    \n",
    "    print(\"Obtaining links to enemy pages...\")\n",
    "    # Use a session to maintain connection and headers\n",
    "    with requests.Session() as session:\n",
    "        enemy_links = get_enemy_links(session, base_url)\n",
    "        print(f\"{len(enemy_links)} links to potential enemy pages found.\")\n",
    "        \n",
    "        results = {}\n",
    "        \n",
    "        # Using parallel execution to speed up the process\n",
    "        with concurrent.futures.ThreadPoolExecutor(max_workers=10) as executor:\n",
    "            # Submit all jobs\n",
    "            future_to_url = {executor.submit(process_enemy_page, session, url): url for url in enemy_links}\n",
    "            \n",
    "            # Process the results with a progress bar\n",
    "            for future in tqdm(concurrent.futures.as_completed(future_to_url), \n",
    "                              total=len(enemy_links)):\n",
    "                url = future_to_url[future]\n",
    "                try:\n",
    "                    page_title, df = future.result()\n",
    "                    if page_title and df is not None:\n",
    "                        results[f\"{page_title}_df\"] = df\n",
    "                except Exception as e:\n",
    "                    tqdm.write(f\"Error with {url}: {str(e)[:100]}\")\n",
    "    \n",
    "    # Remove empty dataframes\n",
    "    enemies = {k: df for k, df in results.items() if not df.empty}\n",
    "    \n",
    "    print(\"\\n--- Scraping Complete ---\")\n",
    "    print(f\"✅ Successfully processed {len(enemies)}/{len(results)} enemies ({len(enemies) / len(results):.1%})\")\n",
    "\n",
    "    return enemies\n",
    "\n",
    "# Run the scraping function\n",
    "enemies = scrape_enemies()"
   ]
  },
  {
   "cell_type": "code",
   "execution_count": 4,
   "metadata": {
    "colab": {
     "base_uri": "https://localhost:8080/"
    },
    "executionInfo": {
     "elapsed": 39,
     "status": "ok",
     "timestamp": 1740675204931,
     "user": {
      "displayName": "cik renna",
      "userId": "07013921068902357672"
     },
     "user_tz": -60
    },
    "id": "Gnqu4v1i8bGN",
    "outputId": "eb07a42c-91da-4681-fcdc-e1ed437a1263"
   },
   "outputs": [
    {
     "name": "stdout",
     "output_type": "stream",
     "text": [
      "Albatoss_df\n",
      "Amazing Flyin' Hammer Brother_df\n",
      "Amp_df\n",
      "Angry Sun_df\n",
      "Ant Trooper_df\n",
      "Bandit_df\n",
      "Banzai Bill Cannon_df\n",
      "Bat (Super Mario Galaxy)_df\n",
      "Bee_df\n",
      "Biddybud_df\n",
      "Big Blooper_df\n",
      "Big Boo_df\n",
      "Big Buzzy Beetle_df\n",
      "Big Chain Chomp_df\n",
      "Big Cheep Cheep_df\n",
      "Big Fire Piranha_df\n",
      "Big Koopa Paratroopa_df\n",
      "Big Koopa Troopa_df\n",
      "Big Lava Bubble_df\n",
      "Big Monty Mole_df\n",
      "Big Paragoomba_df\n",
      "Big Piranha Plant_df\n",
      "Big Pokey_df\n",
      "Big Spiny_df\n",
      "Big Tail Goomba_df\n",
      "Big Thwomp_df\n",
      "Bill Blaster_df\n",
      "Bird (Donkey Kong series)_df\n",
      "Black Shy Guy_df\n",
      "Block Boo_df\n",
      "Blooper Baby_df\n",
      "Blooper Nanny_df\n",
      "Blooper_df\n",
      "Blurp_df\n",
      "Bob-omb Car_df\n",
      "Bob-omb_df\n",
      "Bomb Boo_df\n",
      "Bomber Bill_df\n",
      "Bomp_df\n",
      "Bone Goomba_df\n",
      "Bone Piranha Plant_df\n",
      "Bony Beetle_df\n",
      "Boo Buddies_df\n",
      "Boo_df\n",
      "Boomerang Bro_df\n",
      "Boulder_df\n",
      "Bramball_df\n",
      "Broozer_df\n",
      "Broque Monsieur_df\n",
      "Bulber_df\n",
      "Bull's-Eye Banzai_df\n",
      "Bull's-Eye Bill_df\n",
      "Bull's-Eye Blaster_df\n",
      "Bullet Bill_df\n",
      "Bully_df\n",
      "Bumpty_df\n",
      "Butterfly_df\n",
      "Buzzy Beetle_df\n",
      "Candle_df\n",
      "Cataquack_df\n",
      "Chain Chomp_df\n",
      "Chargin' Chuck_df\n",
      "Charvaargh_df\n",
      "Cheep Cheep_df\n",
      "Cheep Chomp_df\n",
      "Clam_df\n",
      "Clampy_df\n",
      "Clawdaddy_df\n",
      "Cobrat_df\n",
      "Coin Coffer_df\n",
      "Conkdor_df\n",
      "Cooligan_df\n",
      "Crazee Dayzee_df\n",
      "Crossovers with The Legend of Zelda_df\n",
      "Crowber_df\n",
      "Dark Boo_df\n",
      "Deep Cheep_df\n",
      "Dino Rhino_df\n",
      "Dino-Torch_df\n",
      "Dragoneel_df\n",
      "Dry Bones_df\n",
      "Dull Bones_df\n",
      "Eep Cheep_df\n",
      "Eerie_df\n",
      "Eggplant Man_df\n",
      "Fang_df\n",
      "Fighter Fly_df\n",
      "Fire Bar_df\n",
      "Fire Bro_df\n",
      "Fire Chain_df\n",
      "Fire Piranha Plant_df\n",
      "Fire Snake_df\n",
      "Fire Stalking Piranha Plant_df\n",
      "Fireball (Donkey Kong)_df\n",
      "Fireball (obstacle)_df\n",
      "Fish Bone_df\n",
      "Fishing Boo_df\n",
      "Flame Chomp_df\n",
      "Flurry_df\n",
      "Flutter_df\n",
      "Fly Guy_df\n",
      "Foo_df\n",
      "Freezie_df\n",
      "Frost Piranha_df\n",
      "Fuzzy_df\n",
      "Galoomba_df\n",
      "Gold Boo_df\n",
      "Gold Cheep Cheep_df\n",
      "Gold Goomba_df\n",
      "Gold Piranha Plant_df\n",
      "Goomba Tower_df\n",
      "Goomba_df\n",
      "Goombrat_df\n",
      "Goonie_df\n",
      "Gotchawrench_df\n",
      "Green Magikoopa_df\n",
      "Green Shell_df\n",
      "Greenie_df\n",
      "Grrrol_df\n",
      "Hammer Bro_df\n",
      "Hoopster_df\n",
      "Horned Ant Trooper_df\n",
      "Hothead_df\n",
      "Huckit Crab_df\n",
      "Ice Bro_df\n",
      "Innertube Goomba_df\n",
      "Jelectro_df\n",
      "Jellybeam_df\n",
      "Jumping Piranha Plant_df\n",
      "King Bill_df\n",
      "Klepto_df\n",
      "Koopa Paratroopa_df\n",
      "Koopa Troopa_df\n",
      "Koopatrol_df\n",
      "Lakitu_df\n",
      "Lava Bubble_df\n",
      "Lava Geyser_df\n",
      "Li'l Sparky_df\n",
      "Little Mouser_df\n",
      "Magikoopa_df\n",
      "Magmaargh_df\n",
      "Manta_df\n",
      "Mario & Luigi: Paper Jam_df\n",
      "Maw-Ray_df\n",
      "Mecha Cheep_df\n",
      "Mechakoopa_df\n",
      "Mega Bob-omb_df\n",
      "Mega Dry Bones_df\n",
      "Mega Goomba_df\n",
      "Mega Mole_df\n",
      "Mega Rocky Wrench_df\n",
      "Mega Wiggler_df\n",
      "Meteor_df\n",
      "Mini Goomba_df\n",
      "Monty Mole_df\n",
      "Mr. Blizzard_df\n",
      "Mr. I_df\n",
      "Mummy_df\n",
      "Muncher_df\n",
      "Ninji_df\n",
      "Nipper Plant_df\n",
      "Nitpicker_df\n",
      "Octoomba_df\n",
      "Oil drum_df\n",
      "Ostro_df\n",
      "Para-Beetle_df\n",
      "Para-Biddybud_df\n",
      "Parabomb_df\n",
      "Parabones_df\n",
      "Paragoomba_df\n",
      "Peepa_df\n",
      "Petal Guy_df\n",
      "Phanto_df\n",
      "Pidgit_df\n",
      "Piranha Creeper_df\n",
      "Piranha Plant_df\n",
      "Poison Mushroom_df\n",
      "Pokey (projectile)_df\n",
      "Pokey_df\n",
      "Polterpup_df\n",
      "Porcupo_df\n",
      "Porcupuffer_df\n",
      "Ptooie_df\n",
      "Putrid Piranha_df\n",
      "Red Chomp_df\n",
      "Red Magikoopa_df\n",
      "Rex_df\n",
      "Rip Van Fish_df\n",
      "River Piranha Plant_df\n",
      "Rocky Wrench_df\n",
      "Scaredy Rat_df\n",
      "Scuttlebug_df\n",
      "Shellcreeper_df\n",
      "Shoe Goomba_df\n",
      "Shroob_df\n",
      "Shy Guy Tower_df\n",
      "Shy Guy_df\n",
      "Sidestepper_df\n",
      "Skeeter_df\n",
      "Sledge Bro_df\n",
      "Snapjaw_df\n",
      "Snifit_df\n",
      "Snow Pokey_df\n",
      "Snow Spike_df\n",
      "Sombrero Guy_df\n",
      "Spark_df\n",
      "Spear Guy_df\n",
      "Spike Top_df\n",
      "Spike Trap_df\n",
      "Spike_df\n",
      "Spiky Parabuzzy_df\n",
      "Spiky Topman_df\n",
      "Spinner_df\n",
      "Spiny Cheep Cheep_df\n",
      "Spiny Egg_df\n",
      "Spiny Piranha Plant_df\n",
      "Spiny_df\n",
      "Stalking Piranha Plant_df\n",
      "Stingby_df\n",
      "Stone Spike_df\n",
      "Stretch_df\n",
      "Sumo Bro_df\n",
      "Sushi_df\n",
      "Swoop_df\n",
      "Tail Boo_df\n",
      "Tanoomba_df\n",
      "Tap-Tap_df\n",
      "Thorny flower_df\n",
      "Thwimp_df\n",
      "Thwomp_df\n",
      "Toad (species)_df\n",
      "Toady_df\n",
      "Tornado_df\n",
      "Torpedo Ted_df\n",
      "Torpedo tube_df\n",
      "Tox Box_df\n",
      "Trouter_df\n",
      "Ty-foo_df\n",
      "Ukiki_df\n",
      "Unshelled Koopa_df\n",
      "Urchin_df\n",
      "Virus_df\n",
      "Volcanic debris_df\n",
      "Waddlewing_df\n",
      "Walleye_df\n",
      "Whale_df\n",
      "White Magikoopa_df\n",
      "Whomp_df\n",
      "Wiggler_df\n",
      "Wild Ptooie Piranha_df\n",
      "X-Naut_df\n",
      "Zinger_df\n"
     ]
    }
   ],
   "source": [
    "# Create a list of keys to remove\n",
    "keys_to_remove = []\n",
    "\n",
    "# Iterate through the enemies dictionary to find empty dfs\n",
    "for key, df in enemies.items():\n",
    "    if df.empty:\n",
    "        keys_to_remove.append(key)\n",
    "\n",
    "# Remove empty dataframes from the dictionary\n",
    "for key in keys_to_remove:\n",
    "    del enemies[key]\n",
    "\n",
    "# Print the sorted list of enemy names\n",
    "print(\"\\n\".join(sorted(enemies.keys())))"
   ]
  },
  {
   "cell_type": "code",
   "execution_count": 5,
   "metadata": {
    "colab": {
     "base_uri": "https://localhost:8080/",
     "height": 158
    },
    "executionInfo": {
     "elapsed": 297,
     "status": "error",
     "timestamp": 1741796368058,
     "user": {
      "displayName": "Selin D",
      "userId": "11746314052917307248"
     },
     "user_tz": -60
    },
    "id": "je4PlQBE8lgW",
    "outputId": "1632ebc1-8f3f-4776-8ceb-bbb76fe1b1f9"
   },
   "outputs": [
    {
     "data": {
      "application/vnd.microsoft.datawrangler.viewer.v0+json": {
       "columns": [
        {
         "name": "index",
         "rawType": "int64",
         "type": "integer"
        },
        {
         "name": "Super Mario series",
         "rawType": "object",
         "type": "string"
        },
        {
         "name": "Mario Kart series",
         "rawType": "object",
         "type": "unknown"
        },
        {
         "name": "Mario Party series",
         "rawType": "object",
         "type": "unknown"
        },
        {
         "name": "Mario vs. Donkey Kong series",
         "rawType": "object",
         "type": "unknown"
        },
        {
         "name": "Mario & Luigi series",
         "rawType": "object",
         "type": "unknown"
        },
        {
         "name": "Super Smash Bros. series",
         "rawType": "object",
         "type": "unknown"
        },
        {
         "name": "Luigi's Mansion series",
         "rawType": "object",
         "type": "unknown"
        },
        {
         "name": "Yoshi series",
         "rawType": "object",
         "type": "unknown"
        },
        {
         "name": "Paper Mario series",
         "rawType": "object",
         "type": "unknown"
        },
        {
         "name": "Donkey Kong series",
         "rawType": "object",
         "type": "unknown"
        },
        {
         "name": "Mario Bros. series",
         "rawType": "object",
         "type": "unknown"
        },
        {
         "name": "Wrecking Crew series",
         "rawType": "object",
         "type": "unknown"
        },
        {
         "name": "Mario Golf series",
         "rawType": "object",
         "type": "unknown"
        },
        {
         "name": "Mario Tennis series",
         "rawType": "object",
         "type": "unknown"
        },
        {
         "name": "Dr. Mario series",
         "rawType": "object",
         "type": "unknown"
        },
        {
         "name": "Super Mario Stadium series",
         "rawType": "object",
         "type": "unknown"
        },
        {
         "name": "Mario vs Donkey Kong series",
         "rawType": "object",
         "type": "unknown"
        },
        {
         "name": "Mario & Sonic series",
         "rawType": "object",
         "type": "unknown"
        }
       ],
       "ref": "5dda55d8-2f6e-4d67-bea2-15bd6254254e",
       "rows": [
        [
         "0",
         "Super Mario Bros.",
         "Super Mario Kart",
         "Mario Party",
         null,
         "Mario & Luigi: Superstar Saga / Mario & Luigi: Superstar Saga + Bowser's Minions",
         "Super Smash Bros. Ultimate",
         null,
         "Super Mario World 2: Yoshi's Island / Yoshi's Island: Super Mario Advance 3",
         "Paper Mario",
         null,
         null,
         null,
         null,
         null,
         null,
         null,
         null,
         null
        ],
        [
         "1",
         "Super Mario Bros.: The Lost Levels",
         "Mario Kart 64",
         "Mario Party 2",
         null,
         "Mario & Luigi: Partners in Time",
         null,
         null,
         "Yoshi's Story",
         "Paper Mario: The Thousand-Year Door",
         null,
         null,
         null,
         null,
         null,
         null,
         null,
         null,
         null
        ],
        [
         "2",
         "Super Mario Bros. 3 / Super Mario Advance 4: Super Mario Bros. 3",
         "Mario Kart: Super Circuit",
         "Mario Party 3",
         null,
         "Mario & Luigi: Bowser's Inside Story / Mario & Luigi: Bowser's Inside Story + Bowser Jr.'s Journey",
         null,
         null,
         "Yoshi's Island DS",
         "Super Paper Mario",
         null,
         null,
         null,
         null,
         null,
         null,
         null,
         null,
         null
        ],
        [
         "3",
         "Super Mario Land",
         "Mario Kart: Double Dash!!",
         "Mario Party 4",
         null,
         "Mario & Luigi: Dream Team",
         null,
         null,
         "Yoshi's New Island",
         "Paper Mario: Sticker Star",
         null,
         null,
         null,
         null,
         null,
         null,
         null,
         null,
         null
        ],
        [
         "4",
         "Super Mario World",
         "Mario Kart Arcade GP series",
         "Mario Party 5",
         null,
         "Mario & Luigi: Paper Jam",
         null,
         null,
         "Yoshi's Woolly World / Poochy & Yoshi's Woolly World",
         "Paper Mario: Color Splash",
         null,
         null,
         null,
         null,
         null,
         null,
         null,
         null,
         null
        ],
        [
         "5",
         "Super Mario Land 2: 6 Golden Coins",
         "Mario Kart DS",
         "Mario Party 6",
         null,
         "Mario & Luigi: Brothership",
         null,
         null,
         "Yoshi's Crafted World",
         "Paper Mario: The Origami King",
         null,
         null,
         null,
         null,
         null,
         null,
         null,
         null,
         null
        ],
        [
         "6",
         "Super Mario 64 / Super Mario 64 DS",
         "Mario Kart Wii",
         "Mario Party Advance",
         null,
         null,
         null,
         null,
         null,
         null,
         null,
         null,
         null,
         null,
         null,
         null,
         null,
         null,
         null
        ],
        [
         "7",
         "Super Mario Sunshine",
         "Mario Kart 7",
         "Mario Party 7",
         null,
         null,
         null,
         null,
         null,
         null,
         null,
         null,
         null,
         null,
         null,
         null,
         null,
         null,
         null
        ],
        [
         "8",
         "New Super Mario Bros.",
         "Mario Kart 8 / Mario Kart 8 Deluxe",
         "Mario Party 8",
         null,
         null,
         null,
         null,
         null,
         null,
         null,
         null,
         null,
         null,
         null,
         null,
         null,
         null,
         null
        ],
        [
         "9",
         "Super Mario Galaxy",
         "Mario Kart Tour",
         "Mario Party DS",
         null,
         null,
         null,
         null,
         null,
         null,
         null,
         null,
         null,
         null,
         null,
         null,
         null,
         null,
         null
        ],
        [
         "10",
         "New Super Mario Bros. Wii",
         "Mario Kart Live: Home Circuit",
         "Mario Party 9",
         null,
         null,
         null,
         null,
         null,
         null,
         null,
         null,
         null,
         null,
         null,
         null,
         null,
         null,
         null
        ],
        [
         "11",
         "Super Mario Galaxy 2",
         "Mario Kart World",
         "Mario Party: Island Tour",
         null,
         null,
         null,
         null,
         null,
         null,
         null,
         null,
         null,
         null,
         null,
         null,
         null,
         null,
         null
        ],
        [
         "12",
         "Super Mario 3D Land",
         null,
         "Mario Party 10",
         null,
         null,
         null,
         null,
         null,
         null,
         null,
         null,
         null,
         null,
         null,
         null,
         null,
         null,
         null
        ],
        [
         "13",
         "New Super Mario Bros. 2",
         null,
         "Mario Party: Star Rush",
         null,
         null,
         null,
         null,
         null,
         null,
         null,
         null,
         null,
         null,
         null,
         null,
         null,
         null,
         null
        ],
        [
         "14",
         "New Super Mario Bros. U",
         null,
         "Super Mario Party",
         null,
         null,
         null,
         null,
         null,
         null,
         null,
         null,
         null,
         null,
         null,
         null,
         null,
         null,
         null
        ],
        [
         "15",
         "Super Mario 3D World / Super Mario 3D World + Bowser's Fury",
         null,
         "Mario Party Superstars",
         null,
         null,
         null,
         null,
         null,
         null,
         null,
         null,
         null,
         null,
         null,
         null,
         null,
         null,
         null
        ],
        [
         "16",
         "Super Mario Maker / Super Mario Maker for Nintendo 3DS / Super Mario Maker 2",
         null,
         null,
         null,
         null,
         null,
         null,
         null,
         null,
         null,
         null,
         null,
         null,
         null,
         null,
         null,
         null,
         null
        ],
        [
         "17",
         "Super Mario Run",
         null,
         null,
         null,
         null,
         null,
         null,
         null,
         null,
         null,
         null,
         null,
         null,
         null,
         null,
         null,
         null,
         null
        ],
        [
         "18",
         "Super Mario Odyssey",
         null,
         null,
         null,
         null,
         null,
         null,
         null,
         null,
         null,
         null,
         null,
         null,
         null,
         null,
         null,
         null,
         null
        ],
        [
         "19",
         "Super Mario Bros. Wonder",
         null,
         null,
         null,
         null,
         null,
         null,
         null,
         null,
         null,
         null,
         null,
         null,
         null,
         null,
         null,
         null,
         null
        ]
       ],
       "shape": {
        "columns": 18,
        "rows": 20
       }
      },
      "text/html": [
       "<div>\n",
       "<style scoped>\n",
       "    .dataframe tbody tr th:only-of-type {\n",
       "        vertical-align: middle;\n",
       "    }\n",
       "\n",
       "    .dataframe tbody tr th {\n",
       "        vertical-align: top;\n",
       "    }\n",
       "\n",
       "    .dataframe thead th {\n",
       "        text-align: right;\n",
       "    }\n",
       "</style>\n",
       "<table border=\"1\" class=\"dataframe\">\n",
       "  <thead>\n",
       "    <tr style=\"text-align: right;\">\n",
       "      <th></th>\n",
       "      <th>Super Mario series</th>\n",
       "      <th>Mario Kart series</th>\n",
       "      <th>Mario Party series</th>\n",
       "      <th>Mario vs. Donkey Kong series</th>\n",
       "      <th>Mario &amp; Luigi series</th>\n",
       "      <th>Super Smash Bros. series</th>\n",
       "      <th>Luigi's Mansion series</th>\n",
       "      <th>Yoshi series</th>\n",
       "      <th>Paper Mario series</th>\n",
       "      <th>Donkey Kong series</th>\n",
       "      <th>Mario Bros. series</th>\n",
       "      <th>Wrecking Crew series</th>\n",
       "      <th>Mario Golf series</th>\n",
       "      <th>Mario Tennis series</th>\n",
       "      <th>Dr. Mario series</th>\n",
       "      <th>Super Mario Stadium series</th>\n",
       "      <th>Mario vs Donkey Kong series</th>\n",
       "      <th>Mario &amp; Sonic series</th>\n",
       "    </tr>\n",
       "  </thead>\n",
       "  <tbody>\n",
       "    <tr>\n",
       "      <th>0</th>\n",
       "      <td>Super Mario Bros.</td>\n",
       "      <td>Super Mario Kart</td>\n",
       "      <td>Mario Party</td>\n",
       "      <td>NaN</td>\n",
       "      <td>Mario &amp; Luigi: Superstar Saga / Mario &amp; Luigi:...</td>\n",
       "      <td>Super Smash Bros. Ultimate</td>\n",
       "      <td>NaN</td>\n",
       "      <td>Super Mario World 2: Yoshi's Island / Yoshi's ...</td>\n",
       "      <td>Paper Mario</td>\n",
       "      <td>NaN</td>\n",
       "      <td>NaN</td>\n",
       "      <td>NaN</td>\n",
       "      <td>NaN</td>\n",
       "      <td>NaN</td>\n",
       "      <td>NaN</td>\n",
       "      <td>NaN</td>\n",
       "      <td>NaN</td>\n",
       "      <td>NaN</td>\n",
       "    </tr>\n",
       "    <tr>\n",
       "      <th>1</th>\n",
       "      <td>Super Mario Bros.: The Lost Levels</td>\n",
       "      <td>Mario Kart 64</td>\n",
       "      <td>Mario Party 2</td>\n",
       "      <td>NaN</td>\n",
       "      <td>Mario &amp; Luigi: Partners in Time</td>\n",
       "      <td>NaN</td>\n",
       "      <td>NaN</td>\n",
       "      <td>Yoshi's Story</td>\n",
       "      <td>Paper Mario: The Thousand-Year Door</td>\n",
       "      <td>NaN</td>\n",
       "      <td>NaN</td>\n",
       "      <td>NaN</td>\n",
       "      <td>NaN</td>\n",
       "      <td>NaN</td>\n",
       "      <td>NaN</td>\n",
       "      <td>NaN</td>\n",
       "      <td>NaN</td>\n",
       "      <td>NaN</td>\n",
       "    </tr>\n",
       "    <tr>\n",
       "      <th>2</th>\n",
       "      <td>Super Mario Bros. 3 / Super Mario Advance 4: S...</td>\n",
       "      <td>Mario Kart: Super Circuit</td>\n",
       "      <td>Mario Party 3</td>\n",
       "      <td>NaN</td>\n",
       "      <td>Mario &amp; Luigi: Bowser's Inside Story / Mario &amp;...</td>\n",
       "      <td>NaN</td>\n",
       "      <td>NaN</td>\n",
       "      <td>Yoshi's Island DS</td>\n",
       "      <td>Super Paper Mario</td>\n",
       "      <td>NaN</td>\n",
       "      <td>NaN</td>\n",
       "      <td>NaN</td>\n",
       "      <td>NaN</td>\n",
       "      <td>NaN</td>\n",
       "      <td>NaN</td>\n",
       "      <td>NaN</td>\n",
       "      <td>NaN</td>\n",
       "      <td>NaN</td>\n",
       "    </tr>\n",
       "    <tr>\n",
       "      <th>3</th>\n",
       "      <td>Super Mario Land</td>\n",
       "      <td>Mario Kart: Double Dash!!</td>\n",
       "      <td>Mario Party 4</td>\n",
       "      <td>NaN</td>\n",
       "      <td>Mario &amp; Luigi: Dream Team</td>\n",
       "      <td>NaN</td>\n",
       "      <td>NaN</td>\n",
       "      <td>Yoshi's New Island</td>\n",
       "      <td>Paper Mario: Sticker Star</td>\n",
       "      <td>NaN</td>\n",
       "      <td>NaN</td>\n",
       "      <td>NaN</td>\n",
       "      <td>NaN</td>\n",
       "      <td>NaN</td>\n",
       "      <td>NaN</td>\n",
       "      <td>NaN</td>\n",
       "      <td>NaN</td>\n",
       "      <td>NaN</td>\n",
       "    </tr>\n",
       "    <tr>\n",
       "      <th>4</th>\n",
       "      <td>Super Mario World</td>\n",
       "      <td>Mario Kart Arcade GP series</td>\n",
       "      <td>Mario Party 5</td>\n",
       "      <td>NaN</td>\n",
       "      <td>Mario &amp; Luigi: Paper Jam</td>\n",
       "      <td>NaN</td>\n",
       "      <td>NaN</td>\n",
       "      <td>Yoshi's Woolly World / Poochy &amp; Yoshi's Woolly...</td>\n",
       "      <td>Paper Mario: Color Splash</td>\n",
       "      <td>NaN</td>\n",
       "      <td>NaN</td>\n",
       "      <td>NaN</td>\n",
       "      <td>NaN</td>\n",
       "      <td>NaN</td>\n",
       "      <td>NaN</td>\n",
       "      <td>NaN</td>\n",
       "      <td>NaN</td>\n",
       "      <td>NaN</td>\n",
       "    </tr>\n",
       "    <tr>\n",
       "      <th>5</th>\n",
       "      <td>Super Mario Land 2: 6 Golden Coins</td>\n",
       "      <td>Mario Kart DS</td>\n",
       "      <td>Mario Party 6</td>\n",
       "      <td>NaN</td>\n",
       "      <td>Mario &amp; Luigi: Brothership</td>\n",
       "      <td>NaN</td>\n",
       "      <td>NaN</td>\n",
       "      <td>Yoshi's Crafted World</td>\n",
       "      <td>Paper Mario: The Origami King</td>\n",
       "      <td>NaN</td>\n",
       "      <td>NaN</td>\n",
       "      <td>NaN</td>\n",
       "      <td>NaN</td>\n",
       "      <td>NaN</td>\n",
       "      <td>NaN</td>\n",
       "      <td>NaN</td>\n",
       "      <td>NaN</td>\n",
       "      <td>NaN</td>\n",
       "    </tr>\n",
       "    <tr>\n",
       "      <th>6</th>\n",
       "      <td>Super Mario 64 / Super Mario 64 DS</td>\n",
       "      <td>Mario Kart Wii</td>\n",
       "      <td>Mario Party Advance</td>\n",
       "      <td>NaN</td>\n",
       "      <td>NaN</td>\n",
       "      <td>NaN</td>\n",
       "      <td>NaN</td>\n",
       "      <td>NaN</td>\n",
       "      <td>NaN</td>\n",
       "      <td>NaN</td>\n",
       "      <td>NaN</td>\n",
       "      <td>NaN</td>\n",
       "      <td>NaN</td>\n",
       "      <td>NaN</td>\n",
       "      <td>NaN</td>\n",
       "      <td>NaN</td>\n",
       "      <td>NaN</td>\n",
       "      <td>NaN</td>\n",
       "    </tr>\n",
       "    <tr>\n",
       "      <th>7</th>\n",
       "      <td>Super Mario Sunshine</td>\n",
       "      <td>Mario Kart 7</td>\n",
       "      <td>Mario Party 7</td>\n",
       "      <td>NaN</td>\n",
       "      <td>NaN</td>\n",
       "      <td>NaN</td>\n",
       "      <td>NaN</td>\n",
       "      <td>NaN</td>\n",
       "      <td>NaN</td>\n",
       "      <td>NaN</td>\n",
       "      <td>NaN</td>\n",
       "      <td>NaN</td>\n",
       "      <td>NaN</td>\n",
       "      <td>NaN</td>\n",
       "      <td>NaN</td>\n",
       "      <td>NaN</td>\n",
       "      <td>NaN</td>\n",
       "      <td>NaN</td>\n",
       "    </tr>\n",
       "    <tr>\n",
       "      <th>8</th>\n",
       "      <td>New Super Mario Bros.</td>\n",
       "      <td>Mario Kart 8 / Mario Kart 8 Deluxe</td>\n",
       "      <td>Mario Party 8</td>\n",
       "      <td>NaN</td>\n",
       "      <td>NaN</td>\n",
       "      <td>NaN</td>\n",
       "      <td>NaN</td>\n",
       "      <td>NaN</td>\n",
       "      <td>NaN</td>\n",
       "      <td>NaN</td>\n",
       "      <td>NaN</td>\n",
       "      <td>NaN</td>\n",
       "      <td>NaN</td>\n",
       "      <td>NaN</td>\n",
       "      <td>NaN</td>\n",
       "      <td>NaN</td>\n",
       "      <td>NaN</td>\n",
       "      <td>NaN</td>\n",
       "    </tr>\n",
       "    <tr>\n",
       "      <th>9</th>\n",
       "      <td>Super Mario Galaxy</td>\n",
       "      <td>Mario Kart Tour</td>\n",
       "      <td>Mario Party DS</td>\n",
       "      <td>NaN</td>\n",
       "      <td>NaN</td>\n",
       "      <td>NaN</td>\n",
       "      <td>NaN</td>\n",
       "      <td>NaN</td>\n",
       "      <td>NaN</td>\n",
       "      <td>NaN</td>\n",
       "      <td>NaN</td>\n",
       "      <td>NaN</td>\n",
       "      <td>NaN</td>\n",
       "      <td>NaN</td>\n",
       "      <td>NaN</td>\n",
       "      <td>NaN</td>\n",
       "      <td>NaN</td>\n",
       "      <td>NaN</td>\n",
       "    </tr>\n",
       "    <tr>\n",
       "      <th>10</th>\n",
       "      <td>New Super Mario Bros. Wii</td>\n",
       "      <td>Mario Kart Live: Home Circuit</td>\n",
       "      <td>Mario Party 9</td>\n",
       "      <td>NaN</td>\n",
       "      <td>NaN</td>\n",
       "      <td>NaN</td>\n",
       "      <td>NaN</td>\n",
       "      <td>NaN</td>\n",
       "      <td>NaN</td>\n",
       "      <td>NaN</td>\n",
       "      <td>NaN</td>\n",
       "      <td>NaN</td>\n",
       "      <td>NaN</td>\n",
       "      <td>NaN</td>\n",
       "      <td>NaN</td>\n",
       "      <td>NaN</td>\n",
       "      <td>NaN</td>\n",
       "      <td>NaN</td>\n",
       "    </tr>\n",
       "    <tr>\n",
       "      <th>11</th>\n",
       "      <td>Super Mario Galaxy 2</td>\n",
       "      <td>Mario Kart World</td>\n",
       "      <td>Mario Party: Island Tour</td>\n",
       "      <td>NaN</td>\n",
       "      <td>NaN</td>\n",
       "      <td>NaN</td>\n",
       "      <td>NaN</td>\n",
       "      <td>NaN</td>\n",
       "      <td>NaN</td>\n",
       "      <td>NaN</td>\n",
       "      <td>NaN</td>\n",
       "      <td>NaN</td>\n",
       "      <td>NaN</td>\n",
       "      <td>NaN</td>\n",
       "      <td>NaN</td>\n",
       "      <td>NaN</td>\n",
       "      <td>NaN</td>\n",
       "      <td>NaN</td>\n",
       "    </tr>\n",
       "    <tr>\n",
       "      <th>12</th>\n",
       "      <td>Super Mario 3D Land</td>\n",
       "      <td>NaN</td>\n",
       "      <td>Mario Party 10</td>\n",
       "      <td>NaN</td>\n",
       "      <td>NaN</td>\n",
       "      <td>NaN</td>\n",
       "      <td>NaN</td>\n",
       "      <td>NaN</td>\n",
       "      <td>NaN</td>\n",
       "      <td>NaN</td>\n",
       "      <td>NaN</td>\n",
       "      <td>NaN</td>\n",
       "      <td>NaN</td>\n",
       "      <td>NaN</td>\n",
       "      <td>NaN</td>\n",
       "      <td>NaN</td>\n",
       "      <td>NaN</td>\n",
       "      <td>NaN</td>\n",
       "    </tr>\n",
       "    <tr>\n",
       "      <th>13</th>\n",
       "      <td>New Super Mario Bros. 2</td>\n",
       "      <td>NaN</td>\n",
       "      <td>Mario Party: Star Rush</td>\n",
       "      <td>NaN</td>\n",
       "      <td>NaN</td>\n",
       "      <td>NaN</td>\n",
       "      <td>NaN</td>\n",
       "      <td>NaN</td>\n",
       "      <td>NaN</td>\n",
       "      <td>NaN</td>\n",
       "      <td>NaN</td>\n",
       "      <td>NaN</td>\n",
       "      <td>NaN</td>\n",
       "      <td>NaN</td>\n",
       "      <td>NaN</td>\n",
       "      <td>NaN</td>\n",
       "      <td>NaN</td>\n",
       "      <td>NaN</td>\n",
       "    </tr>\n",
       "    <tr>\n",
       "      <th>14</th>\n",
       "      <td>New Super Mario Bros. U</td>\n",
       "      <td>NaN</td>\n",
       "      <td>Super Mario Party</td>\n",
       "      <td>NaN</td>\n",
       "      <td>NaN</td>\n",
       "      <td>NaN</td>\n",
       "      <td>NaN</td>\n",
       "      <td>NaN</td>\n",
       "      <td>NaN</td>\n",
       "      <td>NaN</td>\n",
       "      <td>NaN</td>\n",
       "      <td>NaN</td>\n",
       "      <td>NaN</td>\n",
       "      <td>NaN</td>\n",
       "      <td>NaN</td>\n",
       "      <td>NaN</td>\n",
       "      <td>NaN</td>\n",
       "      <td>NaN</td>\n",
       "    </tr>\n",
       "    <tr>\n",
       "      <th>15</th>\n",
       "      <td>Super Mario 3D World / Super Mario 3D World + ...</td>\n",
       "      <td>NaN</td>\n",
       "      <td>Mario Party Superstars</td>\n",
       "      <td>NaN</td>\n",
       "      <td>NaN</td>\n",
       "      <td>NaN</td>\n",
       "      <td>NaN</td>\n",
       "      <td>NaN</td>\n",
       "      <td>NaN</td>\n",
       "      <td>NaN</td>\n",
       "      <td>NaN</td>\n",
       "      <td>NaN</td>\n",
       "      <td>NaN</td>\n",
       "      <td>NaN</td>\n",
       "      <td>NaN</td>\n",
       "      <td>NaN</td>\n",
       "      <td>NaN</td>\n",
       "      <td>NaN</td>\n",
       "    </tr>\n",
       "    <tr>\n",
       "      <th>16</th>\n",
       "      <td>Super Mario Maker / Super Mario Maker for Nint...</td>\n",
       "      <td>NaN</td>\n",
       "      <td>NaN</td>\n",
       "      <td>NaN</td>\n",
       "      <td>NaN</td>\n",
       "      <td>NaN</td>\n",
       "      <td>NaN</td>\n",
       "      <td>NaN</td>\n",
       "      <td>NaN</td>\n",
       "      <td>NaN</td>\n",
       "      <td>NaN</td>\n",
       "      <td>NaN</td>\n",
       "      <td>NaN</td>\n",
       "      <td>NaN</td>\n",
       "      <td>NaN</td>\n",
       "      <td>NaN</td>\n",
       "      <td>NaN</td>\n",
       "      <td>NaN</td>\n",
       "    </tr>\n",
       "    <tr>\n",
       "      <th>17</th>\n",
       "      <td>Super Mario Run</td>\n",
       "      <td>NaN</td>\n",
       "      <td>NaN</td>\n",
       "      <td>NaN</td>\n",
       "      <td>NaN</td>\n",
       "      <td>NaN</td>\n",
       "      <td>NaN</td>\n",
       "      <td>NaN</td>\n",
       "      <td>NaN</td>\n",
       "      <td>NaN</td>\n",
       "      <td>NaN</td>\n",
       "      <td>NaN</td>\n",
       "      <td>NaN</td>\n",
       "      <td>NaN</td>\n",
       "      <td>NaN</td>\n",
       "      <td>NaN</td>\n",
       "      <td>NaN</td>\n",
       "      <td>NaN</td>\n",
       "    </tr>\n",
       "    <tr>\n",
       "      <th>18</th>\n",
       "      <td>Super Mario Odyssey</td>\n",
       "      <td>NaN</td>\n",
       "      <td>NaN</td>\n",
       "      <td>NaN</td>\n",
       "      <td>NaN</td>\n",
       "      <td>NaN</td>\n",
       "      <td>NaN</td>\n",
       "      <td>NaN</td>\n",
       "      <td>NaN</td>\n",
       "      <td>NaN</td>\n",
       "      <td>NaN</td>\n",
       "      <td>NaN</td>\n",
       "      <td>NaN</td>\n",
       "      <td>NaN</td>\n",
       "      <td>NaN</td>\n",
       "      <td>NaN</td>\n",
       "      <td>NaN</td>\n",
       "      <td>NaN</td>\n",
       "    </tr>\n",
       "    <tr>\n",
       "      <th>19</th>\n",
       "      <td>Super Mario Bros. Wonder</td>\n",
       "      <td>NaN</td>\n",
       "      <td>NaN</td>\n",
       "      <td>NaN</td>\n",
       "      <td>NaN</td>\n",
       "      <td>NaN</td>\n",
       "      <td>NaN</td>\n",
       "      <td>NaN</td>\n",
       "      <td>NaN</td>\n",
       "      <td>NaN</td>\n",
       "      <td>NaN</td>\n",
       "      <td>NaN</td>\n",
       "      <td>NaN</td>\n",
       "      <td>NaN</td>\n",
       "      <td>NaN</td>\n",
       "      <td>NaN</td>\n",
       "      <td>NaN</td>\n",
       "      <td>NaN</td>\n",
       "    </tr>\n",
       "  </tbody>\n",
       "</table>\n",
       "</div>"
      ],
      "text/plain": [
       "                                   Super Mario series  \\\n",
       "0                                   Super Mario Bros.   \n",
       "1                  Super Mario Bros.: The Lost Levels   \n",
       "2   Super Mario Bros. 3 / Super Mario Advance 4: S...   \n",
       "3                                    Super Mario Land   \n",
       "4                                   Super Mario World   \n",
       "5                  Super Mario Land 2: 6 Golden Coins   \n",
       "6                  Super Mario 64 / Super Mario 64 DS   \n",
       "7                                Super Mario Sunshine   \n",
       "8                               New Super Mario Bros.   \n",
       "9                                  Super Mario Galaxy   \n",
       "10                          New Super Mario Bros. Wii   \n",
       "11                               Super Mario Galaxy 2   \n",
       "12                                Super Mario 3D Land   \n",
       "13                            New Super Mario Bros. 2   \n",
       "14                            New Super Mario Bros. U   \n",
       "15  Super Mario 3D World / Super Mario 3D World + ...   \n",
       "16  Super Mario Maker / Super Mario Maker for Nint...   \n",
       "17                                    Super Mario Run   \n",
       "18                                Super Mario Odyssey   \n",
       "19                           Super Mario Bros. Wonder   \n",
       "\n",
       "                     Mario Kart series        Mario Party series  \\\n",
       "0                     Super Mario Kart               Mario Party   \n",
       "1                        Mario Kart 64             Mario Party 2   \n",
       "2            Mario Kart: Super Circuit             Mario Party 3   \n",
       "3            Mario Kart: Double Dash!!             Mario Party 4   \n",
       "4          Mario Kart Arcade GP series             Mario Party 5   \n",
       "5                        Mario Kart DS             Mario Party 6   \n",
       "6                       Mario Kart Wii       Mario Party Advance   \n",
       "7                         Mario Kart 7             Mario Party 7   \n",
       "8   Mario Kart 8 / Mario Kart 8 Deluxe             Mario Party 8   \n",
       "9                      Mario Kart Tour            Mario Party DS   \n",
       "10       Mario Kart Live: Home Circuit             Mario Party 9   \n",
       "11                    Mario Kart World  Mario Party: Island Tour   \n",
       "12                                 NaN            Mario Party 10   \n",
       "13                                 NaN    Mario Party: Star Rush   \n",
       "14                                 NaN         Super Mario Party   \n",
       "15                                 NaN    Mario Party Superstars   \n",
       "16                                 NaN                       NaN   \n",
       "17                                 NaN                       NaN   \n",
       "18                                 NaN                       NaN   \n",
       "19                                 NaN                       NaN   \n",
       "\n",
       "   Mario vs. Donkey Kong series  \\\n",
       "0                           NaN   \n",
       "1                           NaN   \n",
       "2                           NaN   \n",
       "3                           NaN   \n",
       "4                           NaN   \n",
       "5                           NaN   \n",
       "6                           NaN   \n",
       "7                           NaN   \n",
       "8                           NaN   \n",
       "9                           NaN   \n",
       "10                          NaN   \n",
       "11                          NaN   \n",
       "12                          NaN   \n",
       "13                          NaN   \n",
       "14                          NaN   \n",
       "15                          NaN   \n",
       "16                          NaN   \n",
       "17                          NaN   \n",
       "18                          NaN   \n",
       "19                          NaN   \n",
       "\n",
       "                                 Mario & Luigi series  \\\n",
       "0   Mario & Luigi: Superstar Saga / Mario & Luigi:...   \n",
       "1                     Mario & Luigi: Partners in Time   \n",
       "2   Mario & Luigi: Bowser's Inside Story / Mario &...   \n",
       "3                           Mario & Luigi: Dream Team   \n",
       "4                            Mario & Luigi: Paper Jam   \n",
       "5                          Mario & Luigi: Brothership   \n",
       "6                                                 NaN   \n",
       "7                                                 NaN   \n",
       "8                                                 NaN   \n",
       "9                                                 NaN   \n",
       "10                                                NaN   \n",
       "11                                                NaN   \n",
       "12                                                NaN   \n",
       "13                                                NaN   \n",
       "14                                                NaN   \n",
       "15                                                NaN   \n",
       "16                                                NaN   \n",
       "17                                                NaN   \n",
       "18                                                NaN   \n",
       "19                                                NaN   \n",
       "\n",
       "      Super Smash Bros. series Luigi's Mansion series  \\\n",
       "0   Super Smash Bros. Ultimate                    NaN   \n",
       "1                          NaN                    NaN   \n",
       "2                          NaN                    NaN   \n",
       "3                          NaN                    NaN   \n",
       "4                          NaN                    NaN   \n",
       "5                          NaN                    NaN   \n",
       "6                          NaN                    NaN   \n",
       "7                          NaN                    NaN   \n",
       "8                          NaN                    NaN   \n",
       "9                          NaN                    NaN   \n",
       "10                         NaN                    NaN   \n",
       "11                         NaN                    NaN   \n",
       "12                         NaN                    NaN   \n",
       "13                         NaN                    NaN   \n",
       "14                         NaN                    NaN   \n",
       "15                         NaN                    NaN   \n",
       "16                         NaN                    NaN   \n",
       "17                         NaN                    NaN   \n",
       "18                         NaN                    NaN   \n",
       "19                         NaN                    NaN   \n",
       "\n",
       "                                         Yoshi series  \\\n",
       "0   Super Mario World 2: Yoshi's Island / Yoshi's ...   \n",
       "1                                       Yoshi's Story   \n",
       "2                                   Yoshi's Island DS   \n",
       "3                                  Yoshi's New Island   \n",
       "4   Yoshi's Woolly World / Poochy & Yoshi's Woolly...   \n",
       "5                               Yoshi's Crafted World   \n",
       "6                                                 NaN   \n",
       "7                                                 NaN   \n",
       "8                                                 NaN   \n",
       "9                                                 NaN   \n",
       "10                                                NaN   \n",
       "11                                                NaN   \n",
       "12                                                NaN   \n",
       "13                                                NaN   \n",
       "14                                                NaN   \n",
       "15                                                NaN   \n",
       "16                                                NaN   \n",
       "17                                                NaN   \n",
       "18                                                NaN   \n",
       "19                                                NaN   \n",
       "\n",
       "                     Paper Mario series Donkey Kong series Mario Bros. series  \\\n",
       "0                           Paper Mario                NaN                NaN   \n",
       "1   Paper Mario: The Thousand-Year Door                NaN                NaN   \n",
       "2                     Super Paper Mario                NaN                NaN   \n",
       "3             Paper Mario: Sticker Star                NaN                NaN   \n",
       "4             Paper Mario: Color Splash                NaN                NaN   \n",
       "5         Paper Mario: The Origami King                NaN                NaN   \n",
       "6                                   NaN                NaN                NaN   \n",
       "7                                   NaN                NaN                NaN   \n",
       "8                                   NaN                NaN                NaN   \n",
       "9                                   NaN                NaN                NaN   \n",
       "10                                  NaN                NaN                NaN   \n",
       "11                                  NaN                NaN                NaN   \n",
       "12                                  NaN                NaN                NaN   \n",
       "13                                  NaN                NaN                NaN   \n",
       "14                                  NaN                NaN                NaN   \n",
       "15                                  NaN                NaN                NaN   \n",
       "16                                  NaN                NaN                NaN   \n",
       "17                                  NaN                NaN                NaN   \n",
       "18                                  NaN                NaN                NaN   \n",
       "19                                  NaN                NaN                NaN   \n",
       "\n",
       "   Wrecking Crew series Mario Golf series Mario Tennis series  \\\n",
       "0                   NaN               NaN                 NaN   \n",
       "1                   NaN               NaN                 NaN   \n",
       "2                   NaN               NaN                 NaN   \n",
       "3                   NaN               NaN                 NaN   \n",
       "4                   NaN               NaN                 NaN   \n",
       "5                   NaN               NaN                 NaN   \n",
       "6                   NaN               NaN                 NaN   \n",
       "7                   NaN               NaN                 NaN   \n",
       "8                   NaN               NaN                 NaN   \n",
       "9                   NaN               NaN                 NaN   \n",
       "10                  NaN               NaN                 NaN   \n",
       "11                  NaN               NaN                 NaN   \n",
       "12                  NaN               NaN                 NaN   \n",
       "13                  NaN               NaN                 NaN   \n",
       "14                  NaN               NaN                 NaN   \n",
       "15                  NaN               NaN                 NaN   \n",
       "16                  NaN               NaN                 NaN   \n",
       "17                  NaN               NaN                 NaN   \n",
       "18                  NaN               NaN                 NaN   \n",
       "19                  NaN               NaN                 NaN   \n",
       "\n",
       "   Dr. Mario series Super Mario Stadium series Mario vs Donkey Kong series  \\\n",
       "0               NaN                        NaN                         NaN   \n",
       "1               NaN                        NaN                         NaN   \n",
       "2               NaN                        NaN                         NaN   \n",
       "3               NaN                        NaN                         NaN   \n",
       "4               NaN                        NaN                         NaN   \n",
       "5               NaN                        NaN                         NaN   \n",
       "6               NaN                        NaN                         NaN   \n",
       "7               NaN                        NaN                         NaN   \n",
       "8               NaN                        NaN                         NaN   \n",
       "9               NaN                        NaN                         NaN   \n",
       "10              NaN                        NaN                         NaN   \n",
       "11              NaN                        NaN                         NaN   \n",
       "12              NaN                        NaN                         NaN   \n",
       "13              NaN                        NaN                         NaN   \n",
       "14              NaN                        NaN                         NaN   \n",
       "15              NaN                        NaN                         NaN   \n",
       "16              NaN                        NaN                         NaN   \n",
       "17              NaN                        NaN                         NaN   \n",
       "18              NaN                        NaN                         NaN   \n",
       "19              NaN                        NaN                         NaN   \n",
       "\n",
       "   Mario & Sonic series  \n",
       "0                   NaN  \n",
       "1                   NaN  \n",
       "2                   NaN  \n",
       "3                   NaN  \n",
       "4                   NaN  \n",
       "5                   NaN  \n",
       "6                   NaN  \n",
       "7                   NaN  \n",
       "8                   NaN  \n",
       "9                   NaN  \n",
       "10                  NaN  \n",
       "11                  NaN  \n",
       "12                  NaN  \n",
       "13                  NaN  \n",
       "14                  NaN  \n",
       "15                  NaN  \n",
       "16                  NaN  \n",
       "17                  NaN  \n",
       "18                  NaN  \n",
       "19                  NaN  "
      ]
     },
     "execution_count": 5,
     "metadata": {},
     "output_type": "execute_result"
    }
   ],
   "source": [
    "# Get a specific enemy dataframe\n",
    "enemies['Piranha Plant_df']"
   ]
  },
  {
   "cell_type": "code",
   "execution_count": 6,
   "metadata": {
    "id": "-Ynet45XZS3N"
   },
   "outputs": [],
   "source": [
    "# Function to reshape a DataFrame with multiple columns into a single 'Title' column\n",
    "def reshape_dataframe(df):\n",
    "    \"\"\"Trasforma un DataFrame con più colonne in una sola colonna 'Title'.\"\"\"\n",
    "    return pd.DataFrame({'Title': df.values.flatten()}).dropna().reset_index(drop = True)\n",
    "\n",
    "# Apply the reshape function to each enemy DataFrame\n",
    "enemies_transformed = {key: reshape_dataframe(df) for key, df in enemies.items()}"
   ]
  },
  {
   "cell_type": "code",
   "execution_count": 7,
   "metadata": {
    "colab": {
     "base_uri": "https://localhost:8080/",
     "height": 1000
    },
    "executionInfo": {
     "elapsed": 73,
     "status": "ok",
     "timestamp": 1740678084044,
     "user": {
      "displayName": "cik renna",
      "userId": "07013921068902357672"
     },
     "user_tz": -60
    },
    "id": "9hYB-AQkZdY3",
    "outputId": "70673b95-4a7b-4c95-b772-c239d4d12856"
   },
   "outputs": [
    {
     "data": {
      "application/vnd.microsoft.datawrangler.viewer.v0+json": {
       "columns": [
        {
         "name": "index",
         "rawType": "int64",
         "type": "integer"
        },
        {
         "name": "Title",
         "rawType": "object",
         "type": "string"
        }
       ],
       "ref": "9e1ff5dd-a701-404e-9c74-7d81d140ff88",
       "rows": [
        [
         "0",
         "Super Mario Bros."
        ],
        [
         "1",
         "Super Mario Kart"
        ],
        [
         "2",
         "Mario Party"
        ],
        [
         "3",
         "Mario & Luigi: Superstar Saga / Mario & Luigi: Superstar Saga + Bowser's Minions"
        ],
        [
         "4",
         "Super Smash Bros. Ultimate"
        ],
        [
         "5",
         "Super Mario World 2: Yoshi's Island / Yoshi's Island: Super Mario Advance 3"
        ],
        [
         "6",
         "Paper Mario"
        ],
        [
         "7",
         "Super Mario Bros.: The Lost Levels"
        ],
        [
         "8",
         "Mario Kart 64"
        ],
        [
         "9",
         "Mario Party 2"
        ],
        [
         "10",
         "Mario & Luigi: Partners in Time"
        ],
        [
         "11",
         "Yoshi's Story"
        ],
        [
         "12",
         "Paper Mario: The Thousand-Year Door"
        ],
        [
         "13",
         "Super Mario Bros. 3 / Super Mario Advance 4: Super Mario Bros. 3"
        ],
        [
         "14",
         "Mario Kart: Super Circuit"
        ],
        [
         "15",
         "Mario Party 3"
        ],
        [
         "16",
         "Mario & Luigi: Bowser's Inside Story / Mario & Luigi: Bowser's Inside Story + Bowser Jr.'s Journey"
        ],
        [
         "17",
         "Yoshi's Island DS"
        ],
        [
         "18",
         "Super Paper Mario"
        ],
        [
         "19",
         "Super Mario Land"
        ],
        [
         "20",
         "Mario Kart: Double Dash!!"
        ],
        [
         "21",
         "Mario Party 4"
        ],
        [
         "22",
         "Mario & Luigi: Dream Team"
        ],
        [
         "23",
         "Yoshi's New Island"
        ],
        [
         "24",
         "Paper Mario: Sticker Star"
        ],
        [
         "25",
         "Super Mario World"
        ],
        [
         "26",
         "Mario Kart Arcade GP series"
        ],
        [
         "27",
         "Mario Party 5"
        ],
        [
         "28",
         "Mario & Luigi: Paper Jam"
        ],
        [
         "29",
         "Yoshi's Woolly World / Poochy & Yoshi's Woolly World"
        ],
        [
         "30",
         "Paper Mario: Color Splash"
        ],
        [
         "31",
         "Super Mario Land 2: 6 Golden Coins"
        ],
        [
         "32",
         "Mario Kart DS"
        ],
        [
         "33",
         "Mario Party 6"
        ],
        [
         "34",
         "Mario & Luigi: Brothership"
        ],
        [
         "35",
         "Yoshi's Crafted World"
        ],
        [
         "36",
         "Paper Mario: The Origami King"
        ],
        [
         "37",
         "Super Mario 64 / Super Mario 64 DS"
        ],
        [
         "38",
         "Mario Kart Wii"
        ],
        [
         "39",
         "Mario Party Advance"
        ],
        [
         "40",
         "Super Mario Sunshine"
        ],
        [
         "41",
         "Mario Kart 7"
        ],
        [
         "42",
         "Mario Party 7"
        ],
        [
         "43",
         "New Super Mario Bros."
        ],
        [
         "44",
         "Mario Kart 8 / Mario Kart 8 Deluxe"
        ],
        [
         "45",
         "Mario Party 8"
        ],
        [
         "46",
         "Super Mario Galaxy"
        ],
        [
         "47",
         "Mario Kart Tour"
        ],
        [
         "48",
         "Mario Party DS"
        ],
        [
         "49",
         "New Super Mario Bros. Wii"
        ]
       ],
       "shape": {
        "columns": 1,
        "rows": 67
       }
      },
      "text/html": [
       "<div>\n",
       "<style scoped>\n",
       "    .dataframe tbody tr th:only-of-type {\n",
       "        vertical-align: middle;\n",
       "    }\n",
       "\n",
       "    .dataframe tbody tr th {\n",
       "        vertical-align: top;\n",
       "    }\n",
       "\n",
       "    .dataframe thead th {\n",
       "        text-align: right;\n",
       "    }\n",
       "</style>\n",
       "<table border=\"1\" class=\"dataframe\">\n",
       "  <thead>\n",
       "    <tr style=\"text-align: right;\">\n",
       "      <th></th>\n",
       "      <th>Title</th>\n",
       "    </tr>\n",
       "  </thead>\n",
       "  <tbody>\n",
       "    <tr>\n",
       "      <th>0</th>\n",
       "      <td>Super Mario Bros.</td>\n",
       "    </tr>\n",
       "    <tr>\n",
       "      <th>1</th>\n",
       "      <td>Super Mario Kart</td>\n",
       "    </tr>\n",
       "    <tr>\n",
       "      <th>2</th>\n",
       "      <td>Mario Party</td>\n",
       "    </tr>\n",
       "    <tr>\n",
       "      <th>3</th>\n",
       "      <td>Mario &amp; Luigi: Superstar Saga / Mario &amp; Luigi:...</td>\n",
       "    </tr>\n",
       "    <tr>\n",
       "      <th>4</th>\n",
       "      <td>Super Smash Bros. Ultimate</td>\n",
       "    </tr>\n",
       "    <tr>\n",
       "      <th>...</th>\n",
       "      <td>...</td>\n",
       "    </tr>\n",
       "    <tr>\n",
       "      <th>62</th>\n",
       "      <td>Mario Party Superstars</td>\n",
       "    </tr>\n",
       "    <tr>\n",
       "      <th>63</th>\n",
       "      <td>Super Mario Maker / Super Mario Maker for Nint...</td>\n",
       "    </tr>\n",
       "    <tr>\n",
       "      <th>64</th>\n",
       "      <td>Super Mario Run</td>\n",
       "    </tr>\n",
       "    <tr>\n",
       "      <th>65</th>\n",
       "      <td>Super Mario Odyssey</td>\n",
       "    </tr>\n",
       "    <tr>\n",
       "      <th>66</th>\n",
       "      <td>Super Mario Bros. Wonder</td>\n",
       "    </tr>\n",
       "  </tbody>\n",
       "</table>\n",
       "<p>67 rows × 1 columns</p>\n",
       "</div>"
      ],
      "text/plain": [
       "                                                Title\n",
       "0                                   Super Mario Bros.\n",
       "1                                    Super Mario Kart\n",
       "2                                         Mario Party\n",
       "3   Mario & Luigi: Superstar Saga / Mario & Luigi:...\n",
       "4                          Super Smash Bros. Ultimate\n",
       "..                                                ...\n",
       "62                             Mario Party Superstars\n",
       "63  Super Mario Maker / Super Mario Maker for Nint...\n",
       "64                                    Super Mario Run\n",
       "65                                Super Mario Odyssey\n",
       "66                           Super Mario Bros. Wonder\n",
       "\n",
       "[67 rows x 1 columns]"
      ]
     },
     "execution_count": 7,
     "metadata": {},
     "output_type": "execute_result"
    }
   ],
   "source": [
    "# Get a specific enemy dataframe\n",
    "enemies_transformed['Piranha Plant_df']"
   ]
  },
  {
   "cell_type": "code",
   "execution_count": 8,
   "metadata": {},
   "outputs": [],
   "source": [
    "# List to store the rows for the final DataFrame\n",
    "rows = []\n",
    "\n",
    "for enemie_key in enemies_transformed:\n",
    "    if enemie_key.endswith('_df'):\n",
    "        enemie_name = enemie_key.replace('_df', '')\n",
    "        games = enemies_transformed[enemie_key]['Title'].tolist()  \n",
    "        \n",
    "        for game in games:\n",
    "            rows.append({\n",
    "                'Enemy': enemie_name,\n",
    "                'Game': game,\n",
    "                'Relation': 'ENEMY_IN'\n",
    "            })\n",
    "\n",
    "# Create the final DataFrame\n",
    "enemies_df = pd.DataFrame(rows)"
   ]
  },
  {
   "cell_type": "code",
   "execution_count": 9,
   "metadata": {},
   "outputs": [
    {
     "data": {
      "application/vnd.microsoft.datawrangler.viewer.v0+json": {
       "columns": [
        {
         "name": "index",
         "rawType": "int64",
         "type": "integer"
        },
        {
         "name": "Enemy",
         "rawType": "object",
         "type": "string"
        }
       ],
       "ref": "2382088f-ef04-4f57-8e1f-5d58c573eda4",
       "rows": [
        [
         "0",
         "Albatoss"
        ],
        [
         "1",
         "Amazing Flyin' Hammer Brother"
        ],
        [
         "2",
         "Amp"
        ],
        [
         "3",
         "Angry Sun"
        ],
        [
         "4",
         "Ant Trooper"
        ],
        [
         "5",
         "Bandit"
        ],
        [
         "6",
         "Bat (Super Mario Galaxy)"
        ],
        [
         "7",
         "Banzai Bill Cannon"
        ],
        [
         "8",
         "Bee"
        ],
        [
         "9",
         "Biddybud"
        ],
        [
         "10",
         "Big Buzzy Beetle"
        ],
        [
         "11",
         "Big Chain Chomp"
        ],
        [
         "12",
         "Big Blooper"
        ],
        [
         "13",
         "Big Fire Piranha"
        ],
        [
         "14",
         "Big Boo"
        ],
        [
         "15",
         "Big Cheep Cheep"
        ],
        [
         "16",
         "Big Koopa Paratroopa"
        ],
        [
         "17",
         "Big Lava Bubble"
        ],
        [
         "18",
         "Big Monty Mole"
        ],
        [
         "19",
         "Big Koopa Troopa"
        ],
        [
         "20",
         "Big Pokey"
        ],
        [
         "21",
         "Big Spiny"
        ],
        [
         "22",
         "Big Piranha Plant"
        ],
        [
         "23",
         "Bird (Donkey Kong series)"
        ],
        [
         "24",
         "Big Thwomp"
        ],
        [
         "25",
         "Bill Blaster"
        ],
        [
         "26",
         "Black Shy Guy"
        ],
        [
         "27",
         "Block Boo"
        ],
        [
         "28",
         "Blooper Baby"
        ],
        [
         "29",
         "Blooper Nanny"
        ],
        [
         "30",
         "Blurp"
        ],
        [
         "31",
         "Bob-omb Car"
        ],
        [
         "32",
         "Boo"
        ],
        [
         "33",
         "Bomb Boo"
        ],
        [
         "34",
         "Blooper"
        ],
        [
         "35",
         "Bomp"
        ],
        [
         "36",
         "Bone Piranha Plant"
        ],
        [
         "37",
         "Bomber Bill"
        ],
        [
         "38",
         "Bony Beetle"
        ],
        [
         "39",
         "Boo Buddies"
        ],
        [
         "40",
         "Bob-omb"
        ],
        [
         "41",
         "Boomerang Bro"
        ],
        [
         "42",
         "Boulder"
        ],
        [
         "43",
         "Bramball"
        ],
        [
         "44",
         "Broque Monsieur"
        ],
        [
         "45",
         "Broozer"
        ],
        [
         "46",
         "Bulber"
        ],
        [
         "47",
         "Bull's-Eye Banzai"
        ],
        [
         "48",
         "Bull's-Eye Blaster"
        ],
        [
         "49",
         "Bull's-Eye Bill"
        ]
       ],
       "shape": {
        "columns": 1,
        "rows": 252
       }
      },
      "text/html": [
       "<div>\n",
       "<style scoped>\n",
       "    .dataframe tbody tr th:only-of-type {\n",
       "        vertical-align: middle;\n",
       "    }\n",
       "\n",
       "    .dataframe tbody tr th {\n",
       "        vertical-align: top;\n",
       "    }\n",
       "\n",
       "    .dataframe thead th {\n",
       "        text-align: right;\n",
       "    }\n",
       "</style>\n",
       "<table border=\"1\" class=\"dataframe\">\n",
       "  <thead>\n",
       "    <tr style=\"text-align: right;\">\n",
       "      <th></th>\n",
       "      <th>Enemy</th>\n",
       "    </tr>\n",
       "  </thead>\n",
       "  <tbody>\n",
       "    <tr>\n",
       "      <th>0</th>\n",
       "      <td>Albatoss</td>\n",
       "    </tr>\n",
       "    <tr>\n",
       "      <th>1</th>\n",
       "      <td>Amazing Flyin' Hammer Brother</td>\n",
       "    </tr>\n",
       "    <tr>\n",
       "      <th>2</th>\n",
       "      <td>Amp</td>\n",
       "    </tr>\n",
       "    <tr>\n",
       "      <th>3</th>\n",
       "      <td>Angry Sun</td>\n",
       "    </tr>\n",
       "    <tr>\n",
       "      <th>4</th>\n",
       "      <td>Ant Trooper</td>\n",
       "    </tr>\n",
       "    <tr>\n",
       "      <th>...</th>\n",
       "      <td>...</td>\n",
       "    </tr>\n",
       "    <tr>\n",
       "      <th>247</th>\n",
       "      <td>Wild Ptooie Piranha</td>\n",
       "    </tr>\n",
       "    <tr>\n",
       "      <th>248</th>\n",
       "      <td>Whomp</td>\n",
       "    </tr>\n",
       "    <tr>\n",
       "      <th>249</th>\n",
       "      <td>X-Naut</td>\n",
       "    </tr>\n",
       "    <tr>\n",
       "      <th>250</th>\n",
       "      <td>Wiggler</td>\n",
       "    </tr>\n",
       "    <tr>\n",
       "      <th>251</th>\n",
       "      <td>Zinger</td>\n",
       "    </tr>\n",
       "  </tbody>\n",
       "</table>\n",
       "<p>252 rows × 1 columns</p>\n",
       "</div>"
      ],
      "text/plain": [
       "                             Enemy\n",
       "0                         Albatoss\n",
       "1    Amazing Flyin' Hammer Brother\n",
       "2                              Amp\n",
       "3                        Angry Sun\n",
       "4                      Ant Trooper\n",
       "..                             ...\n",
       "247            Wild Ptooie Piranha\n",
       "248                          Whomp\n",
       "249                         X-Naut\n",
       "250                        Wiggler\n",
       "251                         Zinger\n",
       "\n",
       "[252 rows x 1 columns]"
      ]
     },
     "execution_count": 9,
     "metadata": {},
     "output_type": "execute_result"
    }
   ],
   "source": [
    "# Get unique enemies\n",
    "pd.DataFrame(enemies_df['Enemy'].unique(), columns=['Enemy'])"
   ]
  },
  {
   "cell_type": "code",
   "execution_count": null,
   "metadata": {},
   "outputs": [
    {
     "name": "stdout",
     "output_type": "stream",
     "text": [
      "✅ Data saved to 'enemies_df.csv'\n"
     ]
    },
    {
     "data": {
      "application/vnd.microsoft.datawrangler.viewer.v0+json": {
       "columns": [
        {
         "name": "index",
         "rawType": "int64",
         "type": "integer"
        },
        {
         "name": "Enemy",
         "rawType": "object",
         "type": "string"
        },
        {
         "name": "Game",
         "rawType": "object",
         "type": "string"
        },
        {
         "name": "Relation",
         "rawType": "object",
         "type": "string"
        }
       ],
       "ref": "6207c315-12d3-4aea-bc39-311b4071714c",
       "rows": [
        [
         "0",
         "Albatoss",
         "Yume Kōjō: Doki Doki Panic / Super Mario Bros. 2",
         "ENEMY_IN"
        ],
        [
         "1",
         "Albatoss",
         "Super Mario All-Stars / Super Mario Advance 4: Super Mario Bros. 3",
         "ENEMY_IN"
        ],
        [
         "2",
         "Amazing Flyin' Hammer Brother",
         "Super Mario World / Super Mario World: Super Mario Advance 2",
         "ENEMY_IN"
        ],
        [
         "3",
         "Amazing Flyin' Hammer Brother",
         "Super Mario Advance 4: Super Mario Bros. 3",
         "ENEMY_IN"
        ],
        [
         "4",
         "Amp",
         "Super Mario 64 / Super Mario 64 DS",
         "ENEMY_IN"
        ],
        [
         "5",
         "Amp",
         "Mario Party 3 / Mario Party Superstars",
         "ENEMY_IN"
        ],
        [
         "6",
         "Amp",
         "New Super Mario Bros.",
         "ENEMY_IN"
        ],
        [
         "7",
         "Amp",
         "Mario Party 4",
         "ENEMY_IN"
        ],
        [
         "8",
         "Amp",
         "Super Mario Galaxy",
         "ENEMY_IN"
        ],
        [
         "9",
         "Amp",
         "Mario Party 5",
         "ENEMY_IN"
        ],
        [
         "10",
         "Amp",
         "New Super Mario Bros. Wii",
         "ENEMY_IN"
        ],
        [
         "11",
         "Amp",
         "Mario Party 6",
         "ENEMY_IN"
        ],
        [
         "12",
         "Amp",
         "Super Mario Galaxy 2",
         "ENEMY_IN"
        ],
        [
         "13",
         "Amp",
         "Mario Party Advance",
         "ENEMY_IN"
        ],
        [
         "14",
         "Amp",
         "New Super Mario Bros. 2",
         "ENEMY_IN"
        ],
        [
         "15",
         "Amp",
         "Mario Party 7",
         "ENEMY_IN"
        ],
        [
         "16",
         "Amp",
         "New Super Mario Bros. U",
         "ENEMY_IN"
        ],
        [
         "17",
         "Amp",
         "Mario Party 8",
         "ENEMY_IN"
        ],
        [
         "18",
         "Amp",
         "Mario Party: Island Tour",
         "ENEMY_IN"
        ],
        [
         "19",
         "Amp",
         "Mario Party 10",
         "ENEMY_IN"
        ],
        [
         "20",
         "Amp",
         "Mario Party: Star Rush",
         "ENEMY_IN"
        ],
        [
         "21",
         "Amp",
         "Super Mario Party",
         "ENEMY_IN"
        ],
        [
         "22",
         "Amp",
         "Super Mario Party Jamboree",
         "ENEMY_IN"
        ],
        [
         "23",
         "Angry Sun",
         "Super Mario Bros. 3",
         "ENEMY_IN"
        ],
        [
         "24",
         "Angry Sun",
         "Paper Mario: Color Splash",
         "ENEMY_IN"
        ],
        [
         "25",
         "Angry Sun",
         "Super Mario Maker 2",
         "ENEMY_IN"
        ],
        [
         "26",
         "Angry Sun",
         "Paper Mario: The Origami King",
         "ENEMY_IN"
        ],
        [
         "27",
         "Ant Trooper",
         "Super Mario 3D World / Super Mario 3D World + Bowser's Fury",
         "ENEMY_IN"
        ],
        [
         "28",
         "Ant Trooper",
         "Super Mario Maker 2",
         "ENEMY_IN"
        ],
        [
         "29",
         "Bandit",
         "Mario Party 7",
         "ENEMY_IN"
        ],
        [
         "30",
         "Bandit",
         "Mario & Luigi: Dream Team",
         "ENEMY_IN"
        ],
        [
         "31",
         "Bandit",
         "Super Mario World 2: Yoshi's Island / Yoshi's Island: Super Mario Advance 3",
         "ENEMY_IN"
        ],
        [
         "32",
         "Bandit",
         "Paper Mario",
         "ENEMY_IN"
        ],
        [
         "33",
         "Bandit",
         "Mario Party 8",
         "ENEMY_IN"
        ],
        [
         "34",
         "Bandit",
         "Mario & Luigi: Paper Jam",
         "ENEMY_IN"
        ],
        [
         "35",
         "Bandit",
         "Yoshi's Island DS",
         "ENEMY_IN"
        ],
        [
         "36",
         "Bandit",
         "Paper Mario: The Thousand-Year Door",
         "ENEMY_IN"
        ],
        [
         "37",
         "Bandit",
         "Mario & Luigi: Superstar Saga + Bowser's Minions",
         "ENEMY_IN"
        ],
        [
         "38",
         "Bandit",
         "Yoshi's New Island",
         "ENEMY_IN"
        ],
        [
         "39",
         "Bandit",
         "Mario & Luigi: Bowser's Inside Story + Bowser Jr.'s Journey",
         "ENEMY_IN"
        ],
        [
         "40",
         "Bat (Super Mario Galaxy)",
         "Super Mario Galaxy",
         "ENEMY_IN"
        ],
        [
         "41",
         "Bat (Super Mario Galaxy)",
         "Super Mario Galaxy 2",
         "ENEMY_IN"
        ],
        [
         "42",
         "Banzai Bill Cannon",
         "Mario Kart 7",
         "ENEMY_IN"
        ],
        [
         "43",
         "Banzai Bill Cannon",
         "Mario & Luigi: Bowser's Inside Story / Mario & Luigi: Bowser's Inside Story + Bowser Jr.'s Journey",
         "ENEMY_IN"
        ],
        [
         "44",
         "Banzai Bill Cannon",
         "Paper Mario: Sticker Star",
         "ENEMY_IN"
        ],
        [
         "45",
         "Banzai Bill Cannon",
         "Mario & Luigi: Dream Team",
         "ENEMY_IN"
        ],
        [
         "46",
         "Banzai Bill Cannon",
         "Paper Mario: Color Splash",
         "ENEMY_IN"
        ],
        [
         "47",
         "Bee",
         "Mario & Luigi: Bowser's Inside Story / Mario & Luigi: Bowser's Inside Story + Bowser Jr.'s Journey",
         "ENEMY_IN"
        ],
        [
         "48",
         "Bee",
         "Mario & Luigi: Dream Team",
         "ENEMY_IN"
        ],
        [
         "49",
         "Bee",
         "Mario & Luigi: Brothership",
         "ENEMY_IN"
        ]
       ],
       "shape": {
        "columns": 3,
        "rows": 2662
       }
      },
      "text/html": [
       "<div>\n",
       "<style scoped>\n",
       "    .dataframe tbody tr th:only-of-type {\n",
       "        vertical-align: middle;\n",
       "    }\n",
       "\n",
       "    .dataframe tbody tr th {\n",
       "        vertical-align: top;\n",
       "    }\n",
       "\n",
       "    .dataframe thead th {\n",
       "        text-align: right;\n",
       "    }\n",
       "</style>\n",
       "<table border=\"1\" class=\"dataframe\">\n",
       "  <thead>\n",
       "    <tr style=\"text-align: right;\">\n",
       "      <th></th>\n",
       "      <th>Enemy</th>\n",
       "      <th>Game</th>\n",
       "      <th>Relation</th>\n",
       "    </tr>\n",
       "  </thead>\n",
       "  <tbody>\n",
       "    <tr>\n",
       "      <th>0</th>\n",
       "      <td>Albatoss</td>\n",
       "      <td>Yume Kōjō: Doki Doki Panic / Super Mario Bros. 2</td>\n",
       "      <td>ENEMY_IN</td>\n",
       "    </tr>\n",
       "    <tr>\n",
       "      <th>1</th>\n",
       "      <td>Albatoss</td>\n",
       "      <td>Super Mario All-Stars / Super Mario Advance 4:...</td>\n",
       "      <td>ENEMY_IN</td>\n",
       "    </tr>\n",
       "    <tr>\n",
       "      <th>2</th>\n",
       "      <td>Amazing Flyin' Hammer Brother</td>\n",
       "      <td>Super Mario World / Super Mario World: Super M...</td>\n",
       "      <td>ENEMY_IN</td>\n",
       "    </tr>\n",
       "    <tr>\n",
       "      <th>3</th>\n",
       "      <td>Amazing Flyin' Hammer Brother</td>\n",
       "      <td>Super Mario Advance 4: Super Mario Bros. 3</td>\n",
       "      <td>ENEMY_IN</td>\n",
       "    </tr>\n",
       "    <tr>\n",
       "      <th>4</th>\n",
       "      <td>Amp</td>\n",
       "      <td>Super Mario 64 / Super Mario 64 DS</td>\n",
       "      <td>ENEMY_IN</td>\n",
       "    </tr>\n",
       "    <tr>\n",
       "      <th>...</th>\n",
       "      <td>...</td>\n",
       "      <td>...</td>\n",
       "      <td>...</td>\n",
       "    </tr>\n",
       "    <tr>\n",
       "      <th>2657</th>\n",
       "      <td>Wiggler</td>\n",
       "      <td>Super Mario Bros. Wonder</td>\n",
       "      <td>ENEMY_IN</td>\n",
       "    </tr>\n",
       "    <tr>\n",
       "      <th>2658</th>\n",
       "      <td>Wiggler</td>\n",
       "      <td>Super Mario Party Jamboree</td>\n",
       "      <td>ENEMY_IN</td>\n",
       "    </tr>\n",
       "    <tr>\n",
       "      <th>2659</th>\n",
       "      <td>Zinger</td>\n",
       "      <td>Super Smash Bros. Brawl</td>\n",
       "      <td>ENEMY_IN</td>\n",
       "    </tr>\n",
       "    <tr>\n",
       "      <th>2660</th>\n",
       "      <td>Zinger</td>\n",
       "      <td>Super Smash Bros. for Wii U</td>\n",
       "      <td>ENEMY_IN</td>\n",
       "    </tr>\n",
       "    <tr>\n",
       "      <th>2661</th>\n",
       "      <td>Zinger</td>\n",
       "      <td>Super Smash Bros. Ultimate</td>\n",
       "      <td>ENEMY_IN</td>\n",
       "    </tr>\n",
       "  </tbody>\n",
       "</table>\n",
       "<p>2662 rows × 3 columns</p>\n",
       "</div>"
      ],
      "text/plain": [
       "                              Enemy  \\\n",
       "0                          Albatoss   \n",
       "1                          Albatoss   \n",
       "2     Amazing Flyin' Hammer Brother   \n",
       "3     Amazing Flyin' Hammer Brother   \n",
       "4                               Amp   \n",
       "...                             ...   \n",
       "2657                        Wiggler   \n",
       "2658                        Wiggler   \n",
       "2659                         Zinger   \n",
       "2660                         Zinger   \n",
       "2661                         Zinger   \n",
       "\n",
       "                                                   Game  Relation  \n",
       "0      Yume Kōjō: Doki Doki Panic / Super Mario Bros. 2  ENEMY_IN  \n",
       "1     Super Mario All-Stars / Super Mario Advance 4:...  ENEMY_IN  \n",
       "2     Super Mario World / Super Mario World: Super M...  ENEMY_IN  \n",
       "3            Super Mario Advance 4: Super Mario Bros. 3  ENEMY_IN  \n",
       "4                    Super Mario 64 / Super Mario 64 DS  ENEMY_IN  \n",
       "...                                                 ...       ...  \n",
       "2657                           Super Mario Bros. Wonder  ENEMY_IN  \n",
       "2658                         Super Mario Party Jamboree  ENEMY_IN  \n",
       "2659                            Super Smash Bros. Brawl  ENEMY_IN  \n",
       "2660                        Super Smash Bros. for Wii U  ENEMY_IN  \n",
       "2661                         Super Smash Bros. Ultimate  ENEMY_IN  \n",
       "\n",
       "[2662 rows x 3 columns]"
      ]
     },
     "execution_count": 14,
     "metadata": {},
     "output_type": "execute_result"
    }
   ],
   "source": [
    "# Save the final DataFrame to a CSV file\n",
    "enemies_df.to_csv('data/enemies_df.csv', index=False)\n",
    "print(\"✅ Data saved to 'enemies_df.csv'\")\n",
    "# Display the final DataFrame\n",
    "enemies_df"
   ]
  }
 ],
 "metadata": {
  "colab": {
   "provenance": []
  },
  "kernelspec": {
   "display_name": "Python 3",
   "language": "python",
   "name": "python3"
  },
  "language_info": {
   "codemirror_mode": {
    "name": "ipython",
    "version": 3
   },
   "file_extension": ".py",
   "mimetype": "text/x-python",
   "name": "python",
   "nbconvert_exporter": "python",
   "pygments_lexer": "ipython3",
   "version": "3.13.0"
  }
 },
 "nbformat": 4,
 "nbformat_minor": 0
}
