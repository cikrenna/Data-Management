{
 "cells": [
  {
   "cell_type": "markdown",
   "metadata": {},
   "source": [
    "# API Mario"
   ]
  },
  {
   "cell_type": "markdown",
   "metadata": {},
   "source": [
    "## Imports and Configuration"
   ]
  },
  {
   "cell_type": "code",
   "execution_count": null,
   "metadata": {},
   "outputs": [],
   "source": [
    "import requests\n",
    "import time\n",
    "from tqdm import tqdm\n",
    "import os\n",
    "from dotenv import load_dotenv\n",
    "import pandas as pd\n",
    "\n",
    "\n",
    "# Load environment variables from .env file\n",
    "load_dotenv()\n",
    "# Ensure the .env file is in the same directory as this script\n",
    "if not os.path.exists('.env'):\n",
    "    raise FileNotFoundError(\"The .env file is missing. Please create it with the required API key.\")\n",
    "\n",
    "\n",
    "# --- Configuration ---\n",
    "API_KEY = os.getenv('GIANT_BOMB_API_KEY')\n",
    "BASE_URL = \"https://www.giantbomb.com/api\"\n",
    "CSV_FILENAME = \"data/general_character_relationships.csv\"\n",
    "# It's good practice to set a User-Agent\n",
    "HEADERS = {\n",
    "    'User-Agent': 'PythonMarioCharacterScraperJupyter/1.0'\n",
    "}\n",
    "# Delay between API calls to respect rate limits (seconds)\n",
    "API_CALL_DELAY = 1.0"
   ]
  },
  {
   "cell_type": "markdown",
   "metadata": {},
   "source": [
    "## Helper Functions"
   ]
  },
  {
   "cell_type": "markdown",
   "metadata": {},
   "source": [
    "### Fetch API Data"
   ]
  },
  {
   "cell_type": "code",
   "execution_count": 3,
   "metadata": {},
   "outputs": [],
   "source": [
    "def fetch_api_data(url, params=None):\n",
    "    \"\"\"\n",
    "    Fetches data from the Giant Bomb API.\n",
    "    Returns JSON response data or None if an error occurs.\n",
    "    \"\"\"\n",
    "    if params is None:\n",
    "        params = {}\n",
    "    \n",
    "    # Add API key and format to all requests\n",
    "    params['api_key'] = API_KEY\n",
    "    params['format'] = 'json'\n",
    "    \n",
    "    try:\n",
    "        response = requests.get(url, headers=HEADERS, params=params)\n",
    "        response.raise_for_status()  # Raises an HTTPError for bad responses (4XX or 5XX)\n",
    "        return response.json()\n",
    "    except requests.exceptions.HTTPError as http_err:\n",
    "        print(f\"HTTP error occurred: {http_err} - URL: {response.url}\")\n",
    "    except requests.exceptions.ConnectionError as conn_err:\n",
    "        print(f\"Connection error occurred: {conn_err} - URL: {url}\")\n",
    "    except requests.exceptions.Timeout as timeout_err:\n",
    "        print(f\"Timeout error occurred: {timeout_err} - URL: {url}\")\n",
    "    except requests.exceptions.RequestException as req_err:\n",
    "        print(f\"An error occurred during the API request: {req_err} - URL: {url}\")\n",
    "    except ValueError as json_err: # Includes JSONDecodeError\n",
    "        print(f\"JSON decoding error: {json_err} - URL: {response.url if 'response' in locals() else url}\")\n",
    "    return None"
   ]
  },
  {
   "cell_type": "markdown",
   "metadata": {},
   "source": [
    "### Get Mario Franchise Characters"
   ]
  },
  {
   "cell_type": "code",
   "execution_count": 4,
   "metadata": {},
   "outputs": [],
   "source": [
    "def get_mario_franchise_characters():\n",
    "    \"\"\"\n",
    "    Fetches the list of characters (name and api_detail_url) for the Mario franchise.\n",
    "    \"\"\"\n",
    "    print(\"Step 1: Searching for the 'Mario' franchise...\")\n",
    "    franchises_url = f\"{BASE_URL}/franchises/\"\n",
    "    params = {'filter': 'name:Mario'}\n",
    "    \n",
    "    data = fetch_api_data(franchises_url, params)\n",
    "    if not data or 'results' not in data or not data['results']:\n",
    "        print(\"Could not find the 'Mario' franchise or API error.\")\n",
    "        return []\n",
    "\n",
    "    mario_franchise_info = None\n",
    "    for franchise in data['results']:\n",
    "        if franchise.get('name', '').lower() == 'mario':\n",
    "            mario_franchise_info = franchise\n",
    "            break\n",
    "    \n",
    "    if not mario_franchise_info or 'api_detail_url' not in mario_franchise_info:\n",
    "        print(\"Specific 'Mario' franchise not found or it lacks an API detail URL.\")\n",
    "        return []\n",
    "\n",
    "    print(f\"Found franchise: {mario_franchise_info['name']} (ID: {mario_franchise_info.get('id', 'N/A')})\")\n",
    "    print(f\"Step 2: Fetching detailed franchise data to get character list from {mario_franchise_info['api_detail_url']}...\")\n",
    "    time.sleep(API_CALL_DELAY)\n",
    "    \n",
    "    franchise_details_data = fetch_api_data(mario_franchise_info['api_detail_url'])\n",
    "    if not franchise_details_data or 'results' not in franchise_details_data:\n",
    "        print(\"Could not fetch detailed data for the Mario franchise.\")\n",
    "        return []\n",
    "        \n",
    "    characters = franchise_details_data['results'].get('characters', [])\n",
    "    if not characters:\n",
    "        print(\"No characters listed under the Mario franchise details.\")\n",
    "    else:\n",
    "        print(f\"Found {len(characters)} characters associated with the Mario franchise.\")\n",
    "    return characters"
   ]
  },
  {
   "cell_type": "markdown",
   "metadata": {},
   "source": [
    "### Get Character Relationships"
   ]
  },
  {
   "cell_type": "code",
   "execution_count": 5,
   "metadata": {},
   "outputs": [],
   "source": [
    "def get_character_relationships(character_stub):\n",
    "    \"\"\"\n",
    "    Fetches and returns relationships (friends, enemies) for a single character.\n",
    "    `character_stub` is a dict with at least 'name' and 'api_detail_url'.\n",
    "    Returns a list of tuples: (character_name, related_character_name, relationship_type).\n",
    "    \"\"\"\n",
    "    char_name = character_stub.get('name')\n",
    "    char_api_url = character_stub.get('api_detail_url')\n",
    "\n",
    "    if not char_api_url:\n",
    "        return []\n",
    "\n",
    "    time.sleep(API_CALL_DELAY)\n",
    "\n",
    "    # When calling fetch_api_data here, no specific 'field_list' is passed in params.\n",
    "    # The API response structure for the full character detail might use 'friends' and 'enemies'.\n",
    "    char_details_data = fetch_api_data(char_api_url) # Errors here are handled by fetch_api_data's prints\n",
    "    \n",
    "\n",
    "    if not char_details_data or 'results' not in char_details_data:\n",
    "        return []\n",
    "\n",
    "    char_info = char_details_data['results']\n",
    "    relationships = []\n",
    "\n",
    "    # Use 'friends' and 'enemies'\n",
    "    for friend in char_info.get('friends', []):\n",
    "        friend_name = friend.get('name')\n",
    "        if friend_name:\n",
    "            relationships.append((char_name, friend_name, \"Friend\"))\n",
    "    \n",
    "    for enemy in char_info.get('enemies', []):\n",
    "        enemy_name = enemy.get('name')\n",
    "        if enemy_name:\n",
    "            relationships.append((char_name, enemy_name, \"Enemy\"))\n",
    "            \n",
    "    return relationships"
   ]
  },
  {
   "cell_type": "markdown",
   "metadata": {},
   "source": [
    "### Fetch Data and Write to CSV\n",
    "\n",
    "It processes 195 character per batch, thus modify the following from batch to batch"
   ]
  },
  {
   "cell_type": "code",
   "execution_count": 11,
   "metadata": {},
   "outputs": [],
   "source": [
    "# --- Batch Configuration ---\n",
    "# In this case, we have about 200 characters, so we can use 2 batches in total.\n",
    "# CHANGE THIS NUMBER FOR EACH RUN (e.g., 1, 2, ...)\n",
    "BATCH_NUMBER = 2 # 1 or 2 \n",
    "MAX_CHARACTERS_PER_BATCH = 195"
   ]
  },
  {
   "cell_type": "code",
   "execution_count": 12,
   "metadata": {},
   "outputs": [
    {
     "name": "stdout",
     "output_type": "stream",
     "text": [
      "Step 1: Searching for the 'Mario' franchise...\n",
      "Found franchise: Mario (ID: 1)\n",
      "Step 2: Fetching detailed franchise data to get character list from https://www.giantbomb.com/api/franchise/3025-1/...\n",
      "Found 209 characters associated with the Mario franchise.\n",
      "Total characters available: 209\n",
      "Processing Batch #2: Characters from index 195 to 208 (up to 14 characters).\n"
     ]
    }
   ],
   "source": [
    "if API_KEY == \"YOUR_API_KEY\" or not API_KEY: # Check if API_KEY is placeholder or empty\n",
    "    print(\"ERROR: Please set your actual API_KEY in the configuration cell and re-run it.\")\n",
    "else:\n",
    "    mario_character_stubs_full = get_mario_franchise_characters()\n",
    "    \n",
    "    if not mario_character_stubs_full:\n",
    "        print(\"No characters found for the Mario franchise. Exiting.\")\n",
    "    else:\n",
    "        \n",
    "        start_index = (BATCH_NUMBER - 1) * MAX_CHARACTERS_PER_BATCH\n",
    "        end_index = start_index + MAX_CHARACTERS_PER_BATCH\n",
    "\n",
    "        total_characters = len(mario_character_stubs_full)\n",
    "        print(f\"Total characters available: {total_characters}\")\n",
    "\n",
    "        if start_index >= total_characters:\n",
    "            print(f\"Start index ({start_index}) is beyond the total number of characters. No characters to process in this run.\")\n",
    "            mario_character_stubs_to_process = []\n",
    "        else:\n",
    "            mario_character_stubs_to_process = mario_character_stubs_full[start_index:end_index]\n",
    "            print(f\"Processing Batch #{BATCH_NUMBER}: Characters from index {start_index} to {min(end_index, total_characters)-1} (up to {len(mario_character_stubs_to_process)} characters).\")"
   ]
  },
  {
   "cell_type": "code",
   "execution_count": null,
   "metadata": {},
   "outputs": [
    {
     "name": "stdout",
     "output_type": "stream",
     "text": [
      "\n",
      "Step 3: Fetching relationships for 14 characters...\n"
     ]
    },
    {
     "name": "stderr",
     "output_type": "stream",
     "text": [
      "Processing: Whomp King: 100%|██████████| 14/14 [00:24<00:00,  1.76s/it, Found: 0 rels]        "
     ]
    },
    {
     "name": "stdout",
     "output_type": "stream",
     "text": [
      "\n",
      "Finished processing batch of 14 characters.\n",
      "Step 4: Writing/Appending 115 total relationships to 'general_character_relationships.csv'...\n",
      "Successfully appended new relationships to 'general_character_relationships.csv'.\n"
     ]
    },
    {
     "name": "stderr",
     "output_type": "stream",
     "text": [
      "\n"
     ]
    }
   ],
   "source": [
    "if not mario_character_stubs_to_process:\n",
    "    print(\"No characters selected for processing in this batch. Exiting.\")\n",
    "else:\n",
    "    # Ensure the output directory from CSV_FILENAME (defined in the config cell) exists.\n",
    "    output_dir = os.path.dirname(CSV_FILENAME)\n",
    "    if output_dir:\n",
    "        os.makedirs(output_dir, exist_ok=True)\n",
    "\n",
    "    print(f\"\\nStep 3: Fetching relationships for {len(mario_character_stubs_to_process)} characters...\")\n",
    "    \n",
    "    all_relationships_data = []\n",
    "    processed_character_count = 0\n",
    "    \n",
    "    with tqdm(total=len(mario_character_stubs_to_process), desc=\"Processing Characters\") as pbar:\n",
    "        for char_stub in mario_character_stubs_to_process:\n",
    "            char_name_display = char_stub.get('name', 'Unknown')\n",
    "            pbar.set_description(f\"Processing: {char_name_display[:20]}\") \n",
    "            \n",
    "            # char_relationships_full is a list of tuples: (char_name, related_char_name, relationship_type)\n",
    "            char_relationships_full = get_character_relationships(char_stub) \n",
    "            \n",
    "            if char_relationships_full:\n",
    "                all_relationships_data.extend(char_relationships_full)\n",
    "            \n",
    "            pbar.set_postfix_str(f\"Found: {len(char_relationships_full)} rels\")\n",
    "            pbar.update(1)\n",
    "            processed_character_count +=1\n",
    "\n",
    "    print(f\"\\nFinished processing batch of {processed_character_count} characters.\")\n",
    "\n",
    "    if all_relationships_data:\n",
    "        print(f\"Step 4: Writing/Appending {len(all_relationships_data)} total relationships to '{CSV_FILENAME}'...\")\n",
    "        try:\n",
    "            # Create a pandas DataFrame from the collected data\n",
    "            df = pd.DataFrame(all_relationships_data, columns=['Character', 'RelatedCharacter', 'RelationshipType'])\n",
    "            \n",
    "            # Check if the file already exists to determine if we need to write the header\n",
    "            file_exists = os.path.exists(CSV_FILENAME)\n",
    "            \n",
    "            # Save the DataFrame to a CSV file.\n",
    "            # mode='a' appends to the file.\n",
    "            # header=not file_exists writes the header only if the file is new.\n",
    "            df.to_csv(CSV_FILENAME, mode='a', index=False, header=not file_exists, encoding='utf-8')\n",
    "            \n",
    "            if not file_exists:\n",
    "                print(f\"Successfully created and saved relationships to '{CSV_FILENAME}'.\")\n",
    "            else:\n",
    "                print(f\"Successfully appended new relationships to '{CSV_FILENAME}'.\")\n",
    "\n",
    "        except Exception as e:\n",
    "            print(f\"Error writing aggregated CSV file: {e}\")\n",
    "    else:\n",
    "        print(\"No new relationships found in this batch to save.\")"
   ]
  }
 ],
 "metadata": {
  "kernelspec": {
   "display_name": "Python 3",
   "language": "python",
   "name": "python3"
  },
  "language_info": {
   "codemirror_mode": {
    "name": "ipython",
    "version": 3
   },
   "file_extension": ".py",
   "mimetype": "text/x-python",
   "name": "python",
   "nbconvert_exporter": "python",
   "pygments_lexer": "ipython3",
   "version": "3.13.3"
  }
 },
 "nbformat": 4,
 "nbformat_minor": 2
}
