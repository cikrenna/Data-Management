{
 "cells": [
  {
   "cell_type": "markdown",
   "id": "8e9c7445",
   "metadata": {},
   "source": [
    "# Data Integration"
   ]
  },
  {
   "cell_type": "markdown",
   "id": "c6a8607c",
   "metadata": {},
   "source": [
    "## From Web Scraping data"
   ]
  },
  {
   "cell_type": "code",
   "execution_count": 35,
   "id": "0fc0b53b",
   "metadata": {},
   "outputs": [],
   "source": [
    "import pandas as pd\n",
    "\n",
    "# Read CSV files into DataFrames\n",
    "bosses_df = pd.read_csv(\"data/bosses_df.csv\")\n",
    "enemies_df = pd.read_csv(\"data/enemies_df.csv\")\n",
    "characters_df = pd.read_csv(\"data/characters_df.csv\")\n",
    "games_df = pd.read_csv(\"data/games_data.csv\")\n",
    "sales_df = pd.read_csv(\"data/sales_data.csv\")"
   ]
  },
  {
   "cell_type": "code",
   "execution_count": 36,
   "id": "e5efd0e2",
   "metadata": {},
   "outputs": [
    {
     "data": {
      "application/vnd.microsoft.datawrangler.viewer.v0+json": {
       "columns": [
        {
         "name": "index",
         "rawType": "int64",
         "type": "integer"
        },
        {
         "name": "Game",
         "rawType": "object",
         "type": "string"
        },
        {
         "name": "Relation",
         "rawType": "object",
         "type": "string"
        },
        {
         "name": "Figure",
         "rawType": "object",
         "type": "string"
        },
        {
         "name": "Species",
         "rawType": "object",
         "type": "unknown"
        }
       ],
       "ref": "88249f8e-d636-4469-b6e3-3f5715386931",
       "rows": [
        [
         "0",
         "Mario & Luigi: Dream Team",
         "BOSS_IN",
         "Antasma",
         "Bat"
        ],
        [
         "1",
         "Mario & Luigi: Paper Jam",
         "BOSS_IN",
         "Antasma",
         "Bat"
        ],
        [
         "2",
         "Mario Kart DS",
         "BOSS_IN",
         "Black Shy Guy",
         null
        ],
        [
         "3",
         "Paper Mario",
         "BOSS_IN",
         "Black Shy Guy",
         null
        ],
        [
         "4",
         "Mario Kart 8 / Mario Kart 8 Deluxe",
         "BOSS_IN",
         "Black Shy Guy",
         null
        ],
        [
         "5",
         "Paper Mario: Color Splash",
         "BOSS_IN",
         "Black Shy Guy",
         null
        ],
        [
         "6",
         "Mario Kart Tour",
         "BOSS_IN",
         "Black Shy Guy",
         null
        ],
        [
         "7",
         "Paper Mario: The Origami King",
         "BOSS_IN",
         "Black Shy Guy",
         null
        ],
        [
         "8",
         "Paper Mario: The Thousand-Year Door (Nintendo Switch)",
         "BOSS_IN",
         "Black Shy Guy",
         null
        ],
        [
         "9",
         "Super Mario World",
         "BOSS_IN",
         "Big Boo",
         null
        ],
        [
         "10",
         "Mario & Luigi: Superstar Saga + Bowser's Minions",
         "BOSS_IN",
         "Big Boo",
         null
        ],
        [
         "11",
         "Luigi's Mansion",
         "BOSS_IN",
         "Big Boo",
         null
        ],
        [
         "12",
         "Paper Mario: The Thousand-Year Door",
         "BOSS_IN",
         "Big Boo",
         null
        ],
        [
         "13",
         "Super Mario 64 / Super Mario 64 DS",
         "BOSS_IN",
         "Big Boo",
         null
        ],
        [
         "14",
         "Mario & Luigi: Bowser's Inside Story + Bowser Jr.'s Journey",
         "BOSS_IN",
         "Big Boo",
         null
        ],
        [
         "15",
         "Luigi's Mansion: Dark Moon",
         "BOSS_IN",
         "Big Boo",
         null
        ],
        [
         "16",
         "Super Paper Mario",
         "BOSS_IN",
         "Big Boo",
         null
        ],
        [
         "17",
         "Super Mario Sunshine",
         "BOSS_IN",
         "Big Boo",
         null
        ],
        [
         "18",
         "Paper Mario: Sticker Star",
         "BOSS_IN",
         "Big Boo",
         null
        ],
        [
         "19",
         "Super Mario Advance 4: Super Mario Bros. 3",
         "BOSS_IN",
         "Big Boo",
         null
        ],
        [
         "20",
         "Super Mario Galaxy",
         "BOSS_IN",
         "Big Boo",
         null
        ],
        [
         "21",
         "New Super Mario Bros. Wii",
         "BOSS_IN",
         "Big Boo",
         null
        ],
        [
         "22",
         "Super Mario Galaxy 2",
         "BOSS_IN",
         "Big Boo",
         null
        ],
        [
         "23",
         "Super Mario 3D Land",
         "BOSS_IN",
         "Big Boo",
         null
        ],
        [
         "24",
         "New Super Mario Bros. 2",
         "BOSS_IN",
         "Big Boo",
         null
        ],
        [
         "25",
         "New Super Mario Bros. U / New Super Luigi U / New Super Mario Bros. U Deluxe",
         "BOSS_IN",
         "Big Boo",
         null
        ],
        [
         "26",
         "Super Mario 3D World / Super Mario 3D World + Bowser's Fury",
         "BOSS_IN",
         "Big Boo",
         null
        ],
        [
         "27",
         "Super Mario Maker subseries",
         "BOSS_IN",
         "Big Boo",
         null
        ],
        [
         "28",
         "Super Mario 64 / Super Mario 64 DS",
         "BOSS_IN",
         "Big Boo (character)",
         "Big Boo;Sleepy Boo"
        ],
        [
         "29",
         "Mario Party",
         "BOSS_IN",
         "Big Boo (character)",
         "Big Boo;Sleepy Boo"
        ],
        [
         "30",
         "Super Mario Sunshine",
         "BOSS_IN",
         "Big Boo (character)",
         "Big Boo;Sleepy Boo"
        ],
        [
         "31",
         "Mario Party 2",
         "BOSS_IN",
         "Big Boo (character)",
         "Big Boo;Sleepy Boo"
        ],
        [
         "32",
         "Mario Party 4",
         "BOSS_IN",
         "Big Boo (character)",
         "Big Boo;Sleepy Boo"
        ],
        [
         "33",
         "Mario Party 6",
         "BOSS_IN",
         "Big Blooper",
         null
        ],
        [
         "34",
         "Paper Mario",
         "BOSS_IN",
         "Big Blooper",
         null
        ],
        [
         "35",
         "Mario Party 7",
         "BOSS_IN",
         "Big Blooper",
         null
        ],
        [
         "36",
         "Paper Mario: The Thousand-Year Door",
         "BOSS_IN",
         "Big Blooper",
         null
        ],
        [
         "37",
         "Mario Party 9",
         "BOSS_IN",
         "Big Blooper",
         null
        ],
        [
         "38",
         "Super Paper Mario",
         "BOSS_IN",
         "Big Blooper",
         null
        ],
        [
         "39",
         "Mario Party 10",
         "BOSS_IN",
         "Big Blooper",
         null
        ],
        [
         "40",
         "Paper Mario: The Origami King",
         "BOSS_IN",
         "Big Blooper",
         null
        ],
        [
         "41",
         "Mario Party: Star Rush",
         "BOSS_IN",
         "Big Blooper",
         null
        ],
        [
         "42",
         "Super Mario Party",
         "BOSS_IN",
         "Big Blooper",
         null
        ],
        [
         "43",
         "New Super Mario Bros. U",
         "BOSS_IN",
         "Big Buzzy Beetle",
         null
        ],
        [
         "44",
         "Paper Mario: Sticker Star",
         "BOSS_IN",
         "Big Buzzy Beetle",
         null
        ],
        [
         "45",
         "Super Mario Maker / Super Mario Maker for Nintendo 3DS / Super Mario Maker 2",
         "BOSS_IN",
         "Big Buzzy Beetle",
         null
        ],
        [
         "46",
         "Paper Mario: Color Splash",
         "BOSS_IN",
         "Big Buzzy Beetle",
         null
        ],
        [
         "47",
         "New Super Mario Bros. Wii",
         "BOSS_IN",
         "Big Chain Chomp",
         null
        ],
        [
         "48",
         "Paper Mario: Sticker Star",
         "BOSS_IN",
         "Big Chain Chomp",
         null
        ],
        [
         "49",
         "New Super Mario Bros. 2",
         "BOSS_IN",
         "Big Chain Chomp",
         null
        ]
       ],
       "shape": {
        "columns": 4,
        "rows": 7312
       }
      },
      "text/html": [
       "<div>\n",
       "<style scoped>\n",
       "    .dataframe tbody tr th:only-of-type {\n",
       "        vertical-align: middle;\n",
       "    }\n",
       "\n",
       "    .dataframe tbody tr th {\n",
       "        vertical-align: top;\n",
       "    }\n",
       "\n",
       "    .dataframe thead th {\n",
       "        text-align: right;\n",
       "    }\n",
       "</style>\n",
       "<table border=\"1\" class=\"dataframe\">\n",
       "  <thead>\n",
       "    <tr style=\"text-align: right;\">\n",
       "      <th></th>\n",
       "      <th>Game</th>\n",
       "      <th>Relation</th>\n",
       "      <th>Figure</th>\n",
       "      <th>Species</th>\n",
       "    </tr>\n",
       "  </thead>\n",
       "  <tbody>\n",
       "    <tr>\n",
       "      <th>0</th>\n",
       "      <td>Mario &amp; Luigi: Dream Team</td>\n",
       "      <td>BOSS_IN</td>\n",
       "      <td>Antasma</td>\n",
       "      <td>Bat</td>\n",
       "    </tr>\n",
       "    <tr>\n",
       "      <th>1</th>\n",
       "      <td>Mario &amp; Luigi: Paper Jam</td>\n",
       "      <td>BOSS_IN</td>\n",
       "      <td>Antasma</td>\n",
       "      <td>Bat</td>\n",
       "    </tr>\n",
       "    <tr>\n",
       "      <th>2</th>\n",
       "      <td>Mario Kart DS</td>\n",
       "      <td>BOSS_IN</td>\n",
       "      <td>Black Shy Guy</td>\n",
       "      <td>NaN</td>\n",
       "    </tr>\n",
       "    <tr>\n",
       "      <th>3</th>\n",
       "      <td>Paper Mario</td>\n",
       "      <td>BOSS_IN</td>\n",
       "      <td>Black Shy Guy</td>\n",
       "      <td>NaN</td>\n",
       "    </tr>\n",
       "    <tr>\n",
       "      <th>4</th>\n",
       "      <td>Mario Kart 8 / Mario Kart 8 Deluxe</td>\n",
       "      <td>BOSS_IN</td>\n",
       "      <td>Black Shy Guy</td>\n",
       "      <td>NaN</td>\n",
       "    </tr>\n",
       "    <tr>\n",
       "      <th>...</th>\n",
       "      <td>...</td>\n",
       "      <td>...</td>\n",
       "      <td>...</td>\n",
       "      <td>...</td>\n",
       "    </tr>\n",
       "    <tr>\n",
       "      <th>7307</th>\n",
       "      <td>Super Mario Bros. Wonder</td>\n",
       "      <td>ENEMY_IN</td>\n",
       "      <td>Wiggler</td>\n",
       "      <td>NaN</td>\n",
       "    </tr>\n",
       "    <tr>\n",
       "      <th>7308</th>\n",
       "      <td>Super Mario Party Jamboree</td>\n",
       "      <td>ENEMY_IN</td>\n",
       "      <td>Wiggler</td>\n",
       "      <td>NaN</td>\n",
       "    </tr>\n",
       "    <tr>\n",
       "      <th>7309</th>\n",
       "      <td>Super Smash Bros. Brawl</td>\n",
       "      <td>ENEMY_IN</td>\n",
       "      <td>Zinger</td>\n",
       "      <td>NaN</td>\n",
       "    </tr>\n",
       "    <tr>\n",
       "      <th>7310</th>\n",
       "      <td>Super Smash Bros. for Wii U</td>\n",
       "      <td>ENEMY_IN</td>\n",
       "      <td>Zinger</td>\n",
       "      <td>NaN</td>\n",
       "    </tr>\n",
       "    <tr>\n",
       "      <th>7311</th>\n",
       "      <td>Super Smash Bros. Ultimate</td>\n",
       "      <td>ENEMY_IN</td>\n",
       "      <td>Zinger</td>\n",
       "      <td>NaN</td>\n",
       "    </tr>\n",
       "  </tbody>\n",
       "</table>\n",
       "<p>7312 rows × 4 columns</p>\n",
       "</div>"
      ],
      "text/plain": [
       "                                    Game  Relation         Figure Species\n",
       "0              Mario & Luigi: Dream Team   BOSS_IN        Antasma     Bat\n",
       "1               Mario & Luigi: Paper Jam   BOSS_IN        Antasma     Bat\n",
       "2                          Mario Kart DS   BOSS_IN  Black Shy Guy     NaN\n",
       "3                            Paper Mario   BOSS_IN  Black Shy Guy     NaN\n",
       "4     Mario Kart 8 / Mario Kart 8 Deluxe   BOSS_IN  Black Shy Guy     NaN\n",
       "...                                  ...       ...            ...     ...\n",
       "7307            Super Mario Bros. Wonder  ENEMY_IN        Wiggler     NaN\n",
       "7308          Super Mario Party Jamboree  ENEMY_IN        Wiggler     NaN\n",
       "7309             Super Smash Bros. Brawl  ENEMY_IN         Zinger     NaN\n",
       "7310         Super Smash Bros. for Wii U  ENEMY_IN         Zinger     NaN\n",
       "7311          Super Smash Bros. Ultimate  ENEMY_IN         Zinger     NaN\n",
       "\n",
       "[7312 rows x 4 columns]"
      ]
     },
     "execution_count": 36,
     "metadata": {},
     "output_type": "execute_result"
    }
   ],
   "source": [
    "# Merge the DataFrames, renaming columns to 'Figure' where appropriate\n",
    "merged_data = pd.concat([\n",
    "    bosses_df[['Game', 'Relation', 'Boss', 'Species']].rename(columns={'Boss': 'Figure'}),\n",
    "    characters_df[['Game', 'Relation', 'Character', 'Species']].rename(columns={'Character': 'Figure'}),\n",
    "    enemies_df[['Game', 'Relation', 'Enemy']].rename(columns={'Enemy': 'Figure'})\n",
    "], ignore_index=True)\n",
    "\n",
    "merged_data"
   ]
  },
  {
   "cell_type": "code",
   "execution_count": 37,
   "id": "cc289b84",
   "metadata": {},
   "outputs": [],
   "source": [
    "# Add 'Console' and 'Year' to merged_data\n",
    "merged_data = merged_data.merge(\n",
    "    games_df[['Game', 'Console', 'Year']],\n",
    "    on='Game',\n",
    "    how='left'\n",
    ").assign(Year=lambda df: pd.to_numeric(df['Year'], errors='coerce').astype('Int64'))\n",
    "\n",
    "\n",
    "# Remove underscores and quotes, and also parentheses from 'Figure'\n",
    "merged_data['Figure'] = merged_data['Figure'].str.replace(r'[_\"]', ' ', regex=True)\n",
    "merged_data['Figure'] = merged_data['Figure'].str.replace(r'\\s*\\(.*\\)', '', regex=True).str.strip()\n",
    "\n",
    "\n",
    "# Remove rows with NaN values in 'Year' and 'Console'\n",
    "merged_data = merged_data.dropna(subset=['Year', 'Console'])\n",
    "\n",
    "# Convert specified columns to lowercase, correctly handling missing values\n",
    "for column in ['Game', 'Console', 'Figure', 'Species']:\n",
    "    if column in merged_data.columns:\n",
    "        # Select only non-null values\n",
    "        not_null_mask = merged_data[column].notna()\n",
    "        # Apply lowercase only to the non-null values\n",
    "        merged_data.loc[not_null_mask, column] = merged_data.loc[not_null_mask, column].astype(str).str.lower()\n",
    "    else:\n",
    "        print(f\"Warning: Column '{column}' not found in the dataset.\")"
   ]
  },
  {
   "cell_type": "code",
   "execution_count": 38,
   "id": "68866536",
   "metadata": {},
   "outputs": [
    {
     "data": {
      "application/vnd.microsoft.datawrangler.viewer.v0+json": {
       "columns": [
        {
         "name": "index",
         "rawType": "int64",
         "type": "integer"
        },
        {
         "name": "Game",
         "rawType": "object",
         "type": "string"
        },
        {
         "name": "Relation",
         "rawType": "object",
         "type": "string"
        },
        {
         "name": "Figure",
         "rawType": "object",
         "type": "string"
        },
        {
         "name": "Species",
         "rawType": "object",
         "type": "unknown"
        },
        {
         "name": "Console",
         "rawType": "object",
         "type": "string"
        },
        {
         "name": "Year",
         "rawType": "Int64",
         "type": "integer"
        }
       ],
       "ref": "e7fc9023-ca68-40a2-8eba-5a12a6c49146",
       "rows": [
        [
         "0",
         "mario & luigi: dream team",
         "BOSS_IN",
         "antasma",
         "bat",
         "nintendo 3ds",
         "2013"
        ],
        [
         "1",
         "mario & luigi: paper jam",
         "BOSS_IN",
         "antasma",
         "bat",
         "nintendo 3ds",
         "2015"
        ],
        [
         "2",
         "mario kart ds",
         "BOSS_IN",
         "black shy guy",
         null,
         "nintendo ds",
         "2005"
        ],
        [
         "3",
         "paper mario",
         "BOSS_IN",
         "black shy guy",
         null,
         "nintendo 64",
         "2000"
        ],
        [
         "5",
         "paper mario: color splash",
         "BOSS_IN",
         "black shy guy",
         null,
         "wii u",
         "2016"
        ],
        [
         "6",
         "mario kart tour",
         "BOSS_IN",
         "black shy guy",
         null,
         "ios/android",
         "2019"
        ],
        [
         "7",
         "paper mario: the origami king",
         "BOSS_IN",
         "black shy guy",
         null,
         "nintendo switch",
         "2020"
        ],
        [
         "9",
         "super mario world",
         "BOSS_IN",
         "big boo",
         null,
         "super famicom / snes",
         "1990"
        ],
        [
         "10",
         "super mario world",
         "BOSS_IN",
         "big boo",
         null,
         "arcade",
         "1993"
        ],
        [
         "11",
         "mario & luigi: superstar saga + bowser's minions",
         "BOSS_IN",
         "big boo",
         null,
         "nintendo 3ds",
         "2017"
        ],
        [
         "12",
         "luigi's mansion",
         "BOSS_IN",
         "big boo",
         null,
         "nintendo gamecube",
         "2001"
        ],
        [
         "13",
         "luigi's mansion",
         "BOSS_IN",
         "big boo",
         null,
         "nintendo 3ds",
         "2018"
        ],
        [
         "14",
         "paper mario: the thousand-year door",
         "BOSS_IN",
         "big boo",
         null,
         "nintendo gamecube",
         "2004"
        ],
        [
         "15",
         "paper mario: the thousand-year door",
         "BOSS_IN",
         "big boo",
         null,
         "nintendo switch",
         "2024"
        ],
        [
         "17",
         "mario & luigi: bowser's inside story + bowser jr.'s journey",
         "BOSS_IN",
         "big boo",
         null,
         "nintendo 3ds",
         "2018"
        ],
        [
         "18",
         "luigi's mansion: dark moon",
         "BOSS_IN",
         "big boo",
         null,
         "nintendo 3ds",
         "2013"
        ],
        [
         "19",
         "super paper mario",
         "BOSS_IN",
         "big boo",
         null,
         "wii",
         "2007"
        ],
        [
         "20",
         "super mario sunshine",
         "BOSS_IN",
         "big boo",
         null,
         "nintendo gamecube",
         "2002"
        ],
        [
         "21",
         "paper mario: sticker star",
         "BOSS_IN",
         "big boo",
         null,
         "nintendo 3ds",
         "2012"
        ],
        [
         "22",
         "super mario advance 4: super mario bros. 3",
         "BOSS_IN",
         "big boo",
         null,
         "game boy advance",
         "2003"
        ],
        [
         "23",
         "super mario galaxy",
         "BOSS_IN",
         "big boo",
         null,
         "wii",
         "2007"
        ],
        [
         "24",
         "new super mario bros. wii",
         "BOSS_IN",
         "big boo",
         null,
         "wii",
         "2009"
        ],
        [
         "25",
         "super mario galaxy 2",
         "BOSS_IN",
         "big boo",
         null,
         "wii",
         "2010"
        ],
        [
         "26",
         "super mario 3d land",
         "BOSS_IN",
         "big boo",
         null,
         "nintendo 3ds",
         "2011"
        ],
        [
         "27",
         "new super mario bros. 2",
         "BOSS_IN",
         "big boo",
         null,
         "nintendo 3ds",
         "2012"
        ],
        [
         "32",
         "mario party",
         "BOSS_IN",
         "big boo",
         "big boo;sleepy boo",
         "nintendo 64",
         "1998"
        ],
        [
         "33",
         "super mario sunshine",
         "BOSS_IN",
         "big boo",
         "big boo;sleepy boo",
         "nintendo gamecube",
         "2002"
        ],
        [
         "34",
         "mario party 2",
         "BOSS_IN",
         "big boo",
         "big boo;sleepy boo",
         "nintendo 64",
         "1999"
        ],
        [
         "35",
         "mario party 4",
         "BOSS_IN",
         "big boo",
         "big boo;sleepy boo",
         "nintendo gamecube",
         "2002"
        ],
        [
         "36",
         "mario party 6",
         "BOSS_IN",
         "big blooper",
         null,
         "nintendo gamecube",
         "2004"
        ],
        [
         "37",
         "paper mario",
         "BOSS_IN",
         "big blooper",
         null,
         "nintendo 64",
         "2000"
        ],
        [
         "38",
         "mario party 7",
         "BOSS_IN",
         "big blooper",
         null,
         "nintendo gamecube",
         "2005"
        ],
        [
         "39",
         "paper mario: the thousand-year door",
         "BOSS_IN",
         "big blooper",
         null,
         "nintendo gamecube",
         "2004"
        ],
        [
         "40",
         "paper mario: the thousand-year door",
         "BOSS_IN",
         "big blooper",
         null,
         "nintendo switch",
         "2024"
        ],
        [
         "41",
         "mario party 9",
         "BOSS_IN",
         "big blooper",
         null,
         "wii",
         "2012"
        ],
        [
         "42",
         "super paper mario",
         "BOSS_IN",
         "big blooper",
         null,
         "wii",
         "2007"
        ],
        [
         "43",
         "mario party 10",
         "BOSS_IN",
         "big blooper",
         null,
         "wii u",
         "2015"
        ],
        [
         "44",
         "paper mario: the origami king",
         "BOSS_IN",
         "big blooper",
         null,
         "nintendo switch",
         "2020"
        ],
        [
         "45",
         "mario party: star rush",
         "BOSS_IN",
         "big blooper",
         null,
         "nintendo 3ds",
         "2016"
        ],
        [
         "46",
         "super mario party",
         "BOSS_IN",
         "big blooper",
         null,
         "nintendo switch",
         "2018"
        ],
        [
         "47",
         "new super mario bros. u",
         "BOSS_IN",
         "big buzzy beetle",
         null,
         "wii u",
         "2012"
        ],
        [
         "48",
         "paper mario: sticker star",
         "BOSS_IN",
         "big buzzy beetle",
         null,
         "nintendo 3ds",
         "2012"
        ],
        [
         "50",
         "paper mario: color splash",
         "BOSS_IN",
         "big buzzy beetle",
         null,
         "wii u",
         "2016"
        ],
        [
         "51",
         "new super mario bros. wii",
         "BOSS_IN",
         "big chain chomp",
         null,
         "wii",
         "2009"
        ],
        [
         "52",
         "paper mario: sticker star",
         "BOSS_IN",
         "big chain chomp",
         null,
         "nintendo 3ds",
         "2012"
        ],
        [
         "53",
         "new super mario bros. 2",
         "BOSS_IN",
         "big chain chomp",
         null,
         "nintendo 3ds",
         "2012"
        ],
        [
         "54",
         "paper mario: color splash",
         "BOSS_IN",
         "big chain chomp",
         null,
         "wii u",
         "2016"
        ],
        [
         "56",
         "super mario odyssey",
         "BOSS_IN",
         "big chain chomp",
         null,
         "nintendo switch",
         "2017"
        ],
        [
         "57",
         "super mario maker 2",
         "BOSS_IN",
         "big chain chomp",
         null,
         "nintendo switch",
         "2019"
        ],
        [
         "59",
         "new super mario bros. wii",
         "BOSS_IN",
         "big fire piranha",
         null,
         "wii",
         "2009"
        ]
       ],
       "shape": {
        "columns": 6,
        "rows": 7741
       }
      },
      "text/html": [
       "<div>\n",
       "<style scoped>\n",
       "    .dataframe tbody tr th:only-of-type {\n",
       "        vertical-align: middle;\n",
       "    }\n",
       "\n",
       "    .dataframe tbody tr th {\n",
       "        vertical-align: top;\n",
       "    }\n",
       "\n",
       "    .dataframe thead th {\n",
       "        text-align: right;\n",
       "    }\n",
       "</style>\n",
       "<table border=\"1\" class=\"dataframe\">\n",
       "  <thead>\n",
       "    <tr style=\"text-align: right;\">\n",
       "      <th></th>\n",
       "      <th>Game</th>\n",
       "      <th>Relation</th>\n",
       "      <th>Figure</th>\n",
       "      <th>Species</th>\n",
       "      <th>Console</th>\n",
       "      <th>Year</th>\n",
       "    </tr>\n",
       "  </thead>\n",
       "  <tbody>\n",
       "    <tr>\n",
       "      <th>0</th>\n",
       "      <td>mario &amp; luigi: dream team</td>\n",
       "      <td>BOSS_IN</td>\n",
       "      <td>antasma</td>\n",
       "      <td>bat</td>\n",
       "      <td>nintendo 3ds</td>\n",
       "      <td>2013</td>\n",
       "    </tr>\n",
       "    <tr>\n",
       "      <th>1</th>\n",
       "      <td>mario &amp; luigi: paper jam</td>\n",
       "      <td>BOSS_IN</td>\n",
       "      <td>antasma</td>\n",
       "      <td>bat</td>\n",
       "      <td>nintendo 3ds</td>\n",
       "      <td>2015</td>\n",
       "    </tr>\n",
       "    <tr>\n",
       "      <th>2</th>\n",
       "      <td>mario kart ds</td>\n",
       "      <td>BOSS_IN</td>\n",
       "      <td>black shy guy</td>\n",
       "      <td>NaN</td>\n",
       "      <td>nintendo ds</td>\n",
       "      <td>2005</td>\n",
       "    </tr>\n",
       "    <tr>\n",
       "      <th>3</th>\n",
       "      <td>paper mario</td>\n",
       "      <td>BOSS_IN</td>\n",
       "      <td>black shy guy</td>\n",
       "      <td>NaN</td>\n",
       "      <td>nintendo 64</td>\n",
       "      <td>2000</td>\n",
       "    </tr>\n",
       "    <tr>\n",
       "      <th>5</th>\n",
       "      <td>paper mario: color splash</td>\n",
       "      <td>BOSS_IN</td>\n",
       "      <td>black shy guy</td>\n",
       "      <td>NaN</td>\n",
       "      <td>wii u</td>\n",
       "      <td>2016</td>\n",
       "    </tr>\n",
       "    <tr>\n",
       "      <th>...</th>\n",
       "      <td>...</td>\n",
       "      <td>...</td>\n",
       "      <td>...</td>\n",
       "      <td>...</td>\n",
       "      <td>...</td>\n",
       "      <td>...</td>\n",
       "    </tr>\n",
       "    <tr>\n",
       "      <th>8630</th>\n",
       "      <td>super mario bros. wonder</td>\n",
       "      <td>ENEMY_IN</td>\n",
       "      <td>wiggler</td>\n",
       "      <td>NaN</td>\n",
       "      <td>nintendo switch</td>\n",
       "      <td>2023</td>\n",
       "    </tr>\n",
       "    <tr>\n",
       "      <th>8631</th>\n",
       "      <td>super mario party jamboree</td>\n",
       "      <td>ENEMY_IN</td>\n",
       "      <td>wiggler</td>\n",
       "      <td>NaN</td>\n",
       "      <td>nintendo switch</td>\n",
       "      <td>2024</td>\n",
       "    </tr>\n",
       "    <tr>\n",
       "      <th>8632</th>\n",
       "      <td>super smash bros. brawl</td>\n",
       "      <td>ENEMY_IN</td>\n",
       "      <td>zinger</td>\n",
       "      <td>NaN</td>\n",
       "      <td>wii</td>\n",
       "      <td>2008</td>\n",
       "    </tr>\n",
       "    <tr>\n",
       "      <th>8633</th>\n",
       "      <td>super smash bros. for wii u</td>\n",
       "      <td>ENEMY_IN</td>\n",
       "      <td>zinger</td>\n",
       "      <td>NaN</td>\n",
       "      <td>wii u</td>\n",
       "      <td>2014</td>\n",
       "    </tr>\n",
       "    <tr>\n",
       "      <th>8634</th>\n",
       "      <td>super smash bros. ultimate</td>\n",
       "      <td>ENEMY_IN</td>\n",
       "      <td>zinger</td>\n",
       "      <td>NaN</td>\n",
       "      <td>nintendo switch</td>\n",
       "      <td>2018</td>\n",
       "    </tr>\n",
       "  </tbody>\n",
       "</table>\n",
       "<p>7741 rows × 6 columns</p>\n",
       "</div>"
      ],
      "text/plain": [
       "                             Game  Relation         Figure Species  \\\n",
       "0       mario & luigi: dream team   BOSS_IN        antasma     bat   \n",
       "1        mario & luigi: paper jam   BOSS_IN        antasma     bat   \n",
       "2                   mario kart ds   BOSS_IN  black shy guy     NaN   \n",
       "3                     paper mario   BOSS_IN  black shy guy     NaN   \n",
       "5       paper mario: color splash   BOSS_IN  black shy guy     NaN   \n",
       "...                           ...       ...            ...     ...   \n",
       "8630     super mario bros. wonder  ENEMY_IN        wiggler     NaN   \n",
       "8631   super mario party jamboree  ENEMY_IN        wiggler     NaN   \n",
       "8632      super smash bros. brawl  ENEMY_IN         zinger     NaN   \n",
       "8633  super smash bros. for wii u  ENEMY_IN         zinger     NaN   \n",
       "8634   super smash bros. ultimate  ENEMY_IN         zinger     NaN   \n",
       "\n",
       "              Console  Year  \n",
       "0        nintendo 3ds  2013  \n",
       "1        nintendo 3ds  2015  \n",
       "2         nintendo ds  2005  \n",
       "3         nintendo 64  2000  \n",
       "5               wii u  2016  \n",
       "...               ...   ...  \n",
       "8630  nintendo switch  2023  \n",
       "8631  nintendo switch  2024  \n",
       "8632              wii  2008  \n",
       "8633            wii u  2014  \n",
       "8634  nintendo switch  2018  \n",
       "\n",
       "[7741 rows x 6 columns]"
      ]
     },
     "execution_count": 38,
     "metadata": {},
     "output_type": "execute_result"
    }
   ],
   "source": [
    "# Display the dataframe\n",
    "merged_data"
   ]
  },
  {
   "cell_type": "code",
   "execution_count": 39,
   "id": "903cbcc7",
   "metadata": {},
   "outputs": [],
   "source": [
    "# Dictionary to map original values to new values, which are the primary console names\n",
    "\n",
    "console_mapping = {\n",
    "    'nes': 'NES',\n",
    "    'famicom / nes': 'NES',\n",
    "    'famicom': 'NES',\n",
    "    'nes (disk system)': 'NES',\n",
    "    'snes': 'SNES',\n",
    "    'super famicom/snes': 'SNES',\n",
    "    'super nintendo': 'SNES',\n",
    "    'super famicom / snes': 'SNES',\n",
    "    'super famicom': 'SNES',\n",
    "    'satellaview (super famicom)': 'SNES',\n",
    "    'rom cartridge / satellaview (super famicom)': 'SNES',\n",
    "    'super famicom (np)': 'SNES',\n",
    "    'n64': 'N64',\n",
    "    'nintendo 64': 'N64',\n",
    "    'nintendo 64 (64dd)': 'N64',\n",
    "    'gc': 'GC',\n",
    "    'gcn': 'GC',\n",
    "    'nintendo gamecube': 'GC',\n",
    "    'wii': 'Wii',\n",
    "    'wii (wiiware)': 'Wii',\n",
    "    'wiiware': 'Wii',\n",
    "    'wiiu': 'WiiU',\n",
    "    'wii u': 'WiiU',\n",
    "    'switch': 'Switch',\n",
    "    'nintendo switch': 'Switch',\n",
    "    'switch 2': 'Switch 2',\n",
    "    'nintendo switch 2': 'Switch 2',\n",
    "    'nintendo switch (oled)': 'Switch',\n",
    "    'nintendo entertainment system': 'NES',\n",
    "    'super nintendo entertainment system': 'SNES',\n",
    "\n",
    "    # Nintendo\n",
    "    'gb': 'GB',\n",
    "    'game boy': 'GB',\n",
    "    'gamecube': 'GC',\n",
    "    'gbc': 'GBC',\n",
    "    'game boy color': 'GBC',\n",
    "    'game boy/game boy color': 'GBC',\n",
    "    'gba': 'GBA',\n",
    "    'game boy advance': 'GBA',\n",
    "    'game boy advance (e-reader)': 'GBA',\n",
    "    'ds': 'DS',\n",
    "    'nintendo ds': 'DS',\n",
    "    'nintendo dsi (dsiware)': 'DS',\n",
    "    'nintendo dsi': 'DS',\n",
    "    '3ds': '3DS',\n",
    "    'nintendo 3ds': '3DS',\n",
    "    'new nintendo 3ds': '3DS',\n",
    "    'dsiware': 'DS',\n",
    "    'nintendo 3ds (eshop)': '3DS',\n",
    "    'nintendo 64dd': 'N64',\n",
    "\n",
    "    # Arcade\n",
    "    'arcade': 'Arcade',\n",
    "    'vs. system': 'Arcade',\n",
    "    'arcade edition - arcade': 'Arcade',\n",
    "    'triforce arcade': 'Arcade',\n",
    "    'arcade, nintendo entertainment system': 'Arcade',\n",
    "\n",
    "    # PC\n",
    "    'pc': 'PC',\n",
    "    'personal computer': 'PC',\n",
    "    'family computer disk system': 'PC',\n",
    "    'family computer': 'PC',\n",
    "    'ms-dos': 'PC',\n",
    "    'windows': 'PC',\n",
    "    'microsoft windows': 'PC',\n",
    "    'mac os': 'PC',\n",
    "    'microsoft windows/macintosh': 'PC',\n",
    "    'apple ii': 'PC',\n",
    "    'commodore 64': 'PC',\n",
    "    'commodore vic-20': 'PC',\n",
    "    'commodore 64 (ocean software)': 'PC',\n",
    "    'amstrad cpc': 'PC',\n",
    "    'zx spectrum': 'PC',\n",
    "    'msx': 'PC',\n",
    "    'pc-8001': 'PC',\n",
    "    'pc-88': 'PC',\n",
    "    'nec pc-8801': 'PC',\n",
    "    'nec pc-6001mkii/6601, nec pc-8001, nec pc-8801mkii, nec pc-9801, fm-7, sharp x1, sharp mz-1500, sharp mz-2200, hitachi s1, smc-777': 'PC',\n",
    "    'nec pc-6001mkii/6601, nec pc-8001mkii,nec pc-8801, fm-7, sharp x1, sharp mz-1500, hitachi s1, ibm jx': 'PC',\n",
    "    'nec pc-6001mkii/6601, nec pc-8801, sharp x1, ibm jx': 'PC',\n",
    "    'sharp x1': 'PC',\n",
    "\n",
    "    # Mobile\n",
    "    'mobile': 'Mobile',\n",
    "    'ios': 'Mobile',\n",
    "    'android': 'Mobile',\n",
    "    'ios/android': 'Mobile',\n",
    "    'ios, android': 'Mobile',\n",
    "    'ios, ipados, android': 'Mobile',\n",
    "    'ios / android': 'Mobile',\n",
    "\n",
    "    # Atari Consoles\n",
    "    '2600': '2600',\n",
    "    'atari 2600': '2600',\n",
    "    'atari 5200': 'Atari 5200',\n",
    "    'atari 7800': 'Atari 7800',\n",
    "    'atari 8-bit computers': 'Atari 8-bit',\n",
    "    'atari 8-bit': 'Atari 8-bit',\n",
    "\n",
    "    # Other Consoles\n",
    "    'colecovision': 'ColecoVision',\n",
    "    'intellivision': 'Intellivision',\n",
    "    'philips cd-i': 'Philips CD-i',\n",
    "    'cd-i': 'Philips CD-i',\n",
    "    'virtual boy': 'Virtual Boy',\n",
    "    'ps2': 'PlayStation 2',\n",
    "    'playstation 2': 'PlayStation 2',\n",
    "    'psp': 'PlayStation Portable',\n",
    "    'playstation portable': 'PlayStation Portable',\n",
    "\n",
    "    # Game & Watch and similar\n",
    "    'game & watch': 'Game & Watch',\n",
    "    'nelsonic game watch': 'Game & Watch',\n",
    "    'coleco tabletop': 'Other Handheld',\n",
    "    'super mario bros. watch': 'Other Handheld',\n",
    "    'gamewatch boy': 'Other Handheld',\n",
    "\n",
    "    # Multi-platform strings (map to primary or a chosen standard)\n",
    "    'famicom / nes / game boy': 'NES',\n",
    "    'nes / game boy': 'NES',\n",
    "    'wii u / wii / nintendo 3ds': 'WiiU',\n",
    "    'wii u / nintendo 3ds': 'WiiU',\n",
    "    'nintendo switch / nintendo 3ds': 'Switch',\n",
    "\n",
    "    # Miscellaneous / Other\n",
    "    'ti-99/4a': 'Other Computer',\n",
    "    'coleco adam': 'Other Computer',\n",
    "    'sky italia': 'Other Platform',\n",
    "    'satellaview': 'Other Platform',\n",
    "    'Virtual Boy': 'Other Platform',\n",
    "    'e-reader': 'Other Platform',\n",
    "    'super famicom (satellaview)': 'Other Platform'\n",
    "}\n",
    "\n",
    "\n",
    "# Apply the mapping to the 'Console' column and make the matching case-insensitive\n",
    "# If there are values in the 'Console' column that are not present in the dictionary, they will remain unchanged and we will remove duplicates\n",
    "merged_data.loc[:, 'Console'] = merged_data['Console'].str.lower().map(console_mapping).fillna(merged_data['Console']) \n",
    "\n",
    "# Columns that identify a duplicate entry\n",
    "key_cols = ['Game', 'Relation', 'Figure', 'Console', 'Year']\n",
    "\n",
    "# Within each group of duplicates, fill the 'Species' value in order to ensure that the species information is preserved.\n",
    "merged_data['Species'] = merged_data.groupby(key_cols)['Species'].transform('first')\n",
    "\n",
    "# Remove duplicates based on the key columns\n",
    "merged_data = merged_data.drop_duplicates(subset=key_cols)"
   ]
  },
  {
   "cell_type": "code",
   "execution_count": 40,
   "id": "f72f02d1",
   "metadata": {},
   "outputs": [
    {
     "data": {
      "application/vnd.microsoft.datawrangler.viewer.v0+json": {
       "columns": [
        {
         "name": "index",
         "rawType": "int64",
         "type": "integer"
        },
        {
         "name": "Game",
         "rawType": "object",
         "type": "string"
        },
        {
         "name": "Relation",
         "rawType": "object",
         "type": "string"
        },
        {
         "name": "Figure",
         "rawType": "object",
         "type": "string"
        },
        {
         "name": "Species",
         "rawType": "object",
         "type": "unknown"
        },
        {
         "name": "Console",
         "rawType": "object",
         "type": "string"
        },
        {
         "name": "Year",
         "rawType": "Int64",
         "type": "integer"
        }
       ],
       "ref": "f87b36c4-f48d-4c6a-898b-d7f6f777cb75",
       "rows": [
        [
         "0",
         "mario & luigi: dream team",
         "BOSS_IN",
         "antasma",
         "bat",
         "3DS",
         "2013"
        ],
        [
         "1",
         "mario & luigi: paper jam",
         "BOSS_IN",
         "antasma",
         "bat",
         "3DS",
         "2015"
        ],
        [
         "2",
         "mario kart ds",
         "BOSS_IN",
         "black shy guy",
         null,
         "DS",
         "2005"
        ],
        [
         "3",
         "paper mario",
         "BOSS_IN",
         "black shy guy",
         null,
         "N64",
         "2000"
        ],
        [
         "5",
         "paper mario: color splash",
         "BOSS_IN",
         "black shy guy",
         null,
         "WiiU",
         "2016"
        ],
        [
         "6",
         "mario kart tour",
         "BOSS_IN",
         "black shy guy",
         null,
         "Mobile",
         "2019"
        ],
        [
         "7",
         "paper mario: the origami king",
         "BOSS_IN",
         "black shy guy",
         null,
         "Switch",
         "2020"
        ],
        [
         "9",
         "super mario world",
         "BOSS_IN",
         "big boo",
         null,
         "SNES",
         "1990"
        ],
        [
         "10",
         "super mario world",
         "BOSS_IN",
         "big boo",
         null,
         "Arcade",
         "1993"
        ],
        [
         "11",
         "mario & luigi: superstar saga + bowser's minions",
         "BOSS_IN",
         "big boo",
         null,
         "3DS",
         "2017"
        ],
        [
         "12",
         "luigi's mansion",
         "BOSS_IN",
         "big boo",
         null,
         "GC",
         "2001"
        ],
        [
         "13",
         "luigi's mansion",
         "BOSS_IN",
         "big boo",
         null,
         "3DS",
         "2018"
        ],
        [
         "14",
         "paper mario: the thousand-year door",
         "BOSS_IN",
         "big boo",
         null,
         "GC",
         "2004"
        ],
        [
         "15",
         "paper mario: the thousand-year door",
         "BOSS_IN",
         "big boo",
         null,
         "Switch",
         "2024"
        ],
        [
         "17",
         "mario & luigi: bowser's inside story + bowser jr.'s journey",
         "BOSS_IN",
         "big boo",
         null,
         "3DS",
         "2018"
        ],
        [
         "18",
         "luigi's mansion: dark moon",
         "BOSS_IN",
         "big boo",
         null,
         "3DS",
         "2013"
        ],
        [
         "19",
         "super paper mario",
         "BOSS_IN",
         "big boo",
         null,
         "Wii",
         "2007"
        ],
        [
         "20",
         "super mario sunshine",
         "BOSS_IN",
         "big boo",
         "big boo;sleepy boo",
         "GC",
         "2002"
        ],
        [
         "21",
         "paper mario: sticker star",
         "BOSS_IN",
         "big boo",
         null,
         "3DS",
         "2012"
        ],
        [
         "22",
         "super mario advance 4: super mario bros. 3",
         "BOSS_IN",
         "big boo",
         null,
         "GBA",
         "2003"
        ],
        [
         "23",
         "super mario galaxy",
         "BOSS_IN",
         "big boo",
         null,
         "Wii",
         "2007"
        ],
        [
         "24",
         "new super mario bros. wii",
         "BOSS_IN",
         "big boo",
         null,
         "Wii",
         "2009"
        ],
        [
         "25",
         "super mario galaxy 2",
         "BOSS_IN",
         "big boo",
         null,
         "Wii",
         "2010"
        ],
        [
         "26",
         "super mario 3d land",
         "BOSS_IN",
         "big boo",
         null,
         "3DS",
         "2011"
        ],
        [
         "27",
         "new super mario bros. 2",
         "BOSS_IN",
         "big boo",
         null,
         "3DS",
         "2012"
        ],
        [
         "32",
         "mario party",
         "BOSS_IN",
         "big boo",
         "big boo;sleepy boo",
         "N64",
         "1998"
        ],
        [
         "34",
         "mario party 2",
         "BOSS_IN",
         "big boo",
         "big boo;sleepy boo",
         "N64",
         "1999"
        ],
        [
         "35",
         "mario party 4",
         "BOSS_IN",
         "big boo",
         "big boo;sleepy boo",
         "GC",
         "2002"
        ],
        [
         "36",
         "mario party 6",
         "BOSS_IN",
         "big blooper",
         null,
         "GC",
         "2004"
        ],
        [
         "37",
         "paper mario",
         "BOSS_IN",
         "big blooper",
         null,
         "N64",
         "2000"
        ],
        [
         "38",
         "mario party 7",
         "BOSS_IN",
         "big blooper",
         null,
         "GC",
         "2005"
        ],
        [
         "39",
         "paper mario: the thousand-year door",
         "BOSS_IN",
         "big blooper",
         null,
         "GC",
         "2004"
        ],
        [
         "40",
         "paper mario: the thousand-year door",
         "BOSS_IN",
         "big blooper",
         null,
         "Switch",
         "2024"
        ],
        [
         "41",
         "mario party 9",
         "BOSS_IN",
         "big blooper",
         null,
         "Wii",
         "2012"
        ],
        [
         "42",
         "super paper mario",
         "BOSS_IN",
         "big blooper",
         null,
         "Wii",
         "2007"
        ],
        [
         "43",
         "mario party 10",
         "BOSS_IN",
         "big blooper",
         null,
         "WiiU",
         "2015"
        ],
        [
         "44",
         "paper mario: the origami king",
         "BOSS_IN",
         "big blooper",
         null,
         "Switch",
         "2020"
        ],
        [
         "45",
         "mario party: star rush",
         "BOSS_IN",
         "big blooper",
         null,
         "3DS",
         "2016"
        ],
        [
         "46",
         "super mario party",
         "BOSS_IN",
         "big blooper",
         null,
         "Switch",
         "2018"
        ],
        [
         "47",
         "new super mario bros. u",
         "BOSS_IN",
         "big buzzy beetle",
         null,
         "WiiU",
         "2012"
        ],
        [
         "48",
         "paper mario: sticker star",
         "BOSS_IN",
         "big buzzy beetle",
         null,
         "3DS",
         "2012"
        ],
        [
         "50",
         "paper mario: color splash",
         "BOSS_IN",
         "big buzzy beetle",
         null,
         "WiiU",
         "2016"
        ],
        [
         "51",
         "new super mario bros. wii",
         "BOSS_IN",
         "big chain chomp",
         null,
         "Wii",
         "2009"
        ],
        [
         "52",
         "paper mario: sticker star",
         "BOSS_IN",
         "big chain chomp",
         null,
         "3DS",
         "2012"
        ],
        [
         "53",
         "new super mario bros. 2",
         "BOSS_IN",
         "big chain chomp",
         null,
         "3DS",
         "2012"
        ],
        [
         "54",
         "paper mario: color splash",
         "BOSS_IN",
         "big chain chomp",
         null,
         "WiiU",
         "2016"
        ],
        [
         "56",
         "super mario odyssey",
         "BOSS_IN",
         "big chain chomp",
         null,
         "Switch",
         "2017"
        ],
        [
         "57",
         "super mario maker 2",
         "BOSS_IN",
         "big chain chomp",
         null,
         "Switch",
         "2019"
        ],
        [
         "59",
         "new super mario bros. wii",
         "BOSS_IN",
         "big fire piranha",
         null,
         "Wii",
         "2009"
        ],
        [
         "60",
         "new super mario bros. 2",
         "BOSS_IN",
         "big fire piranha",
         null,
         "3DS",
         "2012"
        ]
       ],
       "shape": {
        "columns": 6,
        "rows": 6965
       }
      },
      "text/html": [
       "<div>\n",
       "<style scoped>\n",
       "    .dataframe tbody tr th:only-of-type {\n",
       "        vertical-align: middle;\n",
       "    }\n",
       "\n",
       "    .dataframe tbody tr th {\n",
       "        vertical-align: top;\n",
       "    }\n",
       "\n",
       "    .dataframe thead th {\n",
       "        text-align: right;\n",
       "    }\n",
       "</style>\n",
       "<table border=\"1\" class=\"dataframe\">\n",
       "  <thead>\n",
       "    <tr style=\"text-align: right;\">\n",
       "      <th></th>\n",
       "      <th>Game</th>\n",
       "      <th>Relation</th>\n",
       "      <th>Figure</th>\n",
       "      <th>Species</th>\n",
       "      <th>Console</th>\n",
       "      <th>Year</th>\n",
       "    </tr>\n",
       "  </thead>\n",
       "  <tbody>\n",
       "    <tr>\n",
       "      <th>0</th>\n",
       "      <td>mario &amp; luigi: dream team</td>\n",
       "      <td>BOSS_IN</td>\n",
       "      <td>antasma</td>\n",
       "      <td>bat</td>\n",
       "      <td>3DS</td>\n",
       "      <td>2013</td>\n",
       "    </tr>\n",
       "    <tr>\n",
       "      <th>1</th>\n",
       "      <td>mario &amp; luigi: paper jam</td>\n",
       "      <td>BOSS_IN</td>\n",
       "      <td>antasma</td>\n",
       "      <td>bat</td>\n",
       "      <td>3DS</td>\n",
       "      <td>2015</td>\n",
       "    </tr>\n",
       "    <tr>\n",
       "      <th>2</th>\n",
       "      <td>mario kart ds</td>\n",
       "      <td>BOSS_IN</td>\n",
       "      <td>black shy guy</td>\n",
       "      <td>None</td>\n",
       "      <td>DS</td>\n",
       "      <td>2005</td>\n",
       "    </tr>\n",
       "    <tr>\n",
       "      <th>3</th>\n",
       "      <td>paper mario</td>\n",
       "      <td>BOSS_IN</td>\n",
       "      <td>black shy guy</td>\n",
       "      <td>None</td>\n",
       "      <td>N64</td>\n",
       "      <td>2000</td>\n",
       "    </tr>\n",
       "    <tr>\n",
       "      <th>5</th>\n",
       "      <td>paper mario: color splash</td>\n",
       "      <td>BOSS_IN</td>\n",
       "      <td>black shy guy</td>\n",
       "      <td>None</td>\n",
       "      <td>WiiU</td>\n",
       "      <td>2016</td>\n",
       "    </tr>\n",
       "    <tr>\n",
       "      <th>...</th>\n",
       "      <td>...</td>\n",
       "      <td>...</td>\n",
       "      <td>...</td>\n",
       "      <td>...</td>\n",
       "      <td>...</td>\n",
       "      <td>...</td>\n",
       "    </tr>\n",
       "    <tr>\n",
       "      <th>8630</th>\n",
       "      <td>super mario bros. wonder</td>\n",
       "      <td>ENEMY_IN</td>\n",
       "      <td>wiggler</td>\n",
       "      <td>None</td>\n",
       "      <td>Switch</td>\n",
       "      <td>2023</td>\n",
       "    </tr>\n",
       "    <tr>\n",
       "      <th>8631</th>\n",
       "      <td>super mario party jamboree</td>\n",
       "      <td>ENEMY_IN</td>\n",
       "      <td>wiggler</td>\n",
       "      <td>None</td>\n",
       "      <td>Switch</td>\n",
       "      <td>2024</td>\n",
       "    </tr>\n",
       "    <tr>\n",
       "      <th>8632</th>\n",
       "      <td>super smash bros. brawl</td>\n",
       "      <td>ENEMY_IN</td>\n",
       "      <td>zinger</td>\n",
       "      <td>None</td>\n",
       "      <td>Wii</td>\n",
       "      <td>2008</td>\n",
       "    </tr>\n",
       "    <tr>\n",
       "      <th>8633</th>\n",
       "      <td>super smash bros. for wii u</td>\n",
       "      <td>ENEMY_IN</td>\n",
       "      <td>zinger</td>\n",
       "      <td>None</td>\n",
       "      <td>WiiU</td>\n",
       "      <td>2014</td>\n",
       "    </tr>\n",
       "    <tr>\n",
       "      <th>8634</th>\n",
       "      <td>super smash bros. ultimate</td>\n",
       "      <td>ENEMY_IN</td>\n",
       "      <td>zinger</td>\n",
       "      <td>None</td>\n",
       "      <td>Switch</td>\n",
       "      <td>2018</td>\n",
       "    </tr>\n",
       "  </tbody>\n",
       "</table>\n",
       "<p>6965 rows × 6 columns</p>\n",
       "</div>"
      ],
      "text/plain": [
       "                             Game  Relation         Figure Species Console  \\\n",
       "0       mario & luigi: dream team   BOSS_IN        antasma     bat     3DS   \n",
       "1        mario & luigi: paper jam   BOSS_IN        antasma     bat     3DS   \n",
       "2                   mario kart ds   BOSS_IN  black shy guy    None      DS   \n",
       "3                     paper mario   BOSS_IN  black shy guy    None     N64   \n",
       "5       paper mario: color splash   BOSS_IN  black shy guy    None    WiiU   \n",
       "...                           ...       ...            ...     ...     ...   \n",
       "8630     super mario bros. wonder  ENEMY_IN        wiggler    None  Switch   \n",
       "8631   super mario party jamboree  ENEMY_IN        wiggler    None  Switch   \n",
       "8632      super smash bros. brawl  ENEMY_IN         zinger    None     Wii   \n",
       "8633  super smash bros. for wii u  ENEMY_IN         zinger    None    WiiU   \n",
       "8634   super smash bros. ultimate  ENEMY_IN         zinger    None  Switch   \n",
       "\n",
       "      Year  \n",
       "0     2013  \n",
       "1     2015  \n",
       "2     2005  \n",
       "3     2000  \n",
       "5     2016  \n",
       "...    ...  \n",
       "8630  2023  \n",
       "8631  2024  \n",
       "8632  2008  \n",
       "8633  2014  \n",
       "8634  2018  \n",
       "\n",
       "[6965 rows x 6 columns]"
      ]
     },
     "execution_count": 40,
     "metadata": {},
     "output_type": "execute_result"
    }
   ],
   "source": [
    "merged_data"
   ]
  },
  {
   "cell_type": "code",
   "execution_count": 42,
   "id": "29a325e4",
   "metadata": {},
   "outputs": [],
   "source": [
    "# Remove rows where the 'Console' value appears less than 10 times\n",
    "console_counts = merged_data['Console'].value_counts()\n",
    "merged_data = merged_data[merged_data['Console'].isin(console_counts[console_counts > 10].index)]"
   ]
  },
  {
   "cell_type": "code",
   "execution_count": 43,
   "id": "2e57766d",
   "metadata": {},
   "outputs": [],
   "source": [
    "# Convert specified columns to lowercase, sales_df\n",
    "for column in ['Game']:\n",
    "    if column in sales_df.columns:\n",
    "        sales_df[column] = sales_df[column].astype(str).str.lower()\n",
    "    else:\n",
    "        print(f\"Warning: Column '{column}' not found in the dataset.\")"
   ]
  },
  {
   "cell_type": "code",
   "execution_count": 44,
   "id": "16829e30",
   "metadata": {},
   "outputs": [],
   "source": [
    "# Merge 'sales_df' with 'merged_data' on 'Game', keeping only the columns from merged_data\n",
    "sales_df = sales_df.rename(columns={'Platform': 'Console'})\n",
    "merged_data = merged_data.merge(\n",
    "     sales_df.groupby('Game')['Sales'].sum(),\n",
    "     on='Game',\n",
    "     how='left')"
   ]
  },
  {
   "cell_type": "code",
   "execution_count": 46,
   "id": "148074a1",
   "metadata": {},
   "outputs": [
    {
     "name": "stdout",
     "output_type": "stream",
     "text": [
      "✅ Merged data saved to 'merged_data.csv'.\n"
     ]
    },
    {
     "data": {
      "application/vnd.microsoft.datawrangler.viewer.v0+json": {
       "columns": [
        {
         "name": "index",
         "rawType": "int64",
         "type": "integer"
        },
        {
         "name": "Game",
         "rawType": "object",
         "type": "string"
        },
        {
         "name": "Relation",
         "rawType": "object",
         "type": "string"
        },
        {
         "name": "Figure",
         "rawType": "object",
         "type": "string"
        },
        {
         "name": "Species",
         "rawType": "object",
         "type": "unknown"
        },
        {
         "name": "Console",
         "rawType": "object",
         "type": "string"
        },
        {
         "name": "Year",
         "rawType": "Int64",
         "type": "integer"
        },
        {
         "name": "Sales",
         "rawType": "float64",
         "type": "float"
        }
       ],
       "ref": "33cdb696-6df1-4428-8a24-479e56a5b09a",
       "rows": [
        [
         "0",
         "mario & luigi: dream team",
         "BOSS_IN",
         "antasma",
         "bat",
         "3DS",
         "2013",
         "2.08"
        ],
        [
         "1",
         "mario & luigi: paper jam",
         "BOSS_IN",
         "antasma",
         "bat",
         "3DS",
         "2015",
         "0.76"
        ],
        [
         "2",
         "mario kart ds",
         "BOSS_IN",
         "black shy guy",
         null,
         "DS",
         "2005",
         "23.21"
        ],
        [
         "3",
         "paper mario",
         "BOSS_IN",
         "black shy guy",
         null,
         "N64",
         "2000",
         "1.38"
        ],
        [
         "4",
         "paper mario: color splash",
         "BOSS_IN",
         "black shy guy",
         null,
         "WiiU",
         "2016",
         "0.42"
        ],
        [
         "5",
         "mario kart tour",
         "BOSS_IN",
         "black shy guy",
         null,
         "Mobile",
         "2019",
         null
        ],
        [
         "6",
         "paper mario: the origami king",
         "BOSS_IN",
         "black shy guy",
         null,
         "Switch",
         "2020",
         null
        ],
        [
         "7",
         "super mario world",
         "BOSS_IN",
         "big boo",
         null,
         "SNES",
         "1990",
         "26.07"
        ],
        [
         "8",
         "super mario world",
         "BOSS_IN",
         "big boo",
         null,
         "Arcade",
         "1993",
         "26.07"
        ],
        [
         "9",
         "mario & luigi: superstar saga + bowser's minions",
         "BOSS_IN",
         "big boo",
         null,
         "3DS",
         "2017",
         null
        ],
        [
         "10",
         "luigi's mansion",
         "BOSS_IN",
         "big boo",
         null,
         "GC",
         "2001",
         "3.6"
        ],
        [
         "11",
         "luigi's mansion",
         "BOSS_IN",
         "big boo",
         null,
         "3DS",
         "2018",
         "3.6"
        ],
        [
         "12",
         "paper mario: the thousand-year door",
         "BOSS_IN",
         "big boo",
         null,
         "GC",
         "2004",
         "2.25"
        ],
        [
         "13",
         "paper mario: the thousand-year door",
         "BOSS_IN",
         "big boo",
         null,
         "Switch",
         "2024",
         "2.25"
        ],
        [
         "14",
         "mario & luigi: bowser's inside story + bowser jr.'s journey",
         "BOSS_IN",
         "big boo",
         null,
         "3DS",
         "2018",
         null
        ],
        [
         "15",
         "luigi's mansion: dark moon",
         "BOSS_IN",
         "big boo",
         null,
         "3DS",
         "2013",
         "4.59"
        ],
        [
         "16",
         "super paper mario",
         "BOSS_IN",
         "big boo",
         null,
         "Wii",
         "2007",
         "3.71"
        ],
        [
         "17",
         "super mario sunshine",
         "BOSS_IN",
         "big boo",
         "big boo;sleepy boo",
         "GC",
         "2002",
         "6.31"
        ],
        [
         "18",
         "paper mario: sticker star",
         "BOSS_IN",
         "big boo",
         null,
         "3DS",
         "2012",
         "2.3"
        ],
        [
         "19",
         "super mario advance 4: super mario bros. 3",
         "BOSS_IN",
         "big boo",
         null,
         "GBA",
         "2003",
         null
        ],
        [
         "20",
         "super mario galaxy",
         "BOSS_IN",
         "big boo",
         null,
         "Wii",
         "2007",
         "11.35"
        ],
        [
         "21",
         "new super mario bros. wii",
         "BOSS_IN",
         "big boo",
         null,
         "Wii",
         "2009",
         "28.32"
        ],
        [
         "22",
         "super mario galaxy 2",
         "BOSS_IN",
         "big boo",
         null,
         "Wii",
         "2010",
         "7.51"
        ],
        [
         "23",
         "super mario 3d land",
         "BOSS_IN",
         "big boo",
         null,
         "3DS",
         "2011",
         "10.81"
        ],
        [
         "24",
         "new super mario bros. 2",
         "BOSS_IN",
         "big boo",
         null,
         "3DS",
         "2012",
         "9.9"
        ],
        [
         "25",
         "mario party",
         "BOSS_IN",
         "big boo",
         "big boo;sleepy boo",
         "N64",
         "1998",
         "2.7"
        ],
        [
         "26",
         "mario party 2",
         "BOSS_IN",
         "big boo",
         "big boo;sleepy boo",
         "N64",
         "1999",
         "2.5"
        ],
        [
         "27",
         "mario party 4",
         "BOSS_IN",
         "big boo",
         "big boo;sleepy boo",
         "GC",
         "2002",
         "2.47"
        ],
        [
         "28",
         "mario party 6",
         "BOSS_IN",
         "big blooper",
         null,
         "GC",
         "2004",
         "1.65"
        ],
        [
         "29",
         "paper mario",
         "BOSS_IN",
         "big blooper",
         null,
         "N64",
         "2000",
         "1.38"
        ],
        [
         "30",
         "mario party 7",
         "BOSS_IN",
         "big blooper",
         null,
         "GC",
         "2005",
         "1.57"
        ],
        [
         "31",
         "paper mario: the thousand-year door",
         "BOSS_IN",
         "big blooper",
         null,
         "GC",
         "2004",
         "2.25"
        ],
        [
         "32",
         "paper mario: the thousand-year door",
         "BOSS_IN",
         "big blooper",
         null,
         "Switch",
         "2024",
         "2.25"
        ],
        [
         "33",
         "mario party 9",
         "BOSS_IN",
         "big blooper",
         null,
         "Wii",
         "2012",
         "3.13"
        ],
        [
         "34",
         "super paper mario",
         "BOSS_IN",
         "big blooper",
         null,
         "Wii",
         "2007",
         "3.71"
        ],
        [
         "35",
         "mario party 10",
         "BOSS_IN",
         "big blooper",
         null,
         "WiiU",
         "2015",
         "1.58"
        ],
        [
         "36",
         "paper mario: the origami king",
         "BOSS_IN",
         "big blooper",
         null,
         "Switch",
         "2020",
         null
        ],
        [
         "37",
         "mario party: star rush",
         "BOSS_IN",
         "big blooper",
         null,
         "3DS",
         "2016",
         "0.3"
        ],
        [
         "38",
         "super mario party",
         "BOSS_IN",
         "big blooper",
         null,
         "Switch",
         "2018",
         null
        ],
        [
         "39",
         "new super mario bros. u",
         "BOSS_IN",
         "big buzzy beetle",
         null,
         "WiiU",
         "2012",
         "5.22"
        ],
        [
         "40",
         "paper mario: sticker star",
         "BOSS_IN",
         "big buzzy beetle",
         null,
         "3DS",
         "2012",
         "2.3"
        ],
        [
         "41",
         "paper mario: color splash",
         "BOSS_IN",
         "big buzzy beetle",
         null,
         "WiiU",
         "2016",
         "0.42"
        ],
        [
         "42",
         "new super mario bros. wii",
         "BOSS_IN",
         "big chain chomp",
         null,
         "Wii",
         "2009",
         "28.32"
        ],
        [
         "43",
         "paper mario: sticker star",
         "BOSS_IN",
         "big chain chomp",
         null,
         "3DS",
         "2012",
         "2.3"
        ],
        [
         "44",
         "new super mario bros. 2",
         "BOSS_IN",
         "big chain chomp",
         null,
         "3DS",
         "2012",
         "9.9"
        ],
        [
         "45",
         "paper mario: color splash",
         "BOSS_IN",
         "big chain chomp",
         null,
         "WiiU",
         "2016",
         "0.42"
        ],
        [
         "46",
         "super mario odyssey",
         "BOSS_IN",
         "big chain chomp",
         null,
         "Switch",
         "2017",
         null
        ],
        [
         "47",
         "super mario maker 2",
         "BOSS_IN",
         "big chain chomp",
         null,
         "Switch",
         "2019",
         null
        ],
        [
         "48",
         "new super mario bros. wii",
         "BOSS_IN",
         "big fire piranha",
         null,
         "Wii",
         "2009",
         "28.32"
        ],
        [
         "49",
         "new super mario bros. 2",
         "BOSS_IN",
         "big fire piranha",
         null,
         "3DS",
         "2012",
         "9.9"
        ]
       ],
       "shape": {
        "columns": 7,
        "rows": 6958
       }
      },
      "text/html": [
       "<div>\n",
       "<style scoped>\n",
       "    .dataframe tbody tr th:only-of-type {\n",
       "        vertical-align: middle;\n",
       "    }\n",
       "\n",
       "    .dataframe tbody tr th {\n",
       "        vertical-align: top;\n",
       "    }\n",
       "\n",
       "    .dataframe thead th {\n",
       "        text-align: right;\n",
       "    }\n",
       "</style>\n",
       "<table border=\"1\" class=\"dataframe\">\n",
       "  <thead>\n",
       "    <tr style=\"text-align: right;\">\n",
       "      <th></th>\n",
       "      <th>Game</th>\n",
       "      <th>Relation</th>\n",
       "      <th>Figure</th>\n",
       "      <th>Species</th>\n",
       "      <th>Console</th>\n",
       "      <th>Year</th>\n",
       "      <th>Sales</th>\n",
       "    </tr>\n",
       "  </thead>\n",
       "  <tbody>\n",
       "    <tr>\n",
       "      <th>0</th>\n",
       "      <td>mario &amp; luigi: dream team</td>\n",
       "      <td>BOSS_IN</td>\n",
       "      <td>antasma</td>\n",
       "      <td>bat</td>\n",
       "      <td>3DS</td>\n",
       "      <td>2013</td>\n",
       "      <td>2.08</td>\n",
       "    </tr>\n",
       "    <tr>\n",
       "      <th>1</th>\n",
       "      <td>mario &amp; luigi: paper jam</td>\n",
       "      <td>BOSS_IN</td>\n",
       "      <td>antasma</td>\n",
       "      <td>bat</td>\n",
       "      <td>3DS</td>\n",
       "      <td>2015</td>\n",
       "      <td>0.76</td>\n",
       "    </tr>\n",
       "    <tr>\n",
       "      <th>2</th>\n",
       "      <td>mario kart ds</td>\n",
       "      <td>BOSS_IN</td>\n",
       "      <td>black shy guy</td>\n",
       "      <td>None</td>\n",
       "      <td>DS</td>\n",
       "      <td>2005</td>\n",
       "      <td>23.21</td>\n",
       "    </tr>\n",
       "    <tr>\n",
       "      <th>3</th>\n",
       "      <td>paper mario</td>\n",
       "      <td>BOSS_IN</td>\n",
       "      <td>black shy guy</td>\n",
       "      <td>None</td>\n",
       "      <td>N64</td>\n",
       "      <td>2000</td>\n",
       "      <td>1.38</td>\n",
       "    </tr>\n",
       "    <tr>\n",
       "      <th>4</th>\n",
       "      <td>paper mario: color splash</td>\n",
       "      <td>BOSS_IN</td>\n",
       "      <td>black shy guy</td>\n",
       "      <td>None</td>\n",
       "      <td>WiiU</td>\n",
       "      <td>2016</td>\n",
       "      <td>0.42</td>\n",
       "    </tr>\n",
       "    <tr>\n",
       "      <th>...</th>\n",
       "      <td>...</td>\n",
       "      <td>...</td>\n",
       "      <td>...</td>\n",
       "      <td>...</td>\n",
       "      <td>...</td>\n",
       "      <td>...</td>\n",
       "      <td>...</td>\n",
       "    </tr>\n",
       "    <tr>\n",
       "      <th>6953</th>\n",
       "      <td>super mario bros. wonder</td>\n",
       "      <td>ENEMY_IN</td>\n",
       "      <td>wiggler</td>\n",
       "      <td>None</td>\n",
       "      <td>Switch</td>\n",
       "      <td>2023</td>\n",
       "      <td>NaN</td>\n",
       "    </tr>\n",
       "    <tr>\n",
       "      <th>6954</th>\n",
       "      <td>super mario party jamboree</td>\n",
       "      <td>ENEMY_IN</td>\n",
       "      <td>wiggler</td>\n",
       "      <td>None</td>\n",
       "      <td>Switch</td>\n",
       "      <td>2024</td>\n",
       "      <td>NaN</td>\n",
       "    </tr>\n",
       "    <tr>\n",
       "      <th>6955</th>\n",
       "      <td>super smash bros. brawl</td>\n",
       "      <td>ENEMY_IN</td>\n",
       "      <td>zinger</td>\n",
       "      <td>None</td>\n",
       "      <td>Wii</td>\n",
       "      <td>2008</td>\n",
       "      <td>12.84</td>\n",
       "    </tr>\n",
       "    <tr>\n",
       "      <th>6956</th>\n",
       "      <td>super smash bros. for wii u</td>\n",
       "      <td>ENEMY_IN</td>\n",
       "      <td>zinger</td>\n",
       "      <td>None</td>\n",
       "      <td>WiiU</td>\n",
       "      <td>2014</td>\n",
       "      <td>NaN</td>\n",
       "    </tr>\n",
       "    <tr>\n",
       "      <th>6957</th>\n",
       "      <td>super smash bros. ultimate</td>\n",
       "      <td>ENEMY_IN</td>\n",
       "      <td>zinger</td>\n",
       "      <td>None</td>\n",
       "      <td>Switch</td>\n",
       "      <td>2018</td>\n",
       "      <td>NaN</td>\n",
       "    </tr>\n",
       "  </tbody>\n",
       "</table>\n",
       "<p>6958 rows × 7 columns</p>\n",
       "</div>"
      ],
      "text/plain": [
       "                             Game  Relation         Figure Species Console  \\\n",
       "0       mario & luigi: dream team   BOSS_IN        antasma     bat     3DS   \n",
       "1        mario & luigi: paper jam   BOSS_IN        antasma     bat     3DS   \n",
       "2                   mario kart ds   BOSS_IN  black shy guy    None      DS   \n",
       "3                     paper mario   BOSS_IN  black shy guy    None     N64   \n",
       "4       paper mario: color splash   BOSS_IN  black shy guy    None    WiiU   \n",
       "...                           ...       ...            ...     ...     ...   \n",
       "6953     super mario bros. wonder  ENEMY_IN        wiggler    None  Switch   \n",
       "6954   super mario party jamboree  ENEMY_IN        wiggler    None  Switch   \n",
       "6955      super smash bros. brawl  ENEMY_IN         zinger    None     Wii   \n",
       "6956  super smash bros. for wii u  ENEMY_IN         zinger    None    WiiU   \n",
       "6957   super smash bros. ultimate  ENEMY_IN         zinger    None  Switch   \n",
       "\n",
       "      Year  Sales  \n",
       "0     2013   2.08  \n",
       "1     2015   0.76  \n",
       "2     2005  23.21  \n",
       "3     2000   1.38  \n",
       "4     2016   0.42  \n",
       "...    ...    ...  \n",
       "6953  2023    NaN  \n",
       "6954  2024    NaN  \n",
       "6955  2008  12.84  \n",
       "6956  2014    NaN  \n",
       "6957  2018    NaN  \n",
       "\n",
       "[6958 rows x 7 columns]"
      ]
     },
     "execution_count": 46,
     "metadata": {},
     "output_type": "execute_result"
    }
   ],
   "source": [
    "# Save the final DataFrame to a CSV file\n",
    "merged_data.to_csv(\"data/merged_data.csv\", index=False)\n",
    "print(\"✅ Merged data saved to 'merged_data.csv'.\")\n",
    "# Display the final merged DataFrame\n",
    "merged_data"
   ]
  },
  {
   "cell_type": "markdown",
   "id": "e7b118c6",
   "metadata": {},
   "source": [
    "## From API data"
   ]
  },
  {
   "cell_type": "code",
   "execution_count": 30,
   "id": "ae05b636",
   "metadata": {},
   "outputs": [],
   "source": [
    "# Prepare API Relationship data\n",
    "\n",
    "# Create a master map of characters to their species from the initial data.\n",
    "# This will be used to enrich the relationship data.\n",
    "initial_figures_df = pd.concat([\n",
    "    bosses_df[['Boss', 'Species']].rename(columns={'Boss': 'Figure'}),\n",
    "    characters_df[['Character', 'Species']].rename(columns={'Character': 'Figure'}),\n",
    "    enemies_df[['Enemy']].rename(columns={'Enemy': 'Figure'})\n",
    "], ignore_index=True)\n",
    "initial_figures_df['Figure'] = initial_figures_df['Figure'].str.replace(r'[_\"]', ' ', regex=True)\n",
    "initial_figures_df['Figure'] = initial_figures_df['Figure'].str.lower().str.replace(r'\\s*\\(.*\\)', '', regex=True).str.strip()\n",
    "character_species_map = initial_figures_df.dropna(subset=['Figure', 'Species']).drop_duplicates(subset=['Figure']).set_index('Figure')['Species']\n",
    "#character_species_map = initial_figures_df.dropna(subset=['Figure']).drop_duplicates(subset=['Figure']).set_index('Figure')['Species']\n",
    "\n",
    "# Load and process the relationships data from the API\n",
    "relationships_df = pd.read_csv(\"data/general_character_relationships.csv\")\n",
    "relationships_df['RelationshipType'] = relationships_df['RelationshipType'].replace({\n",
    "    'Friend': 'FRIEND_WITH',\n",
    "    'Enemy': 'ENEMY_WITH'\n",
    "})\n",
    "# Ensure 'Character' and 'RelatedCharacter' are in lowercase\n",
    "relationships_df['Character'] = relationships_df['Character'].str.lower()\n",
    "relationships_df['RelatedCharacter'] = relationships_df['RelatedCharacter'].str.lower()\n",
    "\n",
    "# Enrich the relationship data with species information using the map\n",
    "relationships_df['FigureSpecies'] = relationships_df['Character'].map(character_species_map)\n",
    "relationships_df['RelatedCharacterSpecies'] = relationships_df['RelatedCharacter'].map(character_species_map)"
   ]
  },
  {
   "cell_type": "code",
   "execution_count": 31,
   "id": "923a6e39",
   "metadata": {},
   "outputs": [
    {
     "name": "stdout",
     "output_type": "stream",
     "text": [
      "✅ Enriched API relationship data saved to 'merged_data_API.csv'.\n"
     ]
    },
    {
     "data": {
      "application/vnd.microsoft.datawrangler.viewer.v0+json": {
       "columns": [
        {
         "name": "index",
         "rawType": "int64",
         "type": "integer"
        },
        {
         "name": "Figure",
         "rawType": "object",
         "type": "string"
        },
        {
         "name": "RelatedCharacter",
         "rawType": "object",
         "type": "string"
        },
        {
         "name": "RelationshipType",
         "rawType": "object",
         "type": "string"
        },
        {
         "name": "FigureSpecies",
         "rawType": "object",
         "type": "unknown"
        },
        {
         "name": "RelatedCharacterSpecies",
         "rawType": "object",
         "type": "unknown"
        }
       ],
       "ref": "def6292f-a216-4558-baf1-c07fa3311753",
       "rows": [
        [
         "0",
         "mario",
         "admiral bobbery",
         "FRIEND_WITH",
         "Human",
         null
        ],
        [
         "1",
         "mario",
         "birdo",
         "FRIEND_WITH",
         "Human",
         null
        ],
        [
         "2",
         "mario",
         "bombette",
         "FRIEND_WITH",
         "Human",
         null
        ],
        [
         "3",
         "mario",
         "bowser",
         "FRIEND_WITH",
         "Human",
         "Koopa"
        ],
        [
         "4",
         "mario",
         "brighton",
         "FRIEND_WITH",
         "Human",
         null
        ],
        [
         "5",
         "mario",
         "cappy",
         "FRIEND_WITH",
         "Human",
         "Bonneter"
        ],
        [
         "6",
         "mario",
         "captain falcon",
         "FRIEND_WITH",
         "Human",
         null
        ],
        [
         "7",
         "mario",
         "captain toad",
         "FRIEND_WITH",
         "Human",
         "Toad"
        ],
        [
         "8",
         "mario",
         "cranky kong",
         "FRIEND_WITH",
         "Human",
         "Kong"
        ],
        [
         "9",
         "mario",
         "diddy kong",
         "FRIEND_WITH",
         "Human",
         "Kong"
        ],
        [
         "10",
         "mario",
         "dixie kong",
         "FRIEND_WITH",
         "Human",
         "Kong"
        ],
        [
         "11",
         "mario",
         "donkey kong",
         "FRIEND_WITH",
         "Human",
         "Kong"
        ],
        [
         "12",
         "mario",
         "f.l.u.d.d.",
         "FRIEND_WITH",
         "Human",
         "Robot"
        ],
        [
         "13",
         "mario",
         "fox mccloud",
         "FRIEND_WITH",
         "Human",
         null
        ],
        [
         "14",
         "mario",
         "geno",
         "FRIEND_WITH",
         "Human",
         "Star"
        ],
        [
         "15",
         "mario",
         "goombario",
         "FRIEND_WITH",
         "Human",
         null
        ],
        [
         "16",
         "mario",
         "goombella",
         "FRIEND_WITH",
         "Human",
         null
        ],
        [
         "17",
         "mario",
         "huey",
         "FRIEND_WITH",
         "Human",
         null
        ],
        [
         "18",
         "mario",
         "kid",
         "FRIEND_WITH",
         "Human",
         null
        ],
        [
         "19",
         "mario",
         "kirby",
         "FRIEND_WITH",
         "Human",
         "Kirby"
        ],
        [
         "20",
         "mario",
         "kolorado",
         "FRIEND_WITH",
         "Human",
         null
        ],
        [
         "21",
         "mario",
         "kooper",
         "FRIEND_WITH",
         "Human",
         null
        ],
        [
         "22",
         "mario",
         "koops",
         "FRIEND_WITH",
         "Human",
         null
        ],
        [
         "23",
         "mario",
         "lady bow",
         "FRIEND_WITH",
         "Human",
         null
        ],
        [
         "24",
         "mario",
         "lakilester",
         "FRIEND_WITH",
         "Human",
         "Lakitu"
        ],
        [
         "25",
         "mario",
         "link",
         "FRIEND_WITH",
         "Human",
         "Hylian"
        ],
        [
         "26",
         "mario",
         "little mac",
         "FRIEND_WITH",
         "Human",
         null
        ],
        [
         "27",
         "mario",
         "luigi",
         "FRIEND_WITH",
         "Human",
         "Human"
        ],
        [
         "28",
         "mario",
         "luma",
         "FRIEND_WITH",
         "Human",
         null
        ],
        [
         "29",
         "mario",
         "madame flurrie",
         "FRIEND_WITH",
         "Human",
         null
        ],
        [
         "30",
         "mario",
         "mallow",
         "FRIEND_WITH",
         "Human",
         null
        ],
        [
         "31",
         "mario",
         "mega man",
         "FRIEND_WITH",
         "Human",
         null
        ],
        [
         "32",
         "mario",
         "mini-yoshi",
         "FRIEND_WITH",
         "Human",
         null
        ],
        [
         "33",
         "mario",
         "mr. game & watch",
         "FRIEND_WITH",
         "Human",
         null
        ],
        [
         "34",
         "mario",
         "ms. mowz",
         "FRIEND_WITH",
         "Human",
         null
        ],
        [
         "35",
         "mario",
         "ness",
         "FRIEND_WITH",
         "Human",
         null
        ],
        [
         "36",
         "mario",
         "pac-man",
         "FRIEND_WITH",
         "Human",
         null
        ],
        [
         "37",
         "mario",
         "parakarry",
         "FRIEND_WITH",
         "Human",
         null
        ],
        [
         "38",
         "mario",
         "pikachu",
         "FRIEND_WITH",
         "Human",
         null
        ],
        [
         "39",
         "mario",
         "pit",
         "FRIEND_WITH",
         "Human",
         null
        ],
        [
         "40",
         "mario",
         "prince florian",
         "FRIEND_WITH",
         "Human",
         null
        ],
        [
         "41",
         "mario",
         "princess daisy",
         "FRIEND_WITH",
         "Human",
         "Human"
        ],
        [
         "42",
         "mario",
         "princess peach",
         "FRIEND_WITH",
         "Human",
         "Human"
        ],
        [
         "43",
         "mario",
         "professor e. gadd",
         "FRIEND_WITH",
         "Human",
         "Human"
        ],
        [
         "44",
         "mario",
         "rosalina",
         "FRIEND_WITH",
         "Human",
         "Human"
        ],
        [
         "45",
         "mario",
         "ryu",
         "FRIEND_WITH",
         "Human",
         null
        ],
        [
         "46",
         "mario",
         "samus aran",
         "FRIEND_WITH",
         "Human",
         null
        ],
        [
         "47",
         "mario",
         "sonic the hedgehog",
         "FRIEND_WITH",
         "Human",
         "Hedgehog"
        ],
        [
         "48",
         "mario",
         "starlow",
         "FRIEND_WITH",
         "Human",
         "Star Sprite"
        ],
        [
         "49",
         "mario",
         "sushie",
         "FRIEND_WITH",
         "Human",
         null
        ]
       ],
       "shape": {
        "columns": 5,
        "rows": 2524
       }
      },
      "text/html": [
       "<div>\n",
       "<style scoped>\n",
       "    .dataframe tbody tr th:only-of-type {\n",
       "        vertical-align: middle;\n",
       "    }\n",
       "\n",
       "    .dataframe tbody tr th {\n",
       "        vertical-align: top;\n",
       "    }\n",
       "\n",
       "    .dataframe thead th {\n",
       "        text-align: right;\n",
       "    }\n",
       "</style>\n",
       "<table border=\"1\" class=\"dataframe\">\n",
       "  <thead>\n",
       "    <tr style=\"text-align: right;\">\n",
       "      <th></th>\n",
       "      <th>Figure</th>\n",
       "      <th>RelatedCharacter</th>\n",
       "      <th>RelationshipType</th>\n",
       "      <th>FigureSpecies</th>\n",
       "      <th>RelatedCharacterSpecies</th>\n",
       "    </tr>\n",
       "  </thead>\n",
       "  <tbody>\n",
       "    <tr>\n",
       "      <th>0</th>\n",
       "      <td>mario</td>\n",
       "      <td>admiral bobbery</td>\n",
       "      <td>FRIEND_WITH</td>\n",
       "      <td>Human</td>\n",
       "      <td>NaN</td>\n",
       "    </tr>\n",
       "    <tr>\n",
       "      <th>1</th>\n",
       "      <td>mario</td>\n",
       "      <td>birdo</td>\n",
       "      <td>FRIEND_WITH</td>\n",
       "      <td>Human</td>\n",
       "      <td>NaN</td>\n",
       "    </tr>\n",
       "    <tr>\n",
       "      <th>2</th>\n",
       "      <td>mario</td>\n",
       "      <td>bombette</td>\n",
       "      <td>FRIEND_WITH</td>\n",
       "      <td>Human</td>\n",
       "      <td>NaN</td>\n",
       "    </tr>\n",
       "    <tr>\n",
       "      <th>3</th>\n",
       "      <td>mario</td>\n",
       "      <td>bowser</td>\n",
       "      <td>FRIEND_WITH</td>\n",
       "      <td>Human</td>\n",
       "      <td>Koopa</td>\n",
       "    </tr>\n",
       "    <tr>\n",
       "      <th>4</th>\n",
       "      <td>mario</td>\n",
       "      <td>brighton</td>\n",
       "      <td>FRIEND_WITH</td>\n",
       "      <td>Human</td>\n",
       "      <td>NaN</td>\n",
       "    </tr>\n",
       "    <tr>\n",
       "      <th>...</th>\n",
       "      <td>...</td>\n",
       "      <td>...</td>\n",
       "      <td>...</td>\n",
       "      <td>...</td>\n",
       "      <td>...</td>\n",
       "    </tr>\n",
       "    <tr>\n",
       "      <th>2519</th>\n",
       "      <td>zoda</td>\n",
       "      <td>luna ryder</td>\n",
       "      <td>ENEMY_WITH</td>\n",
       "      <td>NaN</td>\n",
       "      <td>NaN</td>\n",
       "    </tr>\n",
       "    <tr>\n",
       "      <th>2520</th>\n",
       "      <td>zoda</td>\n",
       "      <td>mrs. arrow</td>\n",
       "      <td>ENEMY_WITH</td>\n",
       "      <td>NaN</td>\n",
       "      <td>NaN</td>\n",
       "    </tr>\n",
       "    <tr>\n",
       "      <th>2521</th>\n",
       "      <td>zoda</td>\n",
       "      <td>rick wheeler</td>\n",
       "      <td>ENEMY_WITH</td>\n",
       "      <td>NaN</td>\n",
       "      <td>NaN</td>\n",
       "    </tr>\n",
       "    <tr>\n",
       "      <th>2522</th>\n",
       "      <td>zoda</td>\n",
       "      <td>samurai goroh</td>\n",
       "      <td>ENEMY_WITH</td>\n",
       "      <td>NaN</td>\n",
       "      <td>NaN</td>\n",
       "    </tr>\n",
       "    <tr>\n",
       "      <th>2523</th>\n",
       "      <td>zoda</td>\n",
       "      <td>super arrow</td>\n",
       "      <td>ENEMY_WITH</td>\n",
       "      <td>NaN</td>\n",
       "      <td>NaN</td>\n",
       "    </tr>\n",
       "  </tbody>\n",
       "</table>\n",
       "<p>2524 rows × 5 columns</p>\n",
       "</div>"
      ],
      "text/plain": [
       "     Figure RelatedCharacter RelationshipType FigureSpecies  \\\n",
       "0     mario  admiral bobbery      FRIEND_WITH         Human   \n",
       "1     mario            birdo      FRIEND_WITH         Human   \n",
       "2     mario         bombette      FRIEND_WITH         Human   \n",
       "3     mario           bowser      FRIEND_WITH         Human   \n",
       "4     mario         brighton      FRIEND_WITH         Human   \n",
       "...     ...              ...              ...           ...   \n",
       "2519   zoda       luna ryder       ENEMY_WITH           NaN   \n",
       "2520   zoda       mrs. arrow       ENEMY_WITH           NaN   \n",
       "2521   zoda     rick wheeler       ENEMY_WITH           NaN   \n",
       "2522   zoda    samurai goroh       ENEMY_WITH           NaN   \n",
       "2523   zoda      super arrow       ENEMY_WITH           NaN   \n",
       "\n",
       "     RelatedCharacterSpecies  \n",
       "0                        NaN  \n",
       "1                        NaN  \n",
       "2                        NaN  \n",
       "3                      Koopa  \n",
       "4                        NaN  \n",
       "...                      ...  \n",
       "2519                     NaN  \n",
       "2520                     NaN  \n",
       "2521                     NaN  \n",
       "2522                     NaN  \n",
       "2523                     NaN  \n",
       "\n",
       "[2524 rows x 5 columns]"
      ]
     },
     "execution_count": 31,
     "metadata": {},
     "output_type": "execute_result"
    }
   ],
   "source": [
    "# Create the final API relationship file\n",
    "\n",
    "# Rename 'Character' to 'Figure' for consistency with the graph importer\n",
    "merged_data_API = relationships_df.rename(columns={'Character': 'Figure'})\n",
    "\n",
    "# Clean up and save the final API data file\n",
    "merged_data_API.dropna(subset=['Figure', 'RelatedCharacter', 'RelationshipType'], inplace=True)\n",
    "merged_data_API = merged_data_API.drop_duplicates().reset_index(drop=True)\n",
    "merged_data_API.to_csv(\"data/merged_data_API.csv\", index=False)\n",
    "\n",
    "print(\"✅ Enriched API relationship data saved to 'merged_data_API.csv'.\")\n",
    "merged_data_API"
   ]
  }
 ],
 "metadata": {
  "kernelspec": {
   "display_name": "Python 3",
   "language": "python",
   "name": "python3"
  },
  "language_info": {
   "codemirror_mode": {
    "name": "ipython",
    "version": 3
   },
   "file_extension": ".py",
   "mimetype": "text/x-python",
   "name": "python",
   "nbconvert_exporter": "python",
   "pygments_lexer": "ipython3",
   "version": "3.13.5"
  }
 },
 "nbformat": 4,
 "nbformat_minor": 5
}
